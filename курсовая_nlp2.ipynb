{
  "cells": [
    {
      "cell_type": "markdown",
      "source": [
        "NLP это широкое направление в области ИИ, которая включает в себя множество задач, одной из них является машинный перевод. Моя работа посвящена обработки текста для дальнейшего применения его в задаче перевода.\n",
        "\n",
        "**Целью** работы является подготовка и обработка данных для модели глубокого обучения, создание модели.\n",
        "\n",
        "Задачи:\n",
        "\n",
        "1. Сбор данных\n",
        "\n",
        "2. Подготовка данных к обработке\n",
        "\n",
        "3. Обработка данных\n",
        "\n",
        "4. Создание модели\n",
        "\n",
        "5. Обработка данных другим способ\n",
        "\n",
        "6. Создание другой модели\n",
        "\n",
        "7. Сравнение и тестирование моделей\n",
        "\n",
        "8. Вывод"
      ],
      "metadata": {
        "id": "qdw7FzenZ6d3"
      }
    },
    {
      "cell_type": "code",
      "execution_count": 1,
      "metadata": {
        "id": "I-QArbM9Vb_a"
      },
      "outputs": [],
      "source": [
        "import pandas as pd\n",
        "import string\n",
        "import re\n",
        "import time\n",
        "import tensorflow as tf\n",
        "from sklearn.utils import shuffle\n",
        "from keras.models import Model\n",
        "from keras.layers import Input, LSTM, GRU, Dense, Embedding\n",
        "from keras.preprocessing.text import Tokenizer\n",
        "from keras.preprocessing.sequence import pad_sequences\n",
        "import numpy as np\n",
        "import seaborn as sns\n",
        "import matplotlib.pyplot as plt\n",
        "import nltk.translate.bleu_score as bleu"
      ]
    },
    {
      "cell_type": "markdown",
      "source": [
        "# Сбор данных"
      ],
      "metadata": {
        "id": "plhnVoB1lXlg"
      }
    },
    {
      "cell_type": "markdown",
      "metadata": {
        "id": "iutanaK35ccR"
      },
      "source": [
        "датасет: https://www.kaggle.com/datasets/hijest/englishrussian-dictionary-for-machine-translate/data"
      ]
    },
    {
      "cell_type": "markdown",
      "metadata": {
        "id": "cQKVtnOvhn0u"
      },
      "source": [
        "Загрузим данные"
      ]
    },
    {
      "cell_type": "code",
      "execution_count": 2,
      "metadata": {
        "colab": {
          "base_uri": "https://localhost:8080/",
          "height": 204
        },
        "id": "jQJ7jwyHVdsw",
        "outputId": "fe7a9265-7599-4f65-bccc-0ebc0eeb093e"
      },
      "outputs": [
        {
          "output_type": "execute_result",
          "data": {
            "text/plain": [
              "     0              1                                                  2\n",
              "0  Go.          Марш!  CC-BY 2.0 (France) Attribution: tatoeba.org #2...\n",
              "1  Go.           Иди.  CC-BY 2.0 (France) Attribution: tatoeba.org #2...\n",
              "2  Go.         Идите.  CC-BY 2.0 (France) Attribution: tatoeba.org #2...\n",
              "3  Hi.  Здравствуйте.  CC-BY 2.0 (France) Attribution: tatoeba.org #5...\n",
              "4  Hi.        Привет!  CC-BY 2.0 (France) Attribution: tatoeba.org #5..."
            ],
            "text/html": [
              "\n",
              "  <div id=\"df-05f2810c-f558-42b0-9472-9c0e72aa6bcc\" class=\"colab-df-container\">\n",
              "    <div>\n",
              "<style scoped>\n",
              "    .dataframe tbody tr th:only-of-type {\n",
              "        vertical-align: middle;\n",
              "    }\n",
              "\n",
              "    .dataframe tbody tr th {\n",
              "        vertical-align: top;\n",
              "    }\n",
              "\n",
              "    .dataframe thead th {\n",
              "        text-align: right;\n",
              "    }\n",
              "</style>\n",
              "<table border=\"1\" class=\"dataframe\">\n",
              "  <thead>\n",
              "    <tr style=\"text-align: right;\">\n",
              "      <th></th>\n",
              "      <th>0</th>\n",
              "      <th>1</th>\n",
              "      <th>2</th>\n",
              "    </tr>\n",
              "  </thead>\n",
              "  <tbody>\n",
              "    <tr>\n",
              "      <th>0</th>\n",
              "      <td>Go.</td>\n",
              "      <td>Марш!</td>\n",
              "      <td>CC-BY 2.0 (France) Attribution: tatoeba.org #2...</td>\n",
              "    </tr>\n",
              "    <tr>\n",
              "      <th>1</th>\n",
              "      <td>Go.</td>\n",
              "      <td>Иди.</td>\n",
              "      <td>CC-BY 2.0 (France) Attribution: tatoeba.org #2...</td>\n",
              "    </tr>\n",
              "    <tr>\n",
              "      <th>2</th>\n",
              "      <td>Go.</td>\n",
              "      <td>Идите.</td>\n",
              "      <td>CC-BY 2.0 (France) Attribution: tatoeba.org #2...</td>\n",
              "    </tr>\n",
              "    <tr>\n",
              "      <th>3</th>\n",
              "      <td>Hi.</td>\n",
              "      <td>Здравствуйте.</td>\n",
              "      <td>CC-BY 2.0 (France) Attribution: tatoeba.org #5...</td>\n",
              "    </tr>\n",
              "    <tr>\n",
              "      <th>4</th>\n",
              "      <td>Hi.</td>\n",
              "      <td>Привет!</td>\n",
              "      <td>CC-BY 2.0 (France) Attribution: tatoeba.org #5...</td>\n",
              "    </tr>\n",
              "  </tbody>\n",
              "</table>\n",
              "</div>\n",
              "    <div class=\"colab-df-buttons\">\n",
              "\n",
              "  <div class=\"colab-df-container\">\n",
              "    <button class=\"colab-df-convert\" onclick=\"convertToInteractive('df-05f2810c-f558-42b0-9472-9c0e72aa6bcc')\"\n",
              "            title=\"Convert this dataframe to an interactive table.\"\n",
              "            style=\"display:none;\">\n",
              "\n",
              "  <svg xmlns=\"http://www.w3.org/2000/svg\" height=\"24px\" viewBox=\"0 -960 960 960\">\n",
              "    <path d=\"M120-120v-720h720v720H120Zm60-500h600v-160H180v160Zm220 220h160v-160H400v160Zm0 220h160v-160H400v160ZM180-400h160v-160H180v160Zm440 0h160v-160H620v160ZM180-180h160v-160H180v160Zm440 0h160v-160H620v160Z\"/>\n",
              "  </svg>\n",
              "    </button>\n",
              "\n",
              "  <style>\n",
              "    .colab-df-container {\n",
              "      display:flex;\n",
              "      gap: 12px;\n",
              "    }\n",
              "\n",
              "    .colab-df-convert {\n",
              "      background-color: #E8F0FE;\n",
              "      border: none;\n",
              "      border-radius: 50%;\n",
              "      cursor: pointer;\n",
              "      display: none;\n",
              "      fill: #1967D2;\n",
              "      height: 32px;\n",
              "      padding: 0 0 0 0;\n",
              "      width: 32px;\n",
              "    }\n",
              "\n",
              "    .colab-df-convert:hover {\n",
              "      background-color: #E2EBFA;\n",
              "      box-shadow: 0px 1px 2px rgba(60, 64, 67, 0.3), 0px 1px 3px 1px rgba(60, 64, 67, 0.15);\n",
              "      fill: #174EA6;\n",
              "    }\n",
              "\n",
              "    .colab-df-buttons div {\n",
              "      margin-bottom: 4px;\n",
              "    }\n",
              "\n",
              "    [theme=dark] .colab-df-convert {\n",
              "      background-color: #3B4455;\n",
              "      fill: #D2E3FC;\n",
              "    }\n",
              "\n",
              "    [theme=dark] .colab-df-convert:hover {\n",
              "      background-color: #434B5C;\n",
              "      box-shadow: 0px 1px 3px 1px rgba(0, 0, 0, 0.15);\n",
              "      filter: drop-shadow(0px 1px 2px rgba(0, 0, 0, 0.3));\n",
              "      fill: #FFFFFF;\n",
              "    }\n",
              "  </style>\n",
              "\n",
              "    <script>\n",
              "      const buttonEl =\n",
              "        document.querySelector('#df-05f2810c-f558-42b0-9472-9c0e72aa6bcc button.colab-df-convert');\n",
              "      buttonEl.style.display =\n",
              "        google.colab.kernel.accessAllowed ? 'block' : 'none';\n",
              "\n",
              "      async function convertToInteractive(key) {\n",
              "        const element = document.querySelector('#df-05f2810c-f558-42b0-9472-9c0e72aa6bcc');\n",
              "        const dataTable =\n",
              "          await google.colab.kernel.invokeFunction('convertToInteractive',\n",
              "                                                    [key], {});\n",
              "        if (!dataTable) return;\n",
              "\n",
              "        const docLinkHtml = 'Like what you see? Visit the ' +\n",
              "          '<a target=\"_blank\" href=https://colab.research.google.com/notebooks/data_table.ipynb>data table notebook</a>'\n",
              "          + ' to learn more about interactive tables.';\n",
              "        element.innerHTML = '';\n",
              "        dataTable['output_type'] = 'display_data';\n",
              "        await google.colab.output.renderOutput(dataTable, element);\n",
              "        const docLink = document.createElement('div');\n",
              "        docLink.innerHTML = docLinkHtml;\n",
              "        element.appendChild(docLink);\n",
              "      }\n",
              "    </script>\n",
              "  </div>\n",
              "\n",
              "\n",
              "<div id=\"df-a85aabc3-afbb-4f28-91d6-56b648ee79eb\">\n",
              "  <button class=\"colab-df-quickchart\" onclick=\"quickchart('df-a85aabc3-afbb-4f28-91d6-56b648ee79eb')\"\n",
              "            title=\"Suggest charts\"\n",
              "            style=\"display:none;\">\n",
              "\n",
              "<svg xmlns=\"http://www.w3.org/2000/svg\" height=\"24px\"viewBox=\"0 0 24 24\"\n",
              "     width=\"24px\">\n",
              "    <g>\n",
              "        <path d=\"M19 3H5c-1.1 0-2 .9-2 2v14c0 1.1.9 2 2 2h14c1.1 0 2-.9 2-2V5c0-1.1-.9-2-2-2zM9 17H7v-7h2v7zm4 0h-2V7h2v10zm4 0h-2v-4h2v4z\"/>\n",
              "    </g>\n",
              "</svg>\n",
              "  </button>\n",
              "\n",
              "<style>\n",
              "  .colab-df-quickchart {\n",
              "      --bg-color: #E8F0FE;\n",
              "      --fill-color: #1967D2;\n",
              "      --hover-bg-color: #E2EBFA;\n",
              "      --hover-fill-color: #174EA6;\n",
              "      --disabled-fill-color: #AAA;\n",
              "      --disabled-bg-color: #DDD;\n",
              "  }\n",
              "\n",
              "  [theme=dark] .colab-df-quickchart {\n",
              "      --bg-color: #3B4455;\n",
              "      --fill-color: #D2E3FC;\n",
              "      --hover-bg-color: #434B5C;\n",
              "      --hover-fill-color: #FFFFFF;\n",
              "      --disabled-bg-color: #3B4455;\n",
              "      --disabled-fill-color: #666;\n",
              "  }\n",
              "\n",
              "  .colab-df-quickchart {\n",
              "    background-color: var(--bg-color);\n",
              "    border: none;\n",
              "    border-radius: 50%;\n",
              "    cursor: pointer;\n",
              "    display: none;\n",
              "    fill: var(--fill-color);\n",
              "    height: 32px;\n",
              "    padding: 0;\n",
              "    width: 32px;\n",
              "  }\n",
              "\n",
              "  .colab-df-quickchart:hover {\n",
              "    background-color: var(--hover-bg-color);\n",
              "    box-shadow: 0 1px 2px rgba(60, 64, 67, 0.3), 0 1px 3px 1px rgba(60, 64, 67, 0.15);\n",
              "    fill: var(--button-hover-fill-color);\n",
              "  }\n",
              "\n",
              "  .colab-df-quickchart-complete:disabled,\n",
              "  .colab-df-quickchart-complete:disabled:hover {\n",
              "    background-color: var(--disabled-bg-color);\n",
              "    fill: var(--disabled-fill-color);\n",
              "    box-shadow: none;\n",
              "  }\n",
              "\n",
              "  .colab-df-spinner {\n",
              "    border: 2px solid var(--fill-color);\n",
              "    border-color: transparent;\n",
              "    border-bottom-color: var(--fill-color);\n",
              "    animation:\n",
              "      spin 1s steps(1) infinite;\n",
              "  }\n",
              "\n",
              "  @keyframes spin {\n",
              "    0% {\n",
              "      border-color: transparent;\n",
              "      border-bottom-color: var(--fill-color);\n",
              "      border-left-color: var(--fill-color);\n",
              "    }\n",
              "    20% {\n",
              "      border-color: transparent;\n",
              "      border-left-color: var(--fill-color);\n",
              "      border-top-color: var(--fill-color);\n",
              "    }\n",
              "    30% {\n",
              "      border-color: transparent;\n",
              "      border-left-color: var(--fill-color);\n",
              "      border-top-color: var(--fill-color);\n",
              "      border-right-color: var(--fill-color);\n",
              "    }\n",
              "    40% {\n",
              "      border-color: transparent;\n",
              "      border-right-color: var(--fill-color);\n",
              "      border-top-color: var(--fill-color);\n",
              "    }\n",
              "    60% {\n",
              "      border-color: transparent;\n",
              "      border-right-color: var(--fill-color);\n",
              "    }\n",
              "    80% {\n",
              "      border-color: transparent;\n",
              "      border-right-color: var(--fill-color);\n",
              "      border-bottom-color: var(--fill-color);\n",
              "    }\n",
              "    90% {\n",
              "      border-color: transparent;\n",
              "      border-bottom-color: var(--fill-color);\n",
              "    }\n",
              "  }\n",
              "</style>\n",
              "\n",
              "  <script>\n",
              "    async function quickchart(key) {\n",
              "      const quickchartButtonEl =\n",
              "        document.querySelector('#' + key + ' button');\n",
              "      quickchartButtonEl.disabled = true;  // To prevent multiple clicks.\n",
              "      quickchartButtonEl.classList.add('colab-df-spinner');\n",
              "      try {\n",
              "        const charts = await google.colab.kernel.invokeFunction(\n",
              "            'suggestCharts', [key], {});\n",
              "      } catch (error) {\n",
              "        console.error('Error during call to suggestCharts:', error);\n",
              "      }\n",
              "      quickchartButtonEl.classList.remove('colab-df-spinner');\n",
              "      quickchartButtonEl.classList.add('colab-df-quickchart-complete');\n",
              "    }\n",
              "    (() => {\n",
              "      let quickchartButtonEl =\n",
              "        document.querySelector('#df-a85aabc3-afbb-4f28-91d6-56b648ee79eb button');\n",
              "      quickchartButtonEl.style.display =\n",
              "        google.colab.kernel.accessAllowed ? 'block' : 'none';\n",
              "    })();\n",
              "  </script>\n",
              "</div>\n",
              "    </div>\n",
              "  </div>\n"
            ],
            "application/vnd.google.colaboratory.intrinsic+json": {
              "type": "dataframe",
              "variable_name": "data",
              "summary": "{\n  \"name\": \"data\",\n  \"rows\": 15000,\n  \"fields\": [\n    {\n      \"column\": 0,\n      \"properties\": {\n        \"dtype\": \"string\",\n        \"num_unique_values\": 7987,\n        \"samples\": [\n          \"Release him.\",\n          \"It's too hot.\",\n          \"We're tired.\"\n        ],\n        \"semantic_type\": \"\",\n        \"description\": \"\"\n      }\n    },\n    {\n      \"column\": 1,\n      \"properties\": {\n        \"dtype\": \"string\",\n        \"num_unique_values\": 13453,\n        \"samples\": [\n          \"\\u042f \\u043d\\u0435 \\u0440\\u043e\\u0431\\u043a\\u0430\\u044f.\",\n          \"\\u0422\\u044b \\u043c\\u043e\\u0436\\u0435\\u0448\\u044c \\u0432\\u0441\\u0442\\u0430\\u0442\\u044c?\",\n          \"\\u0420\\u0430\\u0437\\u0432\\u0435 \\u044d\\u0442\\u043e \\u043d\\u0435 \\u0442\\u0430\\u043a?\"\n        ],\n        \"semantic_type\": \"\",\n        \"description\": \"\"\n      }\n    },\n    {\n      \"column\": 2,\n      \"properties\": {\n        \"dtype\": \"string\",\n        \"num_unique_values\": 15000,\n        \"samples\": [\n          \"CC-BY 2.0 (France) Attribution: tatoeba.org #1023210 (ellasevia) & #2068702 (marafon)\",\n          \"CC-BY 2.0 (France) Attribution: tatoeba.org #5839970 (CK) & #5957663 (sharptoothed)\",\n          \"CC-BY 2.0 (France) Attribution: tatoeba.org #3327385 (CK) & #5624581 (odexed)\"\n        ],\n        \"semantic_type\": \"\",\n        \"description\": \"\"\n      }\n    }\n  ]\n}"
            }
          },
          "metadata": {},
          "execution_count": 2
        }
      ],
      "source": [
        "data = pd.read_csv(\"/content/drive/MyDrive/rus.txt\", delimiter='\\t', header=None, nrows=15000)\n",
        "data.head()\n"
      ]
    },
    {
      "cell_type": "markdown",
      "source": [
        "Датасет представляет из себя предложения на англйимком и их перевод на русском, в датасете нет повторяющихся значений"
      ],
      "metadata": {
        "id": "yLepO9vZZUtV"
      }
    },
    {
      "cell_type": "markdown",
      "metadata": {
        "id": "ntT6fv27fwpH"
      },
      "source": [
        "# Подготовка данных"
      ]
    },
    {
      "cell_type": "markdown",
      "metadata": {
        "id": "rfYVu8nYhqhf"
      },
      "source": [
        "Уберем лишний столбец"
      ]
    },
    {
      "cell_type": "code",
      "execution_count": 3,
      "metadata": {
        "id": "-ZgKtaPoguHH"
      },
      "outputs": [],
      "source": [
        "data = data.drop(2, axis=1)\n",
        "data.rename(columns={0: 'eng', 1: 'rus'}, inplace=True)"
      ]
    },
    {
      "cell_type": "code",
      "execution_count": 4,
      "metadata": {
        "colab": {
          "base_uri": "https://localhost:8080/",
          "height": 419
        },
        "id": "dljwMrFph6DA",
        "outputId": "01a36c4b-cfad-4411-c7cf-ab1f1bea2d90"
      },
      "outputs": [
        {
          "output_type": "execute_result",
          "data": {
            "text/plain": [
              "                   eng                       rus\n",
              "0                  Go.                     Марш!\n",
              "1                  Go.                      Иди.\n",
              "2                  Go.                    Идите.\n",
              "3                  Hi.             Здравствуйте.\n",
              "4                  Hi.                   Привет!\n",
              "...                ...                       ...\n",
              "14995  I wasn't hired.  Меня не взяли на работу.\n",
              "14996  I wasn't hired.           Меня не наняли.\n",
              "14997  I wasn't lucky.           Мне не повезло.\n",
              "14998  I wasn't lucky.             Мне не везло.\n",
              "14999  I wasn't lying.                Я не лгал.\n",
              "\n",
              "[15000 rows x 2 columns]"
            ],
            "text/html": [
              "\n",
              "  <div id=\"df-a1e62452-b57c-41f3-90fe-3fc0121aea31\" class=\"colab-df-container\">\n",
              "    <div>\n",
              "<style scoped>\n",
              "    .dataframe tbody tr th:only-of-type {\n",
              "        vertical-align: middle;\n",
              "    }\n",
              "\n",
              "    .dataframe tbody tr th {\n",
              "        vertical-align: top;\n",
              "    }\n",
              "\n",
              "    .dataframe thead th {\n",
              "        text-align: right;\n",
              "    }\n",
              "</style>\n",
              "<table border=\"1\" class=\"dataframe\">\n",
              "  <thead>\n",
              "    <tr style=\"text-align: right;\">\n",
              "      <th></th>\n",
              "      <th>eng</th>\n",
              "      <th>rus</th>\n",
              "    </tr>\n",
              "  </thead>\n",
              "  <tbody>\n",
              "    <tr>\n",
              "      <th>0</th>\n",
              "      <td>Go.</td>\n",
              "      <td>Марш!</td>\n",
              "    </tr>\n",
              "    <tr>\n",
              "      <th>1</th>\n",
              "      <td>Go.</td>\n",
              "      <td>Иди.</td>\n",
              "    </tr>\n",
              "    <tr>\n",
              "      <th>2</th>\n",
              "      <td>Go.</td>\n",
              "      <td>Идите.</td>\n",
              "    </tr>\n",
              "    <tr>\n",
              "      <th>3</th>\n",
              "      <td>Hi.</td>\n",
              "      <td>Здравствуйте.</td>\n",
              "    </tr>\n",
              "    <tr>\n",
              "      <th>4</th>\n",
              "      <td>Hi.</td>\n",
              "      <td>Привет!</td>\n",
              "    </tr>\n",
              "    <tr>\n",
              "      <th>...</th>\n",
              "      <td>...</td>\n",
              "      <td>...</td>\n",
              "    </tr>\n",
              "    <tr>\n",
              "      <th>14995</th>\n",
              "      <td>I wasn't hired.</td>\n",
              "      <td>Меня не взяли на работу.</td>\n",
              "    </tr>\n",
              "    <tr>\n",
              "      <th>14996</th>\n",
              "      <td>I wasn't hired.</td>\n",
              "      <td>Меня не наняли.</td>\n",
              "    </tr>\n",
              "    <tr>\n",
              "      <th>14997</th>\n",
              "      <td>I wasn't lucky.</td>\n",
              "      <td>Мне не повезло.</td>\n",
              "    </tr>\n",
              "    <tr>\n",
              "      <th>14998</th>\n",
              "      <td>I wasn't lucky.</td>\n",
              "      <td>Мне не везло.</td>\n",
              "    </tr>\n",
              "    <tr>\n",
              "      <th>14999</th>\n",
              "      <td>I wasn't lying.</td>\n",
              "      <td>Я не лгал.</td>\n",
              "    </tr>\n",
              "  </tbody>\n",
              "</table>\n",
              "<p>15000 rows × 2 columns</p>\n",
              "</div>\n",
              "    <div class=\"colab-df-buttons\">\n",
              "\n",
              "  <div class=\"colab-df-container\">\n",
              "    <button class=\"colab-df-convert\" onclick=\"convertToInteractive('df-a1e62452-b57c-41f3-90fe-3fc0121aea31')\"\n",
              "            title=\"Convert this dataframe to an interactive table.\"\n",
              "            style=\"display:none;\">\n",
              "\n",
              "  <svg xmlns=\"http://www.w3.org/2000/svg\" height=\"24px\" viewBox=\"0 -960 960 960\">\n",
              "    <path d=\"M120-120v-720h720v720H120Zm60-500h600v-160H180v160Zm220 220h160v-160H400v160Zm0 220h160v-160H400v160ZM180-400h160v-160H180v160Zm440 0h160v-160H620v160ZM180-180h160v-160H180v160Zm440 0h160v-160H620v160Z\"/>\n",
              "  </svg>\n",
              "    </button>\n",
              "\n",
              "  <style>\n",
              "    .colab-df-container {\n",
              "      display:flex;\n",
              "      gap: 12px;\n",
              "    }\n",
              "\n",
              "    .colab-df-convert {\n",
              "      background-color: #E8F0FE;\n",
              "      border: none;\n",
              "      border-radius: 50%;\n",
              "      cursor: pointer;\n",
              "      display: none;\n",
              "      fill: #1967D2;\n",
              "      height: 32px;\n",
              "      padding: 0 0 0 0;\n",
              "      width: 32px;\n",
              "    }\n",
              "\n",
              "    .colab-df-convert:hover {\n",
              "      background-color: #E2EBFA;\n",
              "      box-shadow: 0px 1px 2px rgba(60, 64, 67, 0.3), 0px 1px 3px 1px rgba(60, 64, 67, 0.15);\n",
              "      fill: #174EA6;\n",
              "    }\n",
              "\n",
              "    .colab-df-buttons div {\n",
              "      margin-bottom: 4px;\n",
              "    }\n",
              "\n",
              "    [theme=dark] .colab-df-convert {\n",
              "      background-color: #3B4455;\n",
              "      fill: #D2E3FC;\n",
              "    }\n",
              "\n",
              "    [theme=dark] .colab-df-convert:hover {\n",
              "      background-color: #434B5C;\n",
              "      box-shadow: 0px 1px 3px 1px rgba(0, 0, 0, 0.15);\n",
              "      filter: drop-shadow(0px 1px 2px rgba(0, 0, 0, 0.3));\n",
              "      fill: #FFFFFF;\n",
              "    }\n",
              "  </style>\n",
              "\n",
              "    <script>\n",
              "      const buttonEl =\n",
              "        document.querySelector('#df-a1e62452-b57c-41f3-90fe-3fc0121aea31 button.colab-df-convert');\n",
              "      buttonEl.style.display =\n",
              "        google.colab.kernel.accessAllowed ? 'block' : 'none';\n",
              "\n",
              "      async function convertToInteractive(key) {\n",
              "        const element = document.querySelector('#df-a1e62452-b57c-41f3-90fe-3fc0121aea31');\n",
              "        const dataTable =\n",
              "          await google.colab.kernel.invokeFunction('convertToInteractive',\n",
              "                                                    [key], {});\n",
              "        if (!dataTable) return;\n",
              "\n",
              "        const docLinkHtml = 'Like what you see? Visit the ' +\n",
              "          '<a target=\"_blank\" href=https://colab.research.google.com/notebooks/data_table.ipynb>data table notebook</a>'\n",
              "          + ' to learn more about interactive tables.';\n",
              "        element.innerHTML = '';\n",
              "        dataTable['output_type'] = 'display_data';\n",
              "        await google.colab.output.renderOutput(dataTable, element);\n",
              "        const docLink = document.createElement('div');\n",
              "        docLink.innerHTML = docLinkHtml;\n",
              "        element.appendChild(docLink);\n",
              "      }\n",
              "    </script>\n",
              "  </div>\n",
              "\n",
              "\n",
              "<div id=\"df-0bf7a939-83bd-4e1d-b1e8-1bb3ecfb048a\">\n",
              "  <button class=\"colab-df-quickchart\" onclick=\"quickchart('df-0bf7a939-83bd-4e1d-b1e8-1bb3ecfb048a')\"\n",
              "            title=\"Suggest charts\"\n",
              "            style=\"display:none;\">\n",
              "\n",
              "<svg xmlns=\"http://www.w3.org/2000/svg\" height=\"24px\"viewBox=\"0 0 24 24\"\n",
              "     width=\"24px\">\n",
              "    <g>\n",
              "        <path d=\"M19 3H5c-1.1 0-2 .9-2 2v14c0 1.1.9 2 2 2h14c1.1 0 2-.9 2-2V5c0-1.1-.9-2-2-2zM9 17H7v-7h2v7zm4 0h-2V7h2v10zm4 0h-2v-4h2v4z\"/>\n",
              "    </g>\n",
              "</svg>\n",
              "  </button>\n",
              "\n",
              "<style>\n",
              "  .colab-df-quickchart {\n",
              "      --bg-color: #E8F0FE;\n",
              "      --fill-color: #1967D2;\n",
              "      --hover-bg-color: #E2EBFA;\n",
              "      --hover-fill-color: #174EA6;\n",
              "      --disabled-fill-color: #AAA;\n",
              "      --disabled-bg-color: #DDD;\n",
              "  }\n",
              "\n",
              "  [theme=dark] .colab-df-quickchart {\n",
              "      --bg-color: #3B4455;\n",
              "      --fill-color: #D2E3FC;\n",
              "      --hover-bg-color: #434B5C;\n",
              "      --hover-fill-color: #FFFFFF;\n",
              "      --disabled-bg-color: #3B4455;\n",
              "      --disabled-fill-color: #666;\n",
              "  }\n",
              "\n",
              "  .colab-df-quickchart {\n",
              "    background-color: var(--bg-color);\n",
              "    border: none;\n",
              "    border-radius: 50%;\n",
              "    cursor: pointer;\n",
              "    display: none;\n",
              "    fill: var(--fill-color);\n",
              "    height: 32px;\n",
              "    padding: 0;\n",
              "    width: 32px;\n",
              "  }\n",
              "\n",
              "  .colab-df-quickchart:hover {\n",
              "    background-color: var(--hover-bg-color);\n",
              "    box-shadow: 0 1px 2px rgba(60, 64, 67, 0.3), 0 1px 3px 1px rgba(60, 64, 67, 0.15);\n",
              "    fill: var(--button-hover-fill-color);\n",
              "  }\n",
              "\n",
              "  .colab-df-quickchart-complete:disabled,\n",
              "  .colab-df-quickchart-complete:disabled:hover {\n",
              "    background-color: var(--disabled-bg-color);\n",
              "    fill: var(--disabled-fill-color);\n",
              "    box-shadow: none;\n",
              "  }\n",
              "\n",
              "  .colab-df-spinner {\n",
              "    border: 2px solid var(--fill-color);\n",
              "    border-color: transparent;\n",
              "    border-bottom-color: var(--fill-color);\n",
              "    animation:\n",
              "      spin 1s steps(1) infinite;\n",
              "  }\n",
              "\n",
              "  @keyframes spin {\n",
              "    0% {\n",
              "      border-color: transparent;\n",
              "      border-bottom-color: var(--fill-color);\n",
              "      border-left-color: var(--fill-color);\n",
              "    }\n",
              "    20% {\n",
              "      border-color: transparent;\n",
              "      border-left-color: var(--fill-color);\n",
              "      border-top-color: var(--fill-color);\n",
              "    }\n",
              "    30% {\n",
              "      border-color: transparent;\n",
              "      border-left-color: var(--fill-color);\n",
              "      border-top-color: var(--fill-color);\n",
              "      border-right-color: var(--fill-color);\n",
              "    }\n",
              "    40% {\n",
              "      border-color: transparent;\n",
              "      border-right-color: var(--fill-color);\n",
              "      border-top-color: var(--fill-color);\n",
              "    }\n",
              "    60% {\n",
              "      border-color: transparent;\n",
              "      border-right-color: var(--fill-color);\n",
              "    }\n",
              "    80% {\n",
              "      border-color: transparent;\n",
              "      border-right-color: var(--fill-color);\n",
              "      border-bottom-color: var(--fill-color);\n",
              "    }\n",
              "    90% {\n",
              "      border-color: transparent;\n",
              "      border-bottom-color: var(--fill-color);\n",
              "    }\n",
              "  }\n",
              "</style>\n",
              "\n",
              "  <script>\n",
              "    async function quickchart(key) {\n",
              "      const quickchartButtonEl =\n",
              "        document.querySelector('#' + key + ' button');\n",
              "      quickchartButtonEl.disabled = true;  // To prevent multiple clicks.\n",
              "      quickchartButtonEl.classList.add('colab-df-spinner');\n",
              "      try {\n",
              "        const charts = await google.colab.kernel.invokeFunction(\n",
              "            'suggestCharts', [key], {});\n",
              "      } catch (error) {\n",
              "        console.error('Error during call to suggestCharts:', error);\n",
              "      }\n",
              "      quickchartButtonEl.classList.remove('colab-df-spinner');\n",
              "      quickchartButtonEl.classList.add('colab-df-quickchart-complete');\n",
              "    }\n",
              "    (() => {\n",
              "      let quickchartButtonEl =\n",
              "        document.querySelector('#df-0bf7a939-83bd-4e1d-b1e8-1bb3ecfb048a button');\n",
              "      quickchartButtonEl.style.display =\n",
              "        google.colab.kernel.accessAllowed ? 'block' : 'none';\n",
              "    })();\n",
              "  </script>\n",
              "</div>\n",
              "    </div>\n",
              "  </div>\n"
            ],
            "application/vnd.google.colaboratory.intrinsic+json": {
              "type": "dataframe",
              "variable_name": "data",
              "summary": "{\n  \"name\": \"data\",\n  \"rows\": 15000,\n  \"fields\": [\n    {\n      \"column\": \"eng\",\n      \"properties\": {\n        \"dtype\": \"string\",\n        \"num_unique_values\": 7987,\n        \"samples\": [\n          \"Release him.\",\n          \"It's too hot.\",\n          \"We're tired.\"\n        ],\n        \"semantic_type\": \"\",\n        \"description\": \"\"\n      }\n    },\n    {\n      \"column\": \"rus\",\n      \"properties\": {\n        \"dtype\": \"string\",\n        \"num_unique_values\": 13453,\n        \"samples\": [\n          \"\\u042f \\u043d\\u0435 \\u0440\\u043e\\u0431\\u043a\\u0430\\u044f.\",\n          \"\\u0422\\u044b \\u043c\\u043e\\u0436\\u0435\\u0448\\u044c \\u0432\\u0441\\u0442\\u0430\\u0442\\u044c?\",\n          \"\\u0420\\u0430\\u0437\\u0432\\u0435 \\u044d\\u0442\\u043e \\u043d\\u0435 \\u0442\\u0430\\u043a?\"\n        ],\n        \"semantic_type\": \"\",\n        \"description\": \"\"\n      }\n    }\n  ]\n}"
            }
          },
          "metadata": {},
          "execution_count": 4
        }
      ],
      "source": [
        "data"
      ]
    },
    {
      "cell_type": "code",
      "execution_count": 5,
      "metadata": {
        "colab": {
          "base_uri": "https://localhost:8080/"
        },
        "id": "kNfYXkUsiHHj",
        "outputId": "6d24bd68-bcf1-4345-e2b1-70a01682839f"
      },
      "outputs": [
        {
          "output_type": "execute_result",
          "data": {
            "text/plain": [
              "(15000, 15000)"
            ]
          },
          "metadata": {},
          "execution_count": 5
        }
      ],
      "source": [
        "english = list(data['eng'])\n",
        "russian = list(data['rus'])\n",
        "len(english), len(russian)"
      ]
    },
    {
      "cell_type": "markdown",
      "source": [
        "Проверим, что в датасете отсутсвуют пустые строки"
      ],
      "metadata": {
        "id": "9YVQiZRO74CS"
      }
    },
    {
      "cell_type": "code",
      "execution_count": 6,
      "metadata": {
        "colab": {
          "base_uri": "https://localhost:8080/"
        },
        "id": "pz6IC_8giuk-",
        "outputId": "318130aa-12aa-49a7-a56c-7729364b3942"
      },
      "outputs": [
        {
          "output_type": "execute_result",
          "data": {
            "text/plain": [
              "eng    0\n",
              "rus    0\n",
              "dtype: int64"
            ]
          },
          "metadata": {},
          "execution_count": 6
        }
      ],
      "source": [
        "pd.isnull(data).sum()"
      ]
    },
    {
      "cell_type": "markdown",
      "metadata": {
        "id": "fAhZdItJjUv1"
      },
      "source": [
        "Уберем знаки препинания из предложений"
      ]
    },
    {
      "cell_type": "code",
      "execution_count": 7,
      "metadata": {
        "id": "eIuqsvzhjPoU"
      },
      "outputs": [],
      "source": [
        "todel = string.punctuation + '«' + '»' + string.digits\n",
        "p = re.compile(\"[\" + re.escape(todel) + \"]\")"
      ]
    },
    {
      "cell_type": "code",
      "execution_count": 8,
      "metadata": {
        "id": "xZ1I7Ao-zMPi"
      },
      "outputs": [],
      "source": [
        "data['eng'] = data['eng'].replace(to_replace = p, value= '')\n",
        "data['rus'] = data['rus'].replace(to_replace = p, value= '')"
      ]
    },
    {
      "cell_type": "code",
      "execution_count": 9,
      "metadata": {
        "colab": {
          "base_uri": "https://localhost:8080/",
          "height": 53
        },
        "id": "qIab-LN0hh7T",
        "outputId": "821d511e-54b9-463e-d10c-f74213d31cb3"
      },
      "outputs": [
        {
          "output_type": "execute_result",
          "data": {
            "text/plain": [
              "Empty DataFrame\n",
              "Columns: [eng, rus]\n",
              "Index: []"
            ],
            "text/html": [
              "\n",
              "  <div id=\"df-46fa8610-46ab-407b-ba31-ee9d671284fe\" class=\"colab-df-container\">\n",
              "    <div>\n",
              "<style scoped>\n",
              "    .dataframe tbody tr th:only-of-type {\n",
              "        vertical-align: middle;\n",
              "    }\n",
              "\n",
              "    .dataframe tbody tr th {\n",
              "        vertical-align: top;\n",
              "    }\n",
              "\n",
              "    .dataframe thead th {\n",
              "        text-align: right;\n",
              "    }\n",
              "</style>\n",
              "<table border=\"1\" class=\"dataframe\">\n",
              "  <thead>\n",
              "    <tr style=\"text-align: right;\">\n",
              "      <th></th>\n",
              "      <th>eng</th>\n",
              "      <th>rus</th>\n",
              "    </tr>\n",
              "  </thead>\n",
              "  <tbody>\n",
              "  </tbody>\n",
              "</table>\n",
              "</div>\n",
              "    <div class=\"colab-df-buttons\">\n",
              "\n",
              "  <div class=\"colab-df-container\">\n",
              "    <button class=\"colab-df-convert\" onclick=\"convertToInteractive('df-46fa8610-46ab-407b-ba31-ee9d671284fe')\"\n",
              "            title=\"Convert this dataframe to an interactive table.\"\n",
              "            style=\"display:none;\">\n",
              "\n",
              "  <svg xmlns=\"http://www.w3.org/2000/svg\" height=\"24px\" viewBox=\"0 -960 960 960\">\n",
              "    <path d=\"M120-120v-720h720v720H120Zm60-500h600v-160H180v160Zm220 220h160v-160H400v160Zm0 220h160v-160H400v160ZM180-400h160v-160H180v160Zm440 0h160v-160H620v160ZM180-180h160v-160H180v160Zm440 0h160v-160H620v160Z\"/>\n",
              "  </svg>\n",
              "    </button>\n",
              "\n",
              "  <style>\n",
              "    .colab-df-container {\n",
              "      display:flex;\n",
              "      gap: 12px;\n",
              "    }\n",
              "\n",
              "    .colab-df-convert {\n",
              "      background-color: #E8F0FE;\n",
              "      border: none;\n",
              "      border-radius: 50%;\n",
              "      cursor: pointer;\n",
              "      display: none;\n",
              "      fill: #1967D2;\n",
              "      height: 32px;\n",
              "      padding: 0 0 0 0;\n",
              "      width: 32px;\n",
              "    }\n",
              "\n",
              "    .colab-df-convert:hover {\n",
              "      background-color: #E2EBFA;\n",
              "      box-shadow: 0px 1px 2px rgba(60, 64, 67, 0.3), 0px 1px 3px 1px rgba(60, 64, 67, 0.15);\n",
              "      fill: #174EA6;\n",
              "    }\n",
              "\n",
              "    .colab-df-buttons div {\n",
              "      margin-bottom: 4px;\n",
              "    }\n",
              "\n",
              "    [theme=dark] .colab-df-convert {\n",
              "      background-color: #3B4455;\n",
              "      fill: #D2E3FC;\n",
              "    }\n",
              "\n",
              "    [theme=dark] .colab-df-convert:hover {\n",
              "      background-color: #434B5C;\n",
              "      box-shadow: 0px 1px 3px 1px rgba(0, 0, 0, 0.15);\n",
              "      filter: drop-shadow(0px 1px 2px rgba(0, 0, 0, 0.3));\n",
              "      fill: #FFFFFF;\n",
              "    }\n",
              "  </style>\n",
              "\n",
              "    <script>\n",
              "      const buttonEl =\n",
              "        document.querySelector('#df-46fa8610-46ab-407b-ba31-ee9d671284fe button.colab-df-convert');\n",
              "      buttonEl.style.display =\n",
              "        google.colab.kernel.accessAllowed ? 'block' : 'none';\n",
              "\n",
              "      async function convertToInteractive(key) {\n",
              "        const element = document.querySelector('#df-46fa8610-46ab-407b-ba31-ee9d671284fe');\n",
              "        const dataTable =\n",
              "          await google.colab.kernel.invokeFunction('convertToInteractive',\n",
              "                                                    [key], {});\n",
              "        if (!dataTable) return;\n",
              "\n",
              "        const docLinkHtml = 'Like what you see? Visit the ' +\n",
              "          '<a target=\"_blank\" href=https://colab.research.google.com/notebooks/data_table.ipynb>data table notebook</a>'\n",
              "          + ' to learn more about interactive tables.';\n",
              "        element.innerHTML = '';\n",
              "        dataTable['output_type'] = 'display_data';\n",
              "        await google.colab.output.renderOutput(dataTable, element);\n",
              "        const docLink = document.createElement('div');\n",
              "        docLink.innerHTML = docLinkHtml;\n",
              "        element.appendChild(docLink);\n",
              "      }\n",
              "    </script>\n",
              "  </div>\n",
              "\n",
              "    </div>\n",
              "  </div>\n"
            ],
            "application/vnd.google.colaboratory.intrinsic+json": {
              "type": "dataframe",
              "repr_error": "Out of range float values are not JSON compliant: nan"
            }
          },
          "metadata": {},
          "execution_count": 9
        }
      ],
      "source": [
        "data[data['rus'].str.contains('«')]"
      ]
    },
    {
      "cell_type": "code",
      "execution_count": 10,
      "metadata": {
        "id": "Khzn9fK7cihY"
      },
      "outputs": [],
      "source": [
        "english2 = list(data['eng'])\n",
        "russian2 = list(data['rus'])"
      ]
    },
    {
      "cell_type": "markdown",
      "source": [
        "# Обработка данных"
      ],
      "metadata": {
        "id": "ieJmcXdrldIo"
      }
    },
    {
      "cell_type": "markdown",
      "metadata": {
        "id": "cuczDPKY_GuX"
      },
      "source": [
        "## Токенизация английских предложений"
      ]
    },
    {
      "cell_type": "markdown",
      "metadata": {
        "id": "JIehqKJXQc3z"
      },
      "source": [
        "Для работы с текстовыми данными в NLP часто приходится токенизировать предложения, тексты. Токенизировать подразумевает разбиение предложений на токены (слова). С помощью библиотеки Keras создадим класс Tokenizer, чтобы преобразовать текст в последовательность целых чисел (векторизация текста)\n",
        "\n",
        "fit_on_texts - построение внутреннего словаря токенизатора\n",
        "\n",
        "texts_to_sequences - позволяет преобразовать каждое предложение из списка english в последовательность чисел. Каждое число в последовательности представляет собой индекс слова в словаре токенизатора."
      ]
    },
    {
      "cell_type": "code",
      "execution_count": 11,
      "metadata": {
        "colab": {
          "base_uri": "https://localhost:8080/"
        },
        "id": "9TmKoN8x9LIe",
        "outputId": "07bf3b87-569d-4225-c6ae-f9a04b38dcfb"
      },
      "outputs": [
        {
          "output_type": "execute_result",
          "data": {
            "text/plain": [
              "[[10], [10], [10], [426], [426]]"
            ]
          },
          "metadata": {},
          "execution_count": 11
        }
      ],
      "source": [
        "engtokenizer = Tokenizer()\n",
        "engtokenizer.fit_on_texts(list(data['eng']))\n",
        "vector_eng = engtokenizer.texts_to_sequences(english2)\n",
        "vector_eng[:5]\n"
      ]
    },
    {
      "cell_type": "markdown",
      "metadata": {
        "id": "MJgjZ4EWXlWe"
      },
      "source": [
        "10 наиболее встречающихся слов в англйиском"
      ]
    },
    {
      "cell_type": "code",
      "execution_count": 12,
      "metadata": {
        "colab": {
          "base_uri": "https://localhost:8080/"
        },
        "id": "YdKY1JDhWwsa",
        "outputId": "ef432ace-4c4e-40f0-9d48-8d38f2d66de0"
      },
      "outputs": [
        {
          "output_type": "stream",
          "name": "stdout",
          "text": [
            "[('i', 1), ('tom', 2), ('it', 3), ('you', 4), ('im', 5), ('a', 6), ('is', 7), ('me', 8), ('was', 9), ('go', 10), ('we', 11)]\n"
          ]
        }
      ],
      "source": [
        "top10word = list(engtokenizer.word_index.items())[:11]\n",
        "print (top10word)"
      ]
    },
    {
      "cell_type": "code",
      "execution_count": 13,
      "metadata": {
        "colab": {
          "base_uri": "https://localhost:8080/"
        },
        "id": "IfczAw5aXM78",
        "outputId": "c8e48dd8-08d9-4ce2-8b1d-adbb4f790dc8"
      },
      "outputs": [
        {
          "output_type": "execute_result",
          "data": {
            "text/plain": [
              "1294"
            ]
          },
          "metadata": {},
          "execution_count": 13
        }
      ],
      "source": [
        "len(data['eng'][data['eng'].str.contains('Tom ')])"
      ]
    },
    {
      "cell_type": "markdown",
      "metadata": {
        "id": "KcZtjD8bbNRl"
      },
      "source": [
        "График частотности слов в английском без \"Том\" (так как это имя собственное)"
      ]
    },
    {
      "cell_type": "code",
      "execution_count": 14,
      "metadata": {
        "colab": {
          "base_uri": "https://localhost:8080/"
        },
        "id": "CpTmO3qkYCVH",
        "outputId": "ca26b213-e77c-4e09-dd1a-776a25a15a8a"
      },
      "outputs": [
        {
          "output_type": "execute_result",
          "data": {
            "text/plain": [
              "[3360, 1544, 1417, 1361, 819, 802, 643, 642, 494, 453]"
            ]
          },
          "metadata": {},
          "execution_count": 14
        }
      ],
      "source": [
        "frequency = [0 for i in range(10)]\n",
        "words = list(engtokenizer.word_index)[:11]\n",
        "words.pop(1)\n",
        "for j in words:\n",
        "  for i in vector_eng:\n",
        "    frequency[words.index(j)]+=i.count(engtokenizer.word_index[j])\n",
        "\n",
        "frequency"
      ]
    },
    {
      "cell_type": "code",
      "execution_count": 15,
      "metadata": {
        "colab": {
          "base_uri": "https://localhost:8080/",
          "height": 432
        },
        "id": "QdnR6dBb6NVX",
        "outputId": "39a8cde6-3729-42ce-ffbf-b094434ad974"
      },
      "outputs": [
        {
          "output_type": "display_data",
          "data": {
            "text/plain": [
              "<Figure size 640x480 with 1 Axes>"
            ],
            "image/png": "[encoded data removed]"
          },
          "metadata": {}
        }
      ],
      "source": [
        "ax = plt.axes()\n",
        "plt.bar(words, frequency, color=sns.color_palette(\"ch:s=.25,rot=-.25\", len(words)))\n",
        "ax.yaxis.grid()\n",
        "plt.show()"
      ]
    },
    {
      "cell_type": "markdown",
      "metadata": {
        "id": "5DfBp0s5FTn4"
      },
      "source": [
        "## Токенизация русских предложений"
      ]
    },
    {
      "cell_type": "markdown",
      "metadata": {
        "id": "_qxr_2WhHqbj"
      },
      "source": [
        "Сделаем индикаторы начала и конца предложений.Эти индикаторы помогут модели понять границы предложений\n",
        "\n",
        "sos - указывает модели на то, что начинается новое предложение\n",
        "\n",
        "eos - указывает модели на то, что предложение закончилось"
      ]
    },
    {
      "cell_type": "markdown",
      "metadata": {
        "id": "KGiI_BckNSeQ"
      },
      "source": []
    },
    {
      "cell_type": "code",
      "execution_count": 16,
      "metadata": {
        "id": "DX7tBhLNI-YF"
      },
      "outputs": [],
      "source": [
        "a = '<sos> ' + data['rus'] + ' <eos>'\n",
        "data['rus'] = a"
      ]
    },
    {
      "cell_type": "code",
      "execution_count": 17,
      "metadata": {
        "colab": {
          "base_uri": "https://localhost:8080/",
          "height": 204
        },
        "id": "9Kiqzwz-QPgT",
        "outputId": "38486412-8602-47f9-f918-2787c02a3d07"
      },
      "outputs": [
        {
          "output_type": "execute_result",
          "data": {
            "text/plain": [
              "  eng                       rus\n",
              "0  Go          <sos> Марш <eos>\n",
              "1  Go           <sos> Иди <eos>\n",
              "2  Go         <sos> Идите <eos>\n",
              "3  Hi  <sos> Здравствуйте <eos>\n",
              "4  Hi        <sos> Привет <eos>"
            ],
            "text/html": [
              "\n",
              "  <div id=\"df-96c1e27c-392e-4b15-a81d-132bbc15afc8\" class=\"colab-df-container\">\n",
              "    <div>\n",
              "<style scoped>\n",
              "    .dataframe tbody tr th:only-of-type {\n",
              "        vertical-align: middle;\n",
              "    }\n",
              "\n",
              "    .dataframe tbody tr th {\n",
              "        vertical-align: top;\n",
              "    }\n",
              "\n",
              "    .dataframe thead th {\n",
              "        text-align: right;\n",
              "    }\n",
              "</style>\n",
              "<table border=\"1\" class=\"dataframe\">\n",
              "  <thead>\n",
              "    <tr style=\"text-align: right;\">\n",
              "      <th></th>\n",
              "      <th>eng</th>\n",
              "      <th>rus</th>\n",
              "    </tr>\n",
              "  </thead>\n",
              "  <tbody>\n",
              "    <tr>\n",
              "      <th>0</th>\n",
              "      <td>Go</td>\n",
              "      <td>&lt;sos&gt; Марш &lt;eos&gt;</td>\n",
              "    </tr>\n",
              "    <tr>\n",
              "      <th>1</th>\n",
              "      <td>Go</td>\n",
              "      <td>&lt;sos&gt; Иди &lt;eos&gt;</td>\n",
              "    </tr>\n",
              "    <tr>\n",
              "      <th>2</th>\n",
              "      <td>Go</td>\n",
              "      <td>&lt;sos&gt; Идите &lt;eos&gt;</td>\n",
              "    </tr>\n",
              "    <tr>\n",
              "      <th>3</th>\n",
              "      <td>Hi</td>\n",
              "      <td>&lt;sos&gt; Здравствуйте &lt;eos&gt;</td>\n",
              "    </tr>\n",
              "    <tr>\n",
              "      <th>4</th>\n",
              "      <td>Hi</td>\n",
              "      <td>&lt;sos&gt; Привет &lt;eos&gt;</td>\n",
              "    </tr>\n",
              "  </tbody>\n",
              "</table>\n",
              "</div>\n",
              "    <div class=\"colab-df-buttons\">\n",
              "\n",
              "  <div class=\"colab-df-container\">\n",
              "    <button class=\"colab-df-convert\" onclick=\"convertToInteractive('df-96c1e27c-392e-4b15-a81d-132bbc15afc8')\"\n",
              "            title=\"Convert this dataframe to an interactive table.\"\n",
              "            style=\"display:none;\">\n",
              "\n",
              "  <svg xmlns=\"http://www.w3.org/2000/svg\" height=\"24px\" viewBox=\"0 -960 960 960\">\n",
              "    <path d=\"M120-120v-720h720v720H120Zm60-500h600v-160H180v160Zm220 220h160v-160H400v160Zm0 220h160v-160H400v160ZM180-400h160v-160H180v160Zm440 0h160v-160H620v160ZM180-180h160v-160H180v160Zm440 0h160v-160H620v160Z\"/>\n",
              "  </svg>\n",
              "    </button>\n",
              "\n",
              "  <style>\n",
              "    .colab-df-container {\n",
              "      display:flex;\n",
              "      gap: 12px;\n",
              "    }\n",
              "\n",
              "    .colab-df-convert {\n",
              "      background-color: #E8F0FE;\n",
              "      border: none;\n",
              "      border-radius: 50%;\n",
              "      cursor: pointer;\n",
              "      display: none;\n",
              "      fill: #1967D2;\n",
              "      height: 32px;\n",
              "      padding: 0 0 0 0;\n",
              "      width: 32px;\n",
              "    }\n",
              "\n",
              "    .colab-df-convert:hover {\n",
              "      background-color: #E2EBFA;\n",
              "      box-shadow: 0px 1px 2px rgba(60, 64, 67, 0.3), 0px 1px 3px 1px rgba(60, 64, 67, 0.15);\n",
              "      fill: #174EA6;\n",
              "    }\n",
              "\n",
              "    .colab-df-buttons div {\n",
              "      margin-bottom: 4px;\n",
              "    }\n",
              "\n",
              "    [theme=dark] .colab-df-convert {\n",
              "      background-color: #3B4455;\n",
              "      fill: #D2E3FC;\n",
              "    }\n",
              "\n",
              "    [theme=dark] .colab-df-convert:hover {\n",
              "      background-color: #434B5C;\n",
              "      box-shadow: 0px 1px 3px 1px rgba(0, 0, 0, 0.15);\n",
              "      filter: drop-shadow(0px 1px 2px rgba(0, 0, 0, 0.3));\n",
              "      fill: #FFFFFF;\n",
              "    }\n",
              "  </style>\n",
              "\n",
              "    <script>\n",
              "      const buttonEl =\n",
              "        document.querySelector('#df-96c1e27c-392e-4b15-a81d-132bbc15afc8 button.colab-df-convert');\n",
              "      buttonEl.style.display =\n",
              "        google.colab.kernel.accessAllowed ? 'block' : 'none';\n",
              "\n",
              "      async function convertToInteractive(key) {\n",
              "        const element = document.querySelector('#df-96c1e27c-392e-4b15-a81d-132bbc15afc8');\n",
              "        const dataTable =\n",
              "          await google.colab.kernel.invokeFunction('convertToInteractive',\n",
              "                                                    [key], {});\n",
              "        if (!dataTable) return;\n",
              "\n",
              "        const docLinkHtml = 'Like what you see? Visit the ' +\n",
              "          '<a target=\"_blank\" href=https://colab.research.google.com/notebooks/data_table.ipynb>data table notebook</a>'\n",
              "          + ' to learn more about interactive tables.';\n",
              "        element.innerHTML = '';\n",
              "        dataTable['output_type'] = 'display_data';\n",
              "        await google.colab.output.renderOutput(dataTable, element);\n",
              "        const docLink = document.createElement('div');\n",
              "        docLink.innerHTML = docLinkHtml;\n",
              "        element.appendChild(docLink);\n",
              "      }\n",
              "    </script>\n",
              "  </div>\n",
              "\n",
              "\n",
              "<div id=\"df-0fb8d02f-1590-4e4e-864c-e2a4c5aa5f04\">\n",
              "  <button class=\"colab-df-quickchart\" onclick=\"quickchart('df-0fb8d02f-1590-4e4e-864c-e2a4c5aa5f04')\"\n",
              "            title=\"Suggest charts\"\n",
              "            style=\"display:none;\">\n",
              "\n",
              "<svg xmlns=\"http://www.w3.org/2000/svg\" height=\"24px\"viewBox=\"0 0 24 24\"\n",
              "     width=\"24px\">\n",
              "    <g>\n",
              "        <path d=\"M19 3H5c-1.1 0-2 .9-2 2v14c0 1.1.9 2 2 2h14c1.1 0 2-.9 2-2V5c0-1.1-.9-2-2-2zM9 17H7v-7h2v7zm4 0h-2V7h2v10zm4 0h-2v-4h2v4z\"/>\n",
              "    </g>\n",
              "</svg>\n",
              "  </button>\n",
              "\n",
              "<style>\n",
              "  .colab-df-quickchart {\n",
              "      --bg-color: #E8F0FE;\n",
              "      --fill-color: #1967D2;\n",
              "      --hover-bg-color: #E2EBFA;\n",
              "      --hover-fill-color: #174EA6;\n",
              "      --disabled-fill-color: #AAA;\n",
              "      --disabled-bg-color: #DDD;\n",
              "  }\n",
              "\n",
              "  [theme=dark] .colab-df-quickchart {\n",
              "      --bg-color: #3B4455;\n",
              "      --fill-color: #D2E3FC;\n",
              "      --hover-bg-color: #434B5C;\n",
              "      --hover-fill-color: #FFFFFF;\n",
              "      --disabled-bg-color: #3B4455;\n",
              "      --disabled-fill-color: #666;\n",
              "  }\n",
              "\n",
              "  .colab-df-quickchart {\n",
              "    background-color: var(--bg-color);\n",
              "    border: none;\n",
              "    border-radius: 50%;\n",
              "    cursor: pointer;\n",
              "    display: none;\n",
              "    fill: var(--fill-color);\n",
              "    height: 32px;\n",
              "    padding: 0;\n",
              "    width: 32px;\n",
              "  }\n",
              "\n",
              "  .colab-df-quickchart:hover {\n",
              "    background-color: var(--hover-bg-color);\n",
              "    box-shadow: 0 1px 2px rgba(60, 64, 67, 0.3), 0 1px 3px 1px rgba(60, 64, 67, 0.15);\n",
              "    fill: var(--button-hover-fill-color);\n",
              "  }\n",
              "\n",
              "  .colab-df-quickchart-complete:disabled,\n",
              "  .colab-df-quickchart-complete:disabled:hover {\n",
              "    background-color: var(--disabled-bg-color);\n",
              "    fill: var(--disabled-fill-color);\n",
              "    box-shadow: none;\n",
              "  }\n",
              "\n",
              "  .colab-df-spinner {\n",
              "    border: 2px solid var(--fill-color);\n",
              "    border-color: transparent;\n",
              "    border-bottom-color: var(--fill-color);\n",
              "    animation:\n",
              "      spin 1s steps(1) infinite;\n",
              "  }\n",
              "\n",
              "  @keyframes spin {\n",
              "    0% {\n",
              "      border-color: transparent;\n",
              "      border-bottom-color: var(--fill-color);\n",
              "      border-left-color: var(--fill-color);\n",
              "    }\n",
              "    20% {\n",
              "      border-color: transparent;\n",
              "      border-left-color: var(--fill-color);\n",
              "      border-top-color: var(--fill-color);\n",
              "    }\n",
              "    30% {\n",
              "      border-color: transparent;\n",
              "      border-left-color: var(--fill-color);\n",
              "      border-top-color: var(--fill-color);\n",
              "      border-right-color: var(--fill-color);\n",
              "    }\n",
              "    40% {\n",
              "      border-color: transparent;\n",
              "      border-right-color: var(--fill-color);\n",
              "      border-top-color: var(--fill-color);\n",
              "    }\n",
              "    60% {\n",
              "      border-color: transparent;\n",
              "      border-right-color: var(--fill-color);\n",
              "    }\n",
              "    80% {\n",
              "      border-color: transparent;\n",
              "      border-right-color: var(--fill-color);\n",
              "      border-bottom-color: var(--fill-color);\n",
              "    }\n",
              "    90% {\n",
              "      border-color: transparent;\n",
              "      border-bottom-color: var(--fill-color);\n",
              "    }\n",
              "  }\n",
              "</style>\n",
              "\n",
              "  <script>\n",
              "    async function quickchart(key) {\n",
              "      const quickchartButtonEl =\n",
              "        document.querySelector('#' + key + ' button');\n",
              "      quickchartButtonEl.disabled = true;  // To prevent multiple clicks.\n",
              "      quickchartButtonEl.classList.add('colab-df-spinner');\n",
              "      try {\n",
              "        const charts = await google.colab.kernel.invokeFunction(\n",
              "            'suggestCharts', [key], {});\n",
              "      } catch (error) {\n",
              "        console.error('Error during call to suggestCharts:', error);\n",
              "      }\n",
              "      quickchartButtonEl.classList.remove('colab-df-spinner');\n",
              "      quickchartButtonEl.classList.add('colab-df-quickchart-complete');\n",
              "    }\n",
              "    (() => {\n",
              "      let quickchartButtonEl =\n",
              "        document.querySelector('#df-0fb8d02f-1590-4e4e-864c-e2a4c5aa5f04 button');\n",
              "      quickchartButtonEl.style.display =\n",
              "        google.colab.kernel.accessAllowed ? 'block' : 'none';\n",
              "    })();\n",
              "  </script>\n",
              "</div>\n",
              "    </div>\n",
              "  </div>\n"
            ],
            "application/vnd.google.colaboratory.intrinsic+json": {
              "type": "dataframe",
              "summary": "{\n  \"name\": \"data[:5]\",\n  \"rows\": 5,\n  \"fields\": [\n    {\n      \"column\": \"eng\",\n      \"properties\": {\n        \"dtype\": \"category\",\n        \"num_unique_values\": 2,\n        \"samples\": [\n          \"Hi\",\n          \"Go\"\n        ],\n        \"semantic_type\": \"\",\n        \"description\": \"\"\n      }\n    },\n    {\n      \"column\": \"rus\",\n      \"properties\": {\n        \"dtype\": \"string\",\n        \"num_unique_values\": 5,\n        \"samples\": [\n          \"<sos> \\u0418\\u0434\\u0438 <eos>\",\n          \"<sos> \\u041f\\u0440\\u0438\\u0432\\u0435\\u0442 <eos>\"\n        ],\n        \"semantic_type\": \"\",\n        \"description\": \"\"\n      }\n    }\n  ]\n}"
            }
          },
          "metadata": {},
          "execution_count": 17
        }
      ],
      "source": [
        "data[:5]"
      ]
    },
    {
      "cell_type": "markdown",
      "source": [
        "Параметр filters используется для указаная символов, которые необходимо удалить из текста. В данном случае удалять ничего не надо, поэтому ставим пустую строку"
      ],
      "metadata": {
        "id": "YuhYFFzrDTIK"
      }
    },
    {
      "cell_type": "code",
      "execution_count": 18,
      "metadata": {
        "colab": {
          "base_uri": "https://localhost:8080/"
        },
        "id": "6n5OYmcZ_E6J",
        "outputId": "d9592d37-07e1-43cd-f163-d691271d3378"
      },
      "outputs": [
        {
          "output_type": "execute_result",
          "data": {
            "text/plain": [
              "[[1, 1428, 2], [1, 54, 2], [1, 83, 2], [1, 1116, 2], [1, 254, 2]]"
            ]
          },
          "metadata": {},
          "execution_count": 18
        }
      ],
      "source": [
        "rustokenizer = Tokenizer(filters='')\n",
        "rustokenizer.fit_on_texts(list(data['rus']))\n",
        "vector_rus = rustokenizer.texts_to_sequences(list(data['rus']))\n",
        "vector_rus[:5]\n"
      ]
    },
    {
      "cell_type": "markdown",
      "metadata": {
        "id": "g_20QFQKSMtQ"
      },
      "source": [
        "Топ 10 встречающихся слов в русском"
      ]
    },
    {
      "cell_type": "code",
      "execution_count": 19,
      "metadata": {
        "colab": {
          "base_uri": "https://localhost:8080/"
        },
        "id": "kBRg-NvdF8wd",
        "outputId": "de3470c5-aa42-4114-f11d-21d21bd4c362"
      },
      "outputs": [
        {
          "output_type": "stream",
          "name": "stdout",
          "text": [
            "[('<sos>', 1), ('<eos>', 2), ('я', 3), ('том', 4), ('это', 5), ('не', 6), ('ты', 7), ('мне', 8), ('мы', 9), ('он', 10), ('меня', 11)]\n"
          ]
        }
      ],
      "source": [
        "top10word = list(rustokenizer.word_index.items())[:11]\n",
        "print (top10word)"
      ]
    },
    {
      "cell_type": "markdown",
      "metadata": {
        "id": "VuZcfhIVSV9M"
      },
      "source": [
        "График частотности слов в русском без \"Том\" (так как это имя собственное) и индикаторов начала и конца предложений"
      ]
    },
    {
      "cell_type": "code",
      "source": [
        "frequency = [0 for i in range(10)]\n",
        "words = list(rustokenizer.word_index)[:13]\n",
        "words.pop(0)"
      ],
      "metadata": {
        "colab": {
          "base_uri": "https://localhost:8080/",
          "height": 37
        },
        "id": "Sw0ZuiynEpAW",
        "outputId": "557040e0-3ac3-424d-8663-af9b25a2865d"
      },
      "execution_count": 20,
      "outputs": [
        {
          "output_type": "execute_result",
          "data": {
            "text/plain": [
              "'<sos>'"
            ],
            "application/vnd.google.colaboratory.intrinsic+json": {
              "type": "string"
            }
          },
          "metadata": {},
          "execution_count": 20
        }
      ]
    },
    {
      "cell_type": "code",
      "source": [
        "words"
      ],
      "metadata": {
        "colab": {
          "base_uri": "https://localhost:8080/"
        },
        "id": "ZHNrzU9vwl5L",
        "outputId": "4a801dcf-752a-451e-f204-bbfe33003f61"
      },
      "execution_count": 21,
      "outputs": [
        {
          "output_type": "execute_result",
          "data": {
            "text/plain": [
              "['<eos>', 'я', 'том', 'это', 'не', 'ты', 'мне', 'мы', 'он', 'меня', 'вы', 'у']"
            ]
          },
          "metadata": {},
          "execution_count": 21
        }
      ]
    },
    {
      "cell_type": "code",
      "source": [
        "words.pop(0)"
      ],
      "metadata": {
        "colab": {
          "base_uri": "https://localhost:8080/",
          "height": 37
        },
        "id": "KyZnGb4WE7D9",
        "outputId": "bc7551cd-d5c4-446f-d9f4-318026032a4e"
      },
      "execution_count": 22,
      "outputs": [
        {
          "output_type": "execute_result",
          "data": {
            "text/plain": [
              "'<eos>'"
            ],
            "application/vnd.google.colaboratory.intrinsic+json": {
              "type": "string"
            }
          },
          "metadata": {},
          "execution_count": 22
        }
      ]
    },
    {
      "cell_type": "code",
      "source": [
        "words.pop(1)"
      ],
      "metadata": {
        "colab": {
          "base_uri": "https://localhost:8080/",
          "height": 37
        },
        "id": "dKSj2UKfExeo",
        "outputId": "955d2546-85c3-4350-8ecf-bb577d98cbc4"
      },
      "execution_count": 23,
      "outputs": [
        {
          "output_type": "execute_result",
          "data": {
            "text/plain": [
              "'том'"
            ],
            "application/vnd.google.colaboratory.intrinsic+json": {
              "type": "string"
            }
          },
          "metadata": {},
          "execution_count": 23
        }
      ]
    },
    {
      "cell_type": "code",
      "execution_count": 24,
      "metadata": {
        "colab": {
          "base_uri": "https://localhost:8080/"
        },
        "id": "T_PFu1UeSbSc",
        "outputId": "e16e885b-48fc-4624-89f9-af47d46a11d1"
      },
      "outputs": [
        {
          "output_type": "execute_result",
          "data": {
            "text/plain": [
              "['я', 'это', 'не', 'ты', 'мне', 'мы', 'он', 'меня', 'вы', 'у']"
            ]
          },
          "metadata": {},
          "execution_count": 24
        }
      ],
      "source": [
        "\n",
        "for j in words:\n",
        "  for i in vector_eng:\n",
        "    frequency[words.index(j)]+=i.count(rustokenizer.word_index[j])\n",
        "\n",
        "frequency\n",
        "words"
      ]
    },
    {
      "cell_type": "code",
      "execution_count": 25,
      "metadata": {
        "colab": {
          "base_uri": "https://localhost:8080/",
          "height": 430
        },
        "id": "Liav9swgStfp",
        "outputId": "03e79a72-7a73-4dc1-db13-40b73fb291b4"
      },
      "outputs": [
        {
          "output_type": "display_data",
          "data": {
            "text/plain": [
              "<Figure size 640x480 with 1 Axes>"
            ],
            "image/png": "[encoded data removed]"
          },
          "metadata": {}
        }
      ],
      "source": [
        "ax = plt.axes()\n",
        "plt.bar(words, frequency, color=sns.color_palette(\"ch:s=.25,rot=-.25\", len(words)))\n",
        "ax.yaxis.grid()\n",
        "plt.show()"
      ]
    },
    {
      "cell_type": "markdown",
      "metadata": {
        "id": "O8Ly12DHUN2N"
      },
      "source": [
        "## Padding"
      ]
    },
    {
      "cell_type": "markdown",
      "metadata": {
        "id": "oqJskdOtWq0Z"
      },
      "source": [
        "Padding используется для приведения данных к единому размеру.\n",
        "\n",
        "pad_sequences заполняет нулями вектор, пока длина вектора не будет равна длиней самого длинного предложения"
      ]
    },
    {
      "cell_type": "code",
      "execution_count": 26,
      "metadata": {
        "colab": {
          "base_uri": "https://localhost:8080/"
        },
        "id": "QI23gqSPS50I",
        "outputId": "df4a8a19-cadf-4775-ccc1-ccd51f7ccb82"
      },
      "outputs": [
        {
          "output_type": "execute_result",
          "data": {
            "text/plain": [
              "(15000, 5)"
            ]
          },
          "metadata": {},
          "execution_count": 26
        }
      ],
      "source": [
        "encoder_pad = pad_sequences(vector_eng)\n",
        "encoder_pad.shape"
      ]
    },
    {
      "cell_type": "code",
      "execution_count": 27,
      "metadata": {
        "colab": {
          "base_uri": "https://localhost:8080/"
        },
        "id": "zGjUM6bvWfrg",
        "outputId": "d944224c-8df1-4465-b784-7e10c61c6a5c"
      },
      "outputs": [
        {
          "output_type": "execute_result",
          "data": {
            "text/plain": [
              "array([ 0,  0,  0,  0, 10], dtype=int32)"
            ]
          },
          "metadata": {},
          "execution_count": 27
        }
      ],
      "source": [
        "encoder_pad[0]"
      ]
    },
    {
      "cell_type": "code",
      "execution_count": 28,
      "metadata": {
        "colab": {
          "base_uri": "https://localhost:8080/"
        },
        "id": "23oIAiA_Xgkm",
        "outputId": "ad4ca73a-3e60-4d21-9e49-de7a61483cd5"
      },
      "outputs": [
        {
          "output_type": "execute_result",
          "data": {
            "text/plain": [
              "[10]"
            ]
          },
          "metadata": {},
          "execution_count": 28
        }
      ],
      "source": [
        "vector_eng[0]"
      ]
    },
    {
      "cell_type": "markdown",
      "metadata": {
        "id": "YuiEtUUcXpXF"
      },
      "source": [
        "Как мы видим, самое длииное предложение состоит из 5 слов, и так как первая строка данных состоит из одного слова (с токеном 10), все остальные значения нули\n",
        "\n",
        "С русскими предложениями точно так же:"
      ]
    },
    {
      "cell_type": "code",
      "execution_count": 29,
      "metadata": {
        "colab": {
          "base_uri": "https://localhost:8080/"
        },
        "id": "F_3e_yGqXlij",
        "outputId": "2cccad78-ad47-46b8-836d-ac54cd0fc110"
      },
      "outputs": [
        {
          "output_type": "execute_result",
          "data": {
            "text/plain": [
              "((15000, 11), (15000, 11))"
            ]
          },
          "metadata": {},
          "execution_count": 29
        }
      ],
      "source": [
        "decoder_pad_input = pad_sequences([values[:-1] for values in vector_rus])\n",
        "decoder_pad_output = pad_sequences([values[1:] for values in vector_rus])\n",
        "decoder_pad_input.shape, decoder_pad_output.shape"
      ]
    },
    {
      "cell_type": "code",
      "execution_count": 30,
      "metadata": {
        "colab": {
          "base_uri": "https://localhost:8080/"
        },
        "id": "KfSMmeNWYtEq",
        "outputId": "5d2f9080-cf19-497c-ee36-b49f6b797e16"
      },
      "outputs": [
        {
          "output_type": "execute_result",
          "data": {
            "text/plain": [
              "array([   0,    0,    0,    0,    0,    0,    0,    0,    0,    1, 1428],\n",
              "      dtype=int32)"
            ]
          },
          "metadata": {},
          "execution_count": 30
        }
      ],
      "source": [
        "decoder_pad_input[0]"
      ]
    },
    {
      "cell_type": "code",
      "execution_count": 31,
      "metadata": {
        "colab": {
          "base_uri": "https://localhost:8080/"
        },
        "id": "Si6Xj6AXYxvK",
        "outputId": "3edd53a8-801e-47fc-937e-c182b29b344e"
      },
      "outputs": [
        {
          "output_type": "execute_result",
          "data": {
            "text/plain": [
              "[1, 1428, 2]"
            ]
          },
          "metadata": {},
          "execution_count": 31
        }
      ],
      "source": [
        "vector_rus[0]"
      ]
    },
    {
      "cell_type": "markdown",
      "metadata": {
        "id": "y7Nf7M8oss1j"
      },
      "source": [
        "# Создание модели"
      ]
    },
    {
      "cell_type": "markdown",
      "metadata": {
        "id": "Omnli7hkswdY"
      },
      "source": [
        "Создадим модель перевода с использованием архитектуры, состоящей из encoder и decoder. Реализуем sequence-to-sequence (seq2seq) модель, основанная на рекуррентных нейронных сетях (RNN)."
      ]
    },
    {
      "cell_type": "code",
      "execution_count": 32,
      "metadata": {
        "id": "BW4BG0964fRE"
      },
      "outputs": [],
      "source": [
        "embedding_dim=256  #размерность векторов эмбеддинга\n",
        "LSTM_NODES = 256#размерность скрытого состояния\n",
        "num_encoder_tokens = len(engtokenizer.word_index) #размер словаря входных токенов\n",
        "num_decoder_tokens = len(rustokenizer.word_index) #размер словаря выходных токенов\n",
        "maxlen = max(len(i) for i in vector_rus) -1\n",
        "maxleneng = max(len(i) for i in vector_eng)"
      ]
    },
    {
      "cell_type": "markdown",
      "metadata": {
        "id": "xnYKDmPfuPd6"
      },
      "source": [
        "В самой модели создается слой Embadding, в котором слова преобразуются в векторы.\n",
        "\n",
        "Архитектура LSTM подразумевает, что мы подаем ей входной вектор (encoder_embeddings в нашем случае), а он возвращает cell state (записываем его в переменную c) и hidden state (записываем его в переменную h)\n",
        "\n",
        "encoder_outputs в дальнейшем не используются, а вот cell state и hidden state вместе являются носителями информации.\n",
        "\n",
        "hidden state - это внутреннее состояние реккурентной сети, которая позволяет сети сохранить информацию о предыдущих данных.\n",
        "cell state позволяет сети сохранять информацию на протяжении длитеьных временных интервалов.\n",
        "\n",
        "Внутри LSTM эти состояния отвечают за забывание контента и запоминание нового, вывод информации.\n"
      ]
    },
    {
      "cell_type": "markdown",
      "source": [
        "![Снимок экрана 2024-05-19 в 23.09.41.png](data:image/png;base64,iVBORw0KGgoAAAANSUhEUgAAAcgAAAHOCAYAAAAc+Jn3AAAYe2lDQ1BJQ0MgUHJvZmlsZQAAWIWVWQdYFMuT75nNuyxhyTnnnHPOOWcQlrwkYckoUUQRRAUligERAVFMRBEFMSOiKGJGEUFFH6KIiMANQd+797/v7rvm65nfVldXd1VXd3UxAPD2U+PiomFmAGJiE+kuliZCXt4+QrgpAAMSYEP+5KnBCXHGTk52ACm/3/+9fB8B0Op7WH5V1n+2/6+FEhKaEAwA5IfgoJCE4BgEXwEAnRscR08EAGuG0EVTEuNWcQSC2ejIBBG8dRWHr+O9qzhoHdet8bi5mCK4AwA8A5VKDweAsR+hCyUHhyNyGN8ibZTYEFoswvoDwQbBEdQQAHi1EB65mJjNqxipQArhj0NwEYK1gv4hM/y/yQ/6I59KDf+D1/VaK3gzWkJcNDXt/2ma/7vERCf9HkMCqQwRdCuXVf0RG45GbbZdxQwIno4NcnBctTWCf9BC1u0OAEyMSLJyX+eH+YITTBH7AQ4EK4VQzWwRzIdgi9hoB7sNelAYzcIawYi3wKm0RGu3jb47QxPMXTdkHqRvdnH8jcPopsYbfU9T6WvjrvL3J0W5G2/IH40Itf4t/1t6hJsngokAoIjJNA8HBDMimC0hytV2nQclkh5h6vCbh57ksjp/MQRrhcZamqzLR/mF0S1cNvjjYhJ+64vKj6BZO2zgisQIN6t1+6Cagqlr8+dCcFtorLH7bzmhCV52v3UJCTUzX9cdNRga676hL+plXKKJy0bfmbhopw1+ND402nKVLoJgnoRk142+aL1ExDnX5aPt4hKd3NbniQ6MpNo4rc8HnQzsgCkwA0IgCalBYDOIBLTB6fZp5Nd6iwWgAjoIB6FAfoPyu4fnWkss8nQF6eATgkJBwp9+JmutoSAZoS/9oa4/5UHYWmvyWo8o8A7BMcAWRCO/k9Z6xf4ZzQO8RSi0/xg9GJlrNFJX2/6TZoxQ7DYoSb/lCjH95sSaY82wVlgLrDSaB22A1kXbIU8jpKqgtdDav2f7Nz/mHeY+5g3mEWYM8ySAlkv/11zswRgi32JD46B/aoyWQGSqo03Q+oh0RDKaA80D5NFqyDjGaENkZHWEarox71Xdhf4HPf9o8A+bb/ARlAgwgZNgRJD6d09GGUb1P1JWLfpP+6zPNeiPVU3/tPx7fNN/2DkEedv+mxO1E3UedQPVi7qF6ka1AyHUZVQHagB1aRX/8aG3az70ezSXtflEIXJo/zEedWPMVUsmKJ1Ueq/0a6MNJIamJq5uMNPNcWl0WnhEopAxEgVChaxjgxXkhFSUVNQAWI0p68fUV5e1WAFx3PubFrkFAE1BhHj1b1roCABdL5Cjk/g3TWI7chygAbgVGJxET16noVcfGOQ0YEJ2FDcQAKJACtFIBWgAXWAEzIENcARuwBtsQuwcgfgzHaSArSAH5INCsBccAFXgMDgGGsApcA60g27QC66DO2AIPALPEP+ZAB/BDPgOFiEIwkFkiBXihgQhcUgWUoG0IAPIHLKDXCBvKBAKh2KhJGgrtA0qhEqgKugo1AidhTqhXugWdB96Ar2G3kOz0E8YBTPAbDA/LAErwlqwMWwLu8H+cDgcD6fDeXAxXAHXws1wG9wL34EfwWPwR3gOBVAkFAdKGCWP0kKZohxRPqgwFB2VidqFKkPVok6jupCVHkaNoaZRC2gsmhUthJZHfNgK7Y4ORsejM9FF6Cp0A7oN3Y8eRr9Gz6CXMWQMH0YWo4OxxnhhwjEpmHxMGaYe04q5huymCcx3LBbLgZXEaiK70Rsbid2CLcLWYFuwV7D3sePYORwOx42TxenjHHFUXCIuH1eJa8Zdxj3ATeB+4El4QbwK3gLvg4/F5+LL8E34HvwD/CR+kcBMECfoEBwJIYQ0wh5CHaGLcI8wQVgkshAlifpEN2IkMYdYQTxNvEZ8TvxKIpFESNokZxKNlE2qIJ0h3SS9Ji0wUBhkGEwZ/BiSGIoZTjBcYXjC8JVMJkuQjcg+5ERyMbmRfJX8kvyDkZVRgdGaMYQxi7GasY3xAeNnJgKTOJMx0yamdKYypvNM95immQnMEsymzFTmTOZq5k7mx8xzLKwsyiyOLDEsRSxNLLdYpig4igTFnBJCyaMco1yljLOiWEVZTVmDWbex1rFeY51gw7JJslmzRbIVsp1iG2SbYaewq7F7sKeyV7NfYh/jQHFIcFhzRHPs4TjHMcLxk5Of05gzlLOA8zTnA855Ll4uI65Qrl1cLVyPuH5yC3Gbc0dx7+Nu537Bg+aR4XHmSeE5xHONZ5qXjVeXN5h3F+853qd8MJ8MnwvfFr5jfAN8c/wC/Jb8cfyV/Ff5pwU4BIwEIgX2C/QIvBdkFTQQpAnuF7ws+EGIXchYKFqoQqhfaEaYT9hKOEn4qPCg8KKIpIi7SK5Ii8gLUaKolmiY6H7RPtEZMUExe7GtYifFnooTxLXEI8TLxW+Iz0tISnhK7JBol5iS5JK0lkyXPCn5XIosZSgVL1Ur9VAaK60lHSVdIz0kA8uoy0TIVMvck4VlNWRpsjWy9+UwctpysXK1co/lGeSN5ZPlT8q/VuBQsFPIVWhX+KwopuijuE/xhuKykrpStFKd0jNlirKNcq5yl/KsioxKsEq1ykNVsqqFapZqh+oXNVm1ULVDaqPqrOr26jvU+9SXNDQ16BqnNd5rimkGah7UfKzFpuWkVaR1UxujbaKdpd2tvaCjoZOoc07nL1153SjdJt0pPUm9UL06vXF9EX2q/lH9MQMhg0CDIwZjhsKGVMNawzdGokYhRvVGk8bSxpHGzcafTZRM6CatJvOmOqYZplfMUGaWZrvMBs0p5u7mVeYvLUQswi1OWsxYqltusbxihbGytdpn9dia3zrYutF6xkbTJsOm35bB1tW2yvaNnYwd3a7LHra3sS+1f+4g7hDr0O4IHK0dSx1fOEk6xTtddMY6OzlXO79zUXbZ6nLDldU1wLXJ9bubidset2fuUu5J7n0eTB5+Ho0e855mniWeY16KXhled7x5vGneHT44Hw+fep85X3PfA74Tfup++X4j/pL+qf63NvFsit50KYApgBpwPhAT6BnYFPiL6kitpc4FWQcdDJoJNg0uD/4YYhSyP+R9qH5oSehkmH5YSdhUuH54afj7CMOIsohpmimtivYl0irycOR8lGPUiaiVaM/olhh8TGBMZywlNiq2f7PA5tTN9+Nk4/LjxuJ14g/Ez9Bt6fUJUIJ/QkciG3J5H0iSStqe9DrZILk6+UeKR8r5VJbU2NSBNJm0grTJdIv041vQW4K39G0V3pqz9XWGccbRTCgzKLMvSzQrL2si2zK7IYeYE5VzN1cptyT32zbPbV15/HnZeePbLbefzGfMp+c/3qG74/BO9E7azsEC1YLKguVdIbtuFyoVlhX+Kgouur1beXfF7pXisOLBPRp7Du3F7o3dO7LPcF9DCUtJesl4qX1p236h/bv2fzsQcOBWmVrZ4XJieVL5WIVdRUelWOXeyl9VEVWPqk2qWw7yHSw4OF8TUvPgkNGh04f5Dxce/nmEdmT0qOXRtlqJ2rJj2GPJx97VedTdOK51vLGep76wfulE7ImxBpeG/kbNxsYmvqY9J+GTSSffN/s1D50yO9VxWv700RaOlsIz4EzSmQ9nA8+OnLM913de6/zpC+IXDraytu5qg9rS2mbaI9rHOrw77nfadPZ16Xa1XlS4eKJbuLv6EvulPT3Enryelcvpl+euxF2Z7g3vHe8L6Ht21evqw37n/sFrttduXre4fvWG8Y3LN/Vvdt/SudV5W+t2+x2NO20D6gOtd9Xvtg5qDLbd07zXMaQ91HVf737PA8MHvcNmw9cfWj+888jh0f0R95HRx36Px0ZDRqeeRD/58jT56eKz7OeY57teML8oe8n3svaV9KuWMY2xS6/NXg+8cX3zbDx4/OPbhLe/JvLekd+VTQpONk6pTHW/t3g/9MH3w8THuI+L0/mfWD4d/Cz1+cJfRn8NzHjNTHyhf1mZLfrK/fXEN7VvfXNOcy+/x3xfnN/1g/tHw4LWwo2fnj8nF1N+4X5VLEkvdS3bLj9fiVlZiaPSqWtXARRS4bAwAGZPAED2BoB1CEkTfNdzvo2CQi4f8BovGbnR6CF3rVIwCFEgL6gBhuEYeBwVippFF2KUMGPYGlwk3owgQWQkwQwoMgujLJM1M53lKOUFmwB7EMc5LjR3IM8VPkH+AoEvQv7Cd0R1xI5LsElmS03KOMi2yDMqBCueV1pU0VVNUDus3q/xWnNBm0GHR1dGT0vfzMDB0McowjjZJN+0zKzBvMvituVTqynreVu0HbM9n4Oko7KTjrOJi7Wrg5uLu7uHp6eXl7e3j4+Pr4+fj7/PJq8Aj0AXqn2QRbBBiHqoTJhgOGsELmKR9jnyddTD6BvIrjy5uSZud3wanZpgnMid+DmpN7k8ZXOqTZpo2lL64y0tW3dmBGZqZjEie+tiTkluxDb9PNa8qe09+aU7InbqFXAULBWiiwx2n9qjtffcvqVSwf2yBxTKlMqVK1Qr1arUq9UPatToHLI4HHqk4ujoMfY64+P+9bEn0hvyG/c1VZ883txyqvP01ZYHZz6dEz4fd2GoTbo9uqOis63r3sXJ7uUejsvKVzx6S/qm+q2uVV+/e+P1zZnb2DviA5Z3QwYT7kUPud/XfCAwTBxeeDj+6O7I5cddo91PLj/tfdbzvOXFvpfRr0zGuMdmXw+96RxveFs9sffd9sm0qZj3gR/sP6pOU6Y/frr+ue6v/JnILw6zal9FvknP+X/v+aG0sP/nq1/cS17LdSsrq34CSIAXuSW6IDlSM3gHSUKboSswL5wLz6LiUD/QOzHCmGvYRJwC7iu+j1BDzCCFMHiRXRm9mIKYk1gKKQ2sQ2w/OCQ5/blKue/xkvns+IsEBoXIws4i+0SHxEkS5pLJUvXS92W+yTHLSymoKWoraSurqkirCqgxq0Pq3zQmkGh1U7tTp1G3Sq9Qf4tBpKGvkYOxiYmmqYKZmDmPBbMl1nLRasZ6wmbUdsCux/6MQ61jqVOec4IL1dXJzcBd1oPLE+P5xeu5902f876H/Qr8Ezb5B5gHylFZqT+CXgT3htSF7gyLCrePUKSx0L5GPopqi66ISYv12qwRR4l7H3+ZXpoQkqiehEkaST6ekpRqnsaWNp5+bkv2VocMvowPmV1Zu7Mjc1xyzRDP0Nmuka+0Q3aneIHgLu5CShFpN3r3UvH3PV/2zu5bKMXt5zogVaZZblbhVOlbFV5NP5hRs+NQyeGDR04c7ah9cGzhuHS934nChtbGp03LzcKnzE9HtOw+037283n1C9tb77eTO/Q7aV2VF+90r/SoX46+Utf7/CpLv9E12vXCG003b956f4c8oHrXZzD3XvPQ4wfYYbWHAY/yRuoe94++e0p8pvjc7UXay0OvbozNv1Eep789PzE7KTcV/v7Yh1fTvJ+8Ph/8a+ZL8lf5Oco8cQH++fHXxWXaxvoTASeQA1ZIvlMObkNYyBLaB43D+vBRFBm1HY1Dl2AkMFewITgK7hZ+J8GBKEhcID1k6CAfZ6xkKmHew1JCqWI9ztbGfpPjJecCN4VHnteCj8q/VaBc8LRQn/BDkQnRT2Kz4jPIrWlUqk/6uMw2WR85RXlI/oFCnWKKko2ykPK8yqBqvVqmuruGnCasOap1SjtXx0NXRndJb0j/mEGKoY2RoNGc8YDJcdNMMw9zBQuMxXPLC1a7rANtNGxJtmN2rfYFDv7ISYFxeuLc7JLt6uom7vbd/aZHlWeUl643yfuZz0nfdD8rfw7/t5vOBmQF2lI5qeNBp4PTQyxCWUKfhdWHx0fo0tC0wcjyqMBo6egvMR2x2Zst4ghxA/FFdJsEfMK1xNwkg6TF5PaUhFSF1PdpdekBW3i2PNxanGGVCWf2ZGVmW+Xw5yzmjm27mXd2e3V+3o6YnR4FBrskCsmFc0XPd18tbtqzf2/OvpQSemncfuRaUBZfHl8RVxlbRasOPOhaY3PI7rD/kbSjNbXXjn0+zl6vecKuwaXRucn35JbmC6cWWyzPlJ59dV72QnJrbzupw7WzoutZt/Cl6J5LV1h7I/uu9vNeS7w+eFPiVsbthwMyd3MHx4c87o8MBz+cG9k5yvPk1DOj5yMvs8fs37i+3ftu/v3+6Wtf3OafrK7/+v/+VgtWA4DjFgB47AfAVRvBxQCINyDxQw8AJzIAbtoA5q4E0KU4APlJ/YkfAsAYiR3bQB24hpweWOT8sIaioN1QC5LrfYM5YV04AN4GN8CD8FcUD8oYFYHai+Tfb9AktAaait6N7kRPYtgx5pgkJOsaxTJgjbEp2NPYKZwILgB3CPcSL4KPwJ/BLxHsCEcI34lOxFMkMimW9IBBi+EomUROJo8zOjP2Mqkw1TFzM+9lIbBsp8CUXFYMawEbM1sluzj7eQ4zjlHOzVx4rjpuU+63PDt45Xkf8WXxy/E/FygWNBNcEuoSThcxEMWI3hM7KB4loS9Jkfwg1S9dK5MrGypnJ6+toKCoqGSg7K4SrboNOfJbNYY1v2vz61jqJus16r8y5DbyNK40eWUmZZ5kcd2Kxzrc5oBtuV2yvZH9ikOvY5FTpDPNJc/1jNtbDx5PV69i7wFfsp+zf9mm0UAmqmqQZbB7SEhoVtjJ8CmacmRO1HCMFOJ5T+M16WUJP5I8k5tTPqVxpittMdnqnZGV2ZlNyInIvZunsb12B9POzILJQuOivN2txWN7Gfc5lJzZr3bgWrlDxd0qq+rrNc6Hfhy5WdtTd66+vCG9idbse9r4DPvZ1+dPtWa1b+r0ubj1UvvlhT7t/pjru25W3q4baBnsGbr/YPIR/rH+k93Pvr30GWsdJ01QJ7s+4KclP4O/ar4IzFZ845trm49ZUP/561fbcsDa+SEGbEE8KAPd4A2EhxQgNygdqkUy/S8wN2wCR8EH4CvwRyRnN0WiSQ1qALWIlkX7oYvRveg5jAyGiqnA3MeSsJbY7dh+HBZng9uDG8WL4RPw1wh8hBTCCFGbeIREJKWQJhm8GO6STcndjFqMbUwaTJ3MhszXkRz1CSWUMsuay8bG1sBuyP6EI4mTjbONy4cb5m7m8eYl8HbzJSBrPSVwQpAmpCD0XbhXZI9ogJiqOFH8rUSfZJ1UgXSCTKCss5y5vJ6CpqK6koayjoqJqr2ar3qsRr5mvdY97WVdNb3N+qcNZo20jfNMhs0kzbMsnlnpWtfYLNk52Zc63Hb85azgEuJ6yO0pssZ+Xke9P/iq+23zHw4QD0ygdgcth+iHZoT1RhBoHpHHo+Zj7GKPbf4V703vSORO2pr8NFUpbUv6pS0/M3Qyc7IGc0Ry07YNb1fKL97xucBhV1Ph4m6j4q17WvfOlZiV1h4glNHLRysNqo4dxNdsPjRyRP9o/TG2uoJ67IniRoGmC832p8ZbUs+Szh2+oNZ6uz2wY65rZzffpdbLnr1wX2s/7TrfjcFb2XfUBj4MHhvyfcAyfPlR8GMwWv1U+9mLFzteqYy9elP0VndievLQe4cPc9M7Py38ZT2z/cvZ2cGvU99WvnPNq/5wW9j6s2nxw5LW8oG19ZcGbiALNIJhsAxJI6ufDTVDozAWVoOD4H1wL3KLEEV5oApQl1Bf0dLoQHQlehjDhLHDFGLuYMlYF2wl9g1OHpeBu4eXwOfgXxMsCeeIYsRqEgfpAAMHQxVZkFzPqMTYzWTH9Aq5bzCxNFPsKV9YK9nM2GbZj3F4cJI4e7nSuTW4v/N08mbxWfNzImt9SfCAEB25gaiJ8oihkdgzLvFE8oHUPSQzfyT7Uu6j/C9FipKcsg2yo0vVetQ/aQppeWqX6DzQY9f3N2gyXDR2MmkyI5jHWDy2srG+bmtnN+pAcwLO1a56bm88ir0Mved8z/rTAzQCZ4OqQ2RDT4XLRNRHSkQ1xijGdsZZxo8mxCRhk2tTjdNebUnNwGYWZ7PlVG4TyTuVr7vjbkFwIVR0sthvL3ZfdanA/gNluPKUiskqn+rhGq9D34401obW4Y7vqv/e4NXYepKtOfHUSIv2mUPnMOdjLzxps2zv7FTqauoWu1R9mfFKRu+Hq579/ddVbhy9Rbmdd2f+bvTg2yH/+0+GPR8+HnF7fOuJytOSZx9fGLwsfvXitfybzPGhCdF3qZN334t+SP54ZXr5s/JfNjPeX7xnHb7qfROdw829+d41n/1D/8fMQs5Pys8ji4TF+MUnv0x+Vf6aWtJc2r70cFl0mbZ8anlmRW0ldeXi6vonhKmqrIUPiMEEAMzLlZWvEgDgSgBY2reysli7srJ0DEkyngNwJXr9e9JarGEG4ODVVXQ9/XnBv7/lrH9r+kce8+838uSuWPO+1Ui0NjoSlcB/AQmt452Rp5n6AAAAVmVYSWZNTQAqAAAACAABh2kABAAAAAEAAAAaAAAAAAADkoYABwAAABIAAABEoAIABAAAAAEAAAHIoAMABAAAAAEAAAHOAAAAAEFTQ0lJAAAAU2NyZWVuc2hvdLJlp6sAAAHWaVRYdFhNTDpjb20uYWRvYmUueG1wAAAAAAA8eDp4bXBtZXRhIHhtbG5zOng9ImFkb2JlOm5zOm1ldGEvIiB4OnhtcHRrPSJYTVAgQ29yZSA1LjQuMCI+CiAgIDxyZGY6UkRGIHhtbG5zOnJkZj0iaHR0cDovL3d3dy53My5vcmcvMTk5OS8wMi8yMi1yZGYtc3ludGF4LW5zIyI+CiAgICAgIDxyZGY6RGVzY3JpcHRpb24gcmRmOmFib3V0PSIiCiAgICAgICAgICAgIHhtbG5zOmV4aWY9Imh0dHA6Ly9ucy5hZG9iZS5jb20vZXhpZi8xLjAvIj4KICAgICAgICAgPGV4aWY6UGl4ZWxYRGltZW5zaW9uPjQ1NjwvZXhpZjpQaXhlbFhEaW1lbnNpb24+CiAgICAgICAgIDxleGlmOlVzZXJDb21tZW50PlNjcmVlbnNob3Q8L2V4aWY6VXNlckNvbW1lbnQ+CiAgICAgICAgIDxleGlmOlBpeGVsWURpbWVuc2lvbj40NjI8L2V4aWY6UGl4ZWxZRGltZW5zaW9uPgogICAgICA8L3JkZjpEZXNjcmlwdGlvbj4KICAgPC9yZGY6UkRGPgo8L3g6eG1wbWV0YT4KyxwfyQAAQABJREFUeAHsvQd0XNd5LvoPZoBBI0CCvZNg76JIUZSsQpsqtoplS7ZkWStOZMdZfs5LWcldim/it+zru7KSm/uyEls3li07yn12JFm2dNWbZRWrUJRIdfbeOwmS6Jj2vu8/swcHwABEmcHMAP8mB+ecfXb99jn/t/9/lxNIwIk5Q8AQMAQMAUPAEOiAQFGHK7swBAwBQ8AQMAQMAUXACNIeBEPAEDAEDAFDIA0CRpBpQDEvQ8AQMAQMAUPACNKeAUPAEDAEDAFDIA0CRpBpQDEvQ8AQMAQMAUPACNKeAUPAEDAEDAFDIA0CRpBpQDEvQ8AQMAQMAUPACNKeAUPAEDAEDAFDIA0CRpBpQDEvQ8AQMAQMAUPACNKeAUPAEDAEDAFDIA0CRpBpQDEvQ8AQMAQMAUPACNKeAUPAEDAEDAFDIA0CRpBpQDEvQ8AQMAQMAUPACNKeAUPAEDAEDAFDIA0CRpBpQDEvQ8AQMAQMAUPACNKeAUPAEDAEDAFDIA0CRpBpQDEvQ8AQMAQMAUPACNKeAUPAEBhUBBKJRIf84vF4h2u7MATyBQEjyHxpCSuHITAMECAZBgKBVE3dNUkzFoul/O3EEMgHBEL5UAgrgyFgCAx9BPyao9Ma/X5FRUVKksFgcOiDYTUsCARMgyyIZrJCGgKFjwA1R/6c1shzEmQ0GtXK8Zwkac4QyBcETIPMl5awchgCwwgBkuHx48dlw4YNcvbsWVm5cqXMnj1bSkpK0qLg1zT9Jtq0gX2eLl5f4vii2+kwRyCAB6jjiPkwB8SqbwgYAtlDgOKGY40kxR/+8Ify8ssvq9Y4efJkueeee+Siiy5KaZHUNGlupYbZ0tIijY2NMmLECCkuLlZ/kh7TYhimy2uG5X3Gpd+ZM2e0MqNGjZJQKKR+9DDCzF4bD6WUzZ4xlFrT6mII5DECjrRITjt27JAXX3xRbrjhBvne974nR44ckSeeeEKJkFUgudHc6ohv8+bNct9998nBgwfVn2nwHsnRTe5x186E29zcLA8//LA89NBDSq4uLSPHPH5I8qxoZmLNswax4hgCQxUBN74YiUSUEElkNK0uX75c5syZI5s2bZJTp04pAZaXl6sm2NDQIJWVlbJ9+3ZZt26dXH311VJTUyOtra36o0l2zJgxSpKMy3vUIkmOdG+99Zbe+8IXvqDapyNHR5ZDFWurV2YQMILMDI6WiiFgCPQCAadFksxKS0uV3Ehy1ATPnz8v1BSffvppue2225TYXnjhBbnlllvkueeeU62TJtn33ntP1q9fr2ZSEt53vvMdaWtrkx//+MfyzW9+U823vL9q1SrZu3evkiU1VppxHUn3oqgWxBAQM7HaQ2AIGAKDggC1NjqSJMcUeaSjP4mLmmVTU5NqkqdPn5a6ujolTI4pXn755TJ16lRZsmSJHD58WHbt2iWLFi2So0ePKlky/JYtW5QcT548KXv27JHx48crKTLe9OnTO5Cj0yS1APbHEOgGASPIboAxb0PAEMgsAiQlEiF/ZWVlmjj9nFbpCJSTaahR8h61y6qqKpk1a5YSHo/0q62tldtvv11JkloixyGZLo9Mhz9O6Bk9erSSJM2wRoqZbc/hkJoR5HBoZaujIZBnCFArpKMmSUIkedHk6ojRaZc8uh9Jj+cMX1FRIdXV1TrmSPMq79Gf6ZIoXTrMw5Emz80ZAn1BwAiyL2hZWEPAEBgQAiQykqGbaHPs2DElSS7HmDRpkmqWJDdOtHFaoT9DR5Ju2QeXizgy5D3G45Fx3c8f384Ngb4gYJN0+oKWhTUEDIF+I+DIjYRGUylNp5yQc+jQIR0zvPPOO2XatGlKeO+++27KVErNks6vVe7fv1+eeeYZHXe8+eablXBJiG+++aZO9qEZNhwOqzbJfM282u9mG9YRTYMc1s1vlTcEBhcBmj9JdCTCu+66Szi5hjNVL730UrnxxhtlypQpsmbNGiU+TsS57rrrZOLEiUqACxYsUNMqS8wJPK+//rqG59IPEu7111+vk3o4iYd+I0eOVH/eM4Ic3HYeKrnZTjpDpSWtHoZAgSBATY+OZlKSGdc0csYpza7U9rj2kbNT6UiO1DS5rvHcuXNqgv3Hf/xHnen63e9+VyfgTJgwQccfSZokXJIhzbXUIDmjlaTMSTocozRnCPQFAXti+oKWhTUEDIEBIUACpImVWiTNoNTueE4SI7Hxx9mnJEV3zQw565UTc+rr61P+1Db5I+EyPmesuo0CSIZMlwRrzhDoLwJGkP1FzuIZAoZAvxDwEyLPSWYkTuccublr3iMBOkdS5bikWyriCJdhmJ7bi5UEy2s/0bo07GgI9AYBM7H2BiULYwgYAllDgARIEkvn/MTJ+9QWuZkA/bkFHeM5Au0ujXTpmp8h0BsEjCB7g5KFMQQMgZwhQFJ05Mdzv4ZJf792mbNCWsZDEoF2u8WQrJ5VyhAwBAodARIgtUTOauWyEK6ZdITJY2cts9Dra+XPHwSMIPOnLawkhoAhkAYBEuCJEyfkZz/7mXDmKtc/cgasEWMasMwrowgYQWYUTkvMEDAEMo0Al3jwax78tuPu3buVKN9///3U+CMn4pgzBLKBgBFkNlC1NA0BQyAjCFBL5NpGfq6KSzq4jIOzV7du3apapJulmpHMLBFDoBMCNkmnEyB2aQgYAvmDAAmQ5lTuucoPJv/iF7+Q733ve7oTD9dKcokHf25MMn9KbiUZCgjYOsih0IpWB0NgiCLACTpc8zh27FjdKIBrHLnrDjcFoDPz6hBt+DyplplY86QhrBiGgCGQHgGaWakhkgzdZgDOz81wTR/TfA2BgSFgBDkw/Cy2IWAIZBkBmlDpHBmSHHlOR+I086pCYX+ygIARZBZAtSQNAUPAEDAECh8BI8jCb0OrgSFgCBgChkAWEDCCzAKolqQhYAgYAoZA4SNgBFn4bWg1MAQMAUPAEMgCAkaQWQDVkjQEDAFDwBAofASMIAu/Da0GhoAhYAgYAllAwAgyC6BakoaAIWAIGAKFj4DtpFP4bdipBu1fZvdupP8QrUjncJ2SsUsgQOyIU3cYDl2Q8vHp4Jbk3ZWrO/9Mt1D6J+FCuaePlemyWXqZR8AIMvOY5jbFhF+M8MV0L6fPWBCwrx+kbyQKOmLjxwznfvkX4IXfI11KftzT3c8vP6y771IjrL/vs4tdIAaT9D2FaUP7n97OARLcTQcbBMRx1FZItBeyqP20c7QBXnds6851xJcqJcB3rpv8GRufdMbfC9V8gMW06FlBwAgyK7DmMlG+iB1f6s4vZ8InWHJZ0rzLG0IO+7Iki0Ucea6eqaJyF5fO+A6FnVw8ynF1Rx07P0IpBLo/Ialq/yEZxD1m9ON5US/SdE8vw/vT0i4diCgQjyEdkBLyCPgD9CLt7kve0x3NORVAnwpm7ncB+qZ3XtDOEdKHNd/8Q8AIMv/aZIAlUtHRYxpDQaD3WMEB3fQLO59gy5oAHlBhMxTZkUB7Jbs+Iz4susnV2xCum5vO+8LJdCBGF40lDIEWg2BOVzZ3dGEyfyQe7ZikT78XFUof0XwLAAEjyAJopD4Vsdv3NYEvsON1xx9PC+pTqsMicDt0OOMFNJSURpm86SmQHYVm9gX1YMDfXifWOoGNwbWuzFrrngSgh6J0CdGeZIpnUmleKB1fXD6v+tUO+CWgRfI6xo8k++zAXfLuIf2+3fIVxEWkl+aNdwnHgE+DdN2r7JXHFcKOg4GAEeRgoDyIecRjMENhnCYWi+p38hKJGM7j0tzSJE2NDVJfXy8tkdZ24efKZm80kKCwg6YSDOGjvOVSXVUt4bIKKQ6FJA6hHCzCESa+YuBbqJ0Mltv92PQkd8r3eDwg0WhEGpoa5fz589Lc3CSRSBRECZNmICgJ3TC854ckSOLw84kLroRCckM+jkGYeRpHM6xaThmX8RiHY3w47tt/UOobmmT7zt1SV9+gbUXN8gJJpsmlL14sRLtT7FAYbqBeWhqWyooRUjqiUspDJRLCcxJDudmpCpDA4VgNvo/mChMB+2ByYbZbt6WOxmIqxIuCAYlA4J0+cVzefX+jbNr0kdTV1Ulba4sEwyV4az3ppXKIQrLbFIfHDSKg2gmRiEJLwayPqqqRMmtmray8eKXUzpot4ZKwdjZKi0NKHhSIFJjuyxLtSBHN/ESU5fV/Noplb8QzsXPXbtnw3kbZu2cPSKgeYRJSjHoGSI78F2BfuntBz9rq3Y580g4JzsDB6roL4hDzp5NQLR6dlqIgytUgZ8+fkzH4NmQA2DM809LxU7A8ibXz2KX/mud0SsA4+u/R33/tnbPenablABd2lpi5l04A5amRxQsXyaoVK2RczWgJ4ZuVJEjvrfJKGcjeLCIW3VyWEDCCzBKwuUo2Fo8i67icPXdONmx8R5595ik5c/a0zJ07S5YtXyZj8aHZcEW5FAXxEqcKyRe+/SrlPaxOvPrH0cGob2iUxsZm2bt7j7z33gfa0bjqyjVyzTXXyJTxkwXfsIdW0I5XoRGka9ZoNCqHDh2SZ19+Rd58+20pDZfKFVdcITNmzJDyigrVoktCRdoZiEPoq6qZjOzIyKWlTOW7x1M/ITnySYD9/HH9ZMU4nGDt4vE69Vzi+UzQOgLY+dPJxhog+UcTQhgcA74E/Nc8p3P3/ffo77/WJEiE6vh+eGcsHwmSmnV9U7OcOXNKPnzvXdnyyWaZNHGiXH/ttXL5JZfKCODH7EJ8TvhLxk8maIcCQcAIskAaqrfFjMYismvvTnnkN7+SA3v3ytLli+Wi5Utl+rQpAguhakns69MAlHr/+f6mLryc2NtPyhP1cAKOF07+XGhWIsWLC+vS8qejCeNP3sgOCmFIcOgi6EDQnJpQrXvrlm3y1rp1WtIvf+EOWb3iUgnjK/ckGJraCo0gqUFGIxF5/c035OmnnpJw9Wi5+LLLZfGSRTJiRBVMyfw4MUhAx/tYbRIPCLKnlkIjUtdylILTLo7trBN5egjE50OfTcZOPhg80BpCjZ3kxusilEmfKVw4zd89Y4yaOYfSJMvBNFl05q2cB601nohKDMMXx44fk43vbJCP331PamdOl7u+cqdMnTRJ37EQOhkCi465wkPACLLw2qxDiclrHKMJwlRG8+quvbvkgf/vATl95qTc9uVbZf78WrzU+BI7TEWeXMJfZSn/C0sB2J4sT5X8vAjtN/xnCEQSvUCQntPpRRr+LLN5zjpTQ+IYI0Wwt3YNR/jFgOuZ06fl+edflAO79sttt90ha65eg7HJEh2XLEKYdkdEmJqm2O6dszO2d9wzC4L6Oamkra1NXn3zTfnPBx+U5TALXvO5G6V61Ggl+hjChmBWhZEZwt1rXR13o4kVcVP1ctVkvZhFL6vrOlUuvCM1ve42HSbulYXtUwRzq2dgZeaeU7Mny6xt53y9WK5oXgqpGmiK7h5j8L67ZkreBena7zD+SHyIDbAinXOIkWP+AXSYdm3bIY//n8dlNMav/+iPviYzp0zRyKFixEHHpGtnyp+2necbAkaQ+dYiPZZHX1uEcK8x3lF96/myJkCO++TffvpjCYWD8qXbvygTxo+RaKJF140lYBui0GfwALQkJ5B8SaVyZur607RT3h1OGJ+3uwvi0mAkJwQ7JMC4DMRj8qcXOfzD4rj6aNFwEcUkJ45/JUCCzU1N8sZrv5d1696RP/yDu+Wq1VdBK8fkDJBHsipIgUKTV+0+uMiZS8DknohCt2MjwKwewfnLb70lD/7mN3L12rVyxZVXQxsuT5WP2rMDwT1tHlG6RRzp6+VwSyXUw0n6FLwIvUlHJxYhuAvL9ByZ95BtH295qQc6bapBX1d+nntEmgyLQwg3jx86KI88/LDEgfWffutbMn3yJEz8au9EsaxGlH1sjhwFb2+1HBXAsu0LAnw13evpxeO4SQwv3Nlz57Xn2tbWKl++/UsybsxYiSQiIMckGSKa9xonrxm9Y1Jegvzrvfnt1+nOLhBG87pAGJePhk2XxyD7+cuhRQc+FGTUporQ+y8uK5ar1nxali9bKv/n8cfQIdntQB3kkvY+OxXGym00m8Zl07Zt8sivfyOrVq+Wq65aIxXlFZoYDMUwf8K8DNshJ3jR+fFQjx7+MEZvfz0k06c0XH49pZfpex4yXqpd8ocHn5UJU6biHbxDzmNS0ZNPPy1NmARFKwTbgr+hsSwo08jmZ3pGkPnZLr0uFYVeAuadt99ZJ5s++VBuvOlzMn78WLyoUQlBRYvgn6fV9DpJC+hDgGNeijGIMojORjmm9l93/fU6oeXxxx+X+sb6bvsZvmRydlqEMVI8IqrpNmBSyVPPPCOTJ0+W6zDhqBTjqJF4RBffUxPSfwgLGW6u1wiAFfFc8KeWEmBHpXMCxh9vvfVW+eDjj+WDDz7Q1PgcqfarpupeZ2ABc4iAEWQOwR941hh7RCKn607Jyy//FuNJy2Te/DlYpdCKcZKEapCYb+nTFNnnNdcnBABZCKbJGCZjqFkM1yMqK3VG6959+2Tnjp2qHfQpzUEMrMNk0Ao5Pv0RhPV+rCVc+9nrpWLESDwn6FxBsEfQneLYI7UbPWKCDp09LRduKIeRJ0g5hIEOFTy5DGXeksUyb8FCefa55+Rs3VnFlyRJbdJcYSBgBFkY7aSlpNhyvXuacjyhFpe9MPW1tTbLZatXYaaft24NqyF1pl3XAUC+0u61LqDK57KoIA/ObU1wZif+Eb+ZtTNl7Ngx8s769dKCSS+qZaJx3DGXxfXnTWUlgDHSJmiPr7z6qkyE9jh96nTsRAOTHycXYcIJnY494sgnI6lL0ltdvpkEnanSf3RlzcXRwy75TqHDwVFoTtxix+qST10mB48clZ27d2nR2MnKNzxzgVmh5GkEWSgtlaacnN4ejbbKRx99JGPH1ciECeMg3Nog5CjEOTGDPVWlVRwcKXoiME1y5tUNAkRQHaDjRKc4tPOS4rDMmTtPPvjwQzl1+pQKPaVOMFI+CUB2qFiuI0eOyN59B+Syy1ZjLLUcjwMqg2fCq5s7Jutphz4gAOyIo75fyfFqdEhaMbmrqLhEps+cJdNnzJCtW7Zo5ymfno0+VHLYBjWCLOCmp4zjRICdO7fiJZyGHivEHYQ3jDwQ0pwMgEv8POeJQop47+f87dhrBAAht+7T7dDwZ+b06dLa1iIHDh7whB+RbQe818lmMyC3OaNWu//QYV3bObO2VoLQhDmnmU+EEqU+E9ksxXBImyTJ9qdWjvpCM2f3tCRcjI7UXNm/bz+272tWIKj5misMBIwgC6Od0payCL3W06dPysmTx2QMdsgJYEEyGzQQhPjjewph7QlsR4optlTLKzg0/TFtbl09NdXu0uiDDOi2HD2knY04XWvYyQcVprmSJjScSQ0wr8LC+iOHj7RrB3km/FgcLvo/efKkjMMWbSVY0hFh50k1HnSlku3U/mR0qnOHy96F6hClYC96V1dqjvjGSKqWvIqgQ0KjNYkygCGPcePGyZm600qQJEduLmGuMBCwzcoLo520lF6fn+8dDH0UfHg5ud3V+fpmmM1Kdf9QbwEzaTIp+VSb5Mvu/WiWZTq9e/0vDE4m0slEGhcuae9CONS6C80dVLixN8eYyoA5hd35s2egPVAoMrZ2UbqLngN/lgmGd4yTjhw9SkpKSrSUFNSsCztZ/Hfhb4TmUysNFozEhe3Zk+Pb5J4aDyPdi4le2LkcKEsZOlFtWBPZiiVY3AiSH1gO4vlJIcqwqYue8rJ7g42AEeRgIz7A/PjKtb9NAYlF8OLh5ePeqvouUzPQ99W9cU5gqyfueeTo7va3OAONz3wzkUZ/y582HiDqAF2aQNgOVMtNzawY29HhP/CPAFaISf7wuQpYNfOmcimMwYYl4TA0Gu8JYk09LZLPg/NLU2H1SqXSXYAh7M+6J9+dLrV0uLTf53PBxqfpmhTIea0hdKI4ac7mrnYBMO89LtQ9yvsKDPcC0kRGE1oRdurgZ4mS9r9uYXGvdLcBhvmN3uBDvDUcMKcIxLx9oOYRZPfCNA+A9aS3FsTV0x09RudVul8elD2nRUiHSTty3RatnTe7pdhu49qNvEDACDIvmmFghWD/nzugUIO5IEMOLCuLDQR0XDc5vstzageegy6Ga489DSpDwBAodASMIAu8BSmPIZX1x9mKTlQXeLXys/hJjSCFOUuJTokbTSI56r38LL2VahAR8OuX/vNBLIJllQEEbAwyAyAOZhI6IQBCWTUVlzGI0Zto4Qlr78sG7iaOaUxrvrt22lsEKOlAkoSTWjuPSc7EjaQYVL92X5d0h/Zynlk4elaENAmjSP4Nsr3yoBa00RurpwFsYF5sB66XLWKPFfjqF198TMlNPnS5EDtV7tkZWJYWOwsImAaZBVAtySGKQIr3vJPU5ZCo7tCqTV40iUGaF80wkEIYQQ4EPYtrCBgChoAhMGQRMBPrEGxaLqLvzvmsPN0FMX9DwBDoJQL+V63bd8sfqJfpWrD8QMAIMj/aoZelwCvIxY76JnJwgz+MhSkjchYrbuiYhr2RvQQ0A8E4HuwZYjjulOqcdCstM5BlD0l0Hut0Y5J8IjjeqBsDoJxcmMKvTnC3gFSZe0jXbnWDgK+dibHDUqFNXhcB7xBu8scnxYVJpehLI+VnJ3mBgBFkXjRDpgphwi5TSPYpHUrGAnAUzBTQtmA9c43lb/p0POeIUnNM4u+Pk7mSWErZQMDr+mYjZUvTEDAEDAFDwBAoYASMIAu48azohoAhYAgYAtlDwAgye9haysMFgS6DSvlXcZr6+HNjkl1LmM5A2DWU+RgCwwkBI8jh1NpW1ywg4Lb44/wokIz+spBNP5N0k3Z45AbaOpHIHTF5hI5FNmcIGAJdETCC7IqJ+RgCQx4BN1HEHYd8ha2ChkA/EDCC7AdoFsUQMAQMAUNg6CNgyzyGfhsP+Rr2RQsya6L3ODgc3HHwHpILtVZvS5SpdDJR8+7K4tUldbe3VctEkSyNjCBgBJkRGAcrEbxqAW4OQMWfP756XPvIN48L1uM9TMJAkCHuUoIoTT2zJ5suvFEAx/3442bh0WhUgviArrt291hk3qNjOP5i+M6kPyzHEfnFFv89XjMN/1ijJpL84+qt2OAihseG57qnBPPqCTR/Qhk5Zzk19x5SwyeGXWHThmIavMH3oDvHsVbec7XvLtzA/bkJAFf+I0cvMV+W/IQAN/GIwY939TX1ZdkBe188XxA7zTECRpA5bgDLPjMIpBNAHVKmHOvgkcGLpGzsLkWSF8nu3LlzSnClpaVKciQ3R4okQvozXFtbm4RC3qvZ3NyscRwBlpSUpOIwPuPxXnFxsabZXRno7y9m1rDotgAud3fsLiDvs3Q9hevpHtP1p5HNmnrlSJEjs+7g2svp6Lzdp0NAu8hTBIwg87RhrFhDBwGS3ltvvSWPPPKItLa2yg033CATJ06U559/XlpaWpQMx48fL3feeadEIhF54YUX5FOf+pTU1NTIY489Jjt37lTyGzFihKxZs0aOHTsmH330kYZdvHix3HrrrULiHBrOaYg91cZopid07F7mEKCdzpwhYAgMBIELKCmnT5+W+++/Xw4fPizz589XMiOhUesjSX7yyScyatQo9d+7d6/85Cc/kddffz1Fitu3b5ff/va3Eg6H9ffaa6/JBx98IGPGjJHRo0drOKdhDqQaFtcQMAQ6ImAaZEc87MoQ6CMCHO9Kmtp0cAxs6ds4gPdIkEePHpU/+7M/k2uvvVZNoiRIaoRvvPGGLFmyRL74xS8q+e3evVsaGxuFR5pcb7nlFtmyZYuWiRom41AjXbVqlXzrW9+SiooKTc+NTXYhyoJUtgqy0H18bix4ISBgGmQhtJKVMc8R6F6gk7Co+VVWVsqhQ4eUzDhu6H4cg2QYjjnS/Lpv3z6ZO3eunDhxQhoaGlTL5H03EceFdaRMYNyknjwHqQ/FI549/fqQlAU1BAaAgBHkAMCzqIbAhRAgoY0bN05Wr14tv/nNb+Sll15KRSHJOaLj8fz580Jz6qxZs3Sc8dSpUzpBh/eoIfJHx3HKt99+W+69917VQEmyLp1U4gV70hMx+u8VbAWt4AWEgBFkATVWoRSVYmywXS7y7E0dSVw0g9I8ygk1P/7xj2X9+vU6E9URnkuHk284a5UEyfFJmmUZnxoinSNBap8kzx07dqj51n9PA+bNn/ZWaT/rWjh3zx27hmj36U0YF9qFRTfEeenRXXn+vEr36xDFLoYpAkaQw7ThM1JtCG8ne7AaE0niB78A12g6maN+9Pdy5N1253mmwuOeppMM68WBeREf+vWm/mONnMbnxHovHS8o1gJqovCFxsYPGOOQdLzjfs4vE8fep8kyTZs2Tf7yL/9SJ9X8x3/8h5w8eTJFeG5dIwmP5tilS5fK2LFjZc+ePTreyNKSHEmM7vyqq66SH/zgB/LZz342NUmH+TgSdUeNMAh/PDTYLu1o81wd2iKoDcJW8/61tyNCaPuizXCq7Y8j943lc6G3kne49tflQ13a+2FtKHx5rh+B1nNSHzoW+gwANxy9J4Z+3o+l1NuIl96lSp/+tvq6FChGed755/zbk+hNqu2h7SzXCBhB5roF+pQ/XsCEazInIiAKdFIIhWPXF7JPyfcUWMmw/fVWUguEQEQU2kEIMpQtRoLCvC8ES9BfJRaOWi4c8Ql7jaemwqQoJJmpYOERApHkyp/3uXsJ0Q9pYsUfjhCQ+MWhUcVRZ4q4mIpGxg2CKLjUAQvsE7EkqSYxCuBaN1joqYK9vcc6MqyXNtNNXTMP3wQdlyLJypEkl2lwLLKuri611lFTAyYHDx7Uma6vvPKKhuFEHU7IcWOMTIOO45UjR45U0y3HNkmcTsukVsr8+KPpNZZgOVlakAhgJfE4F0Q7sfUy5dg2fAz0eQQOITZlIsIWwUkETcMj88ePzKfPFJ5bnMfjuIfIMdwrQquzsIlITEpQwiD8E3i2NAqfBdSBuHtPI/8iPfwPBkmguMd/uB+XNuASR2poI5QjhOcA2zGgLXAMsq3Ydj39mLaXC066ccgPQRIsY5qfPvtaXkfgqBqrn/whirk8RsBmseZx4+RV0SD8PKfSQAVQqKhYx8OSDAE/Uh0EHLruESx2J3mCQuHv9fB5L6ZCG7vJIJlQKCjFRUFpbYuqgAyB+Iog7FXAMzMI+xb8AqFipEXpDjrkNcMgrbYYdp5xaSPveBsFXxE0BtyH4Eu5C8m4VMDenjDBrpLN+Tgic6lx4b8bTzx+/Djq4k3KYV1IdrxuampSUqT2uGjRIg1/5MgRqa+v12Qc4bkj10/yHonRbRLAdNx9kiav8d9zeoKLKIglS0smsWeMlydap0jJIiYxsFoCJB8LRNHW6O6wGVEilpMnfFYAAsgN7YnnIAZMSBpFbG8SLsJF0M4BHJlWHOmEEDYeAfkFizWt4uIQ7uHZwNhsHOGCiEcS1TTQQYjFkCb8SWBBsHabEia7UsArCU/6A+86ANOH8Hx7E6an+HYvXxEwgszXlsnnckEesDe/HxrPtm3bJdoWkdKyUpgGl8jZs+fUfLhw4UIQX5vs2rVbZkydLhMmjJdz9eflww8/kP379suc+bNl1cpLpA5+G97ZKEeOHJTZc+bKiotXqEa0ectmOXrsqKIwY+ZsmTNvrpLnrl27dAlEEQRdGZZBLFq8UE4ePyF79x5QspiMBfhz5s+TULHTTD0g0yh2GUSYAtIJSXf0kqdgJpk9/PDDsnHjRp2l+rnPfU43CiBpcrkHSY677JAQOVZ5/fXX63KOH/3oR2pmJdHR9OrIlOHXrVunpLp8+XK5/fbbdZYs8+I9HjkDlvHKysq0IORH/toZ0ytfJv9qFwp5M99YPCpbNm1C++9AFgmZjPZftHiJVFeP0vbj0pW21jYJl4bR5hfLxPET5NTJ4/LuO+/KqbozsnLFSlm2dKHs2blH3ln3tjS0NMkCxL945QppbmmVDza8K2fOnJYw6rdwwSKZOWOGtEHj3LL5Ezmw/4BEQIwTJkyQJYiza/sOOXhgHzoSYZk9dw6ej/kgUHagKP56pshM4mNpFR4CRpCF12a5KTFNdRSw+gc9b/TK313/jtz/s5+ruW/q1CkyBuNmH73/oTyLxe/f+c49EIAR+fefPyB3f+1rOvb2zDPPyq9/9SsQYIlcceVlMn/eAnnwPx+SV155VQX5088+J9/4+tflklWXyEMglE0fb1X/mnFj5Nv/95/K0iWLQQxvyy9/+RDMi6Nl5kwS7wR59rnn5aUXf4ewlTJ6zCiM9f25LIEmFovBrKcOBXcaZYblISFRky4ELbgB8hY4UXtKCl6SRXl5ua5bpKbH9Y5XXnmlEiCL9s1vflPJkrvmfA04rVixQuu8bNkyufvuu2XKlClCQr3kkkt0Zx1qhl/5ylfQMdmmRMixTZIiHfMiObqdezjJ56abb0JeVaotUYOnhs0yZxgGpOmlyHqXoIznm1uxI9Bz8twTT8io6ioYWBPy7W9/W2666SbsKvS6/Py++6VmzGgZB2KcPHmSlFWUyi8e+A95DnGqsWnC6JqRGIcdKT/6l3+RbSDTYnTAXsQOQ9/5r9+RMaPHyL/fdx86Yqe10zB5yiT567/+LzJl8hR59MFf6TNSM3GsLEXnYcK48fLYo4/KO2+8JSXhEhk/ZbJ89799X+aiMxaltkrg8IeYmDMEOiNgBNkZEbtOj4CnfkCSQEMAAdA0Vg8tZfzY8fIXf/5nMm36NAi5Cnnj9Tdk39596MlvkVm1s6X+fL1EMQZ5HOv6Xnz+t+jtL5avf/NuqYEQbKxvVGF2zdprZO3az8j/uvd/yfq335F5s+dJGwTspatXyI2fu0nu//f/Lc88+bTMnDYDi+ibZcaMqfJf/vqvpWZ0jZIJzZPTZ8yU27/8JXnwoYdkw4b3ZDEW33NcUnTciVWC6ZVjoZCEJBFHYOkr2ztfj5YEpsGIas0hEGCA46ww8fklLolr3rx5ur7RkRkn6dBxSzk6mlu5FIRl4z3GIZHSn5sD1NbWprRCauf8uXjUPrlEhM5pkJs3b9bde7hLz9fu/iOJwLRNM6WSKMLxqISpsTLzh3hwTDgODBLoKJw7c0ZmLZgn3/qTb8oDDzwgTz3xpKy6ZLVEI1FovCOU1ObCMjAK46ns+Lz08kty/Y03yC233SYTx46Tjze+J9u2bpE70SFYuHiR/P0//oO8jo0VbrruWmlrapYv3/oFmTh5svzoX38ov3vhRbnjzq9ItLUFz9g8+Yu/uUfGjBurpo42+K3ExgqrLl0l9933E3S8Ppba2bNQf3QWPF5XADLxTGQGSUslXxAwgsyXliiAcrRrHpwJSHEYRK88LOMmTJQJEydhiQL2FcU4UynMhlu3bJMJ46dIcTCMX1AOHDgs5xvq5WvXfEbmzZ1PvpIN776rZjYK+9mz5sjcefPlow8/lFaMOXHC0YjKaqEJcflFH8qbMCk2NjSq+bW4uEQmTpqkWmkD0iwOeQvxa2fNlpFVo+TM6bNKNFreJCl2UBN8QnEgsDOZBDoKO7Zuk//3f/4P1B+bjHOSEs2cnm7Sr+RJkkpkviMTop9z7lzJHuH8jqbYTTBvcmu7X/7ylxIEcU+aMQNl5bgkOYPp+2PwnGl08ewcqNtrrwTsPCElpB/ESRBjzGWlJSCshXIdOkA//9nPsL7zEDDC2HNZsYyDBjll0gQ8A1HZuWObBGCSvwbhFsybox2DfYf2YxiyCKbZxegQLJCpIMP9mOnbcvkV6j+mZox85so18jSIdydMuc31NCuLVFVWSO3MmVJaXiGnjh/DZJ+EjJ44RpZgbDcMbOrZmcC4KNspVWWWe0AIdAuN3ShgBIwgC7jx8qHojY1NsnfPXjV1cWYlma8Y40IHDhzApJPDEJKYQIGJIadOn4J1r0SmTJ2mEyo4ifAsNJ8ghHY4XA6BB7LFmOL5c+ehBXCmIeUX4sKUSzLkiFEdwtN82QIi4lgkx/ZGjKhUGCKY4LEf45Bnzp2VT135KQhY0HeSBag5ebM3KQIz55haEQZjJ8G8fN0114B5MDkkgoyTgpdE0VvX27Cq+bl64diZIHmfGwlw7JEbmlNDvQJLQo4cPSatKAyL5Mi1t2XrTTiPWokzSBJUo10EaJHFOk82AXKbAutzXM6erNP7kaYWbIqwDZ2gcjWpHkP5StGWNaNGcjI0v/0lTY0N2tkaVTUC6YiUBUNyGOPSbTFMs0HaNG2HR5TKFJiZd+/ZJa2RVp0d2girxRaMYU+cNFmtHcTo/NmzsumTTegkFKHjNgHlYwnNGQI9I2AE2TM+djctAlx7RgIq0gkR9/7oXrnk0tVy11e/ChNbQioxFhguK5f3MCmF5rQ2zDBshkksBE2yBNpMKIBPM3H1RxQCFVKKRKbmLkpGEColVxt6+CFoZyFoi+VIKx6NqQZJwbb5k23yj//0P+XKyz8ld3zldpBhQhfN33vvv8ns2TN1HM/TcCms6Zh+5sUh02b5x8IcuHzZJZgEQg0tkwsntPB9/kOCpJmWHYivf+PrwGSO/OrRx6QFGprXc6D2n0nn9GWPGP2pJ+JcXgGtDmbiEmBz5nydjpEeg2bHTRMWY1z5T775JzCdY0YuwAyjkxTALNVom9deRDOg60Vwgvv8hiLblibcOC44EaysvBR1a5UIZ7LiuXn3/Xfl2Pd/INded518/qYblQpp+ufzuHL1KuH4LvsYmX0i0qXmPX2ZRNrSGlwEjCAHF+8hkxtf/Qg0gvGTJspdf/A1zECthUkrDMFTJCNrRumYGSffhEtKtfdP8RFHj1+n/bP3T0rEhBFqFVy2wXuwn6rpi3e5VIOO0/epAdDUFoQGEYVGOaN2qnwdE1hqZ9Wq4GW4MKb6NzWexy40tdAQxquwdWKb91Vo90JeMYh/XIpx0zoNSG0Md1FGFp3jf1iRqGbXtHH66NkbTa+z5slrznj99Kc/LWvWrNEvfrREI4pxK5ZGQAFXEyv6Hhl1LjnFGWWgC6N969F5iYC0SNpsyyKQXxAzjMdj+727/uAu3V1oFJ4XNhBnJnMhf5BEh+eBwol+nBBG0uQ6R86OTeC+Ao9eWkkIa1bQCMxRnyc8VwsXLpY/+MO7ZdrMGRgCKFWtsRizZTkl5zJ0qsZjRm0IPbQo4rFzNXDXUxrePeLjMBp4fpbCYCFgBDlYSA+xfEg+ASzCrq6pkotWLpWJEzAGickQ0QTWp5UUyYIlC+SNt16X1mZoBmGBoK7GZtwtcg5T+APF0Ogg4zj5hAKwuaUeQg+CD4JcF70DqxAWSipHJqLSAFNbGOOaNKeSkMZhZuIlWCIyFrNbm5saERrLCDCWVVlVJTu2bZMWhC8LQ0vNkkhSMyfT5n9lSK9xdQIOGMjvl+1m7y4v7sSjDmUMxcA+7IiwvNDSi4B/NhypQMuDE+rsNAiQtDjRiBsj0OowesxYOYsxwDC0vmXLLpIlFy3DcpVmXf7BMez6unoJTRQdV67GRJ4ongk+VzS1R2FFqKoYgWcFM3VhtscDiMlHMWy3d0aqR4wEuaJ7Aj92kK6EWbkcY5HHjh5XzXLOovmSgBn+fXwm7DPXrJVKPHtJHh8gFHhO3Qzp7lJiRsQC97Xbh3M6asPqstMcycTtMBAEtMM3kAQs7vBEIAAVhD1ymrpasZ6NGh6n95PgYhBqM2bMkNoZM0F+0FowLjcF43Q0mb773gZpONsgTa3N+g1EqjR1p86oOfBs/VkQaY0UY2IHF4e3YayxDmNHO7COrRQCld8/5NINbjsQxThUBBoRx/solCsxTnUVtINjx45gFu3erloghZETSN00GeVUb37dRM9rb3/V/eeZLrSOHwJF1d4BJngNz0CLfLzpEx1j5lIgGAhwH88PngeWpRiTeaZNn4F1sg3yCcI1YlZyBBFrxoxD3AjWhx7DBK8mOYuNESZNmSrl7FhBA6RWyrHV7Zi4w2cjDG2RO9Rw/g03Z6D5lc8Gth+QMSNHy9IVy+W99zbKHjwfLEFn7bvvWGQTyb6XxmJkHgHTIDOP6TBIEYKBtjq4EydOy+9+9zuZOXOmjifRNMqePrdA47T6zZu26sQNrtdbgrGfZ595HksS6uWipcuwNvASLH+YI08/96wcwzKQd9/dINeuXSvVlVy3J/LhJx9Jw08acNwqN9/yBWz6XaaC8SgW1D+PNXHTpk7FesfFSpQco5yLDQLGYwLGW1gysBTph2B2NTeICGDGMCkvpp0nrz+yC2T00x/fj6U367GM5TKZOm2qvI31s2frzmJd429l185dcjkmEl26+lJ58cUX5H//4hc6weszaz8DE+l0TOCplicef1w+/OB9OXT4CJ6DW6QMBIm9l+SV378ub29Ahwsa6GVXfUoqR44i96KDtEcefewxmYxnbvasWq/zBvM/15I+99xz8s6Gd2QBNgsIYHx74CQ5iPhaVoOOgGmQgw55gWeY7DRDcdNF+jVY0P3WW2/Jy6+8rLvBjMEC/tlzZmOyRQkIc5GsvnSFmrOqR46QP7r7DzGZZ6V8jHVoO3Ztl1IsDr/jztuxNKMKpPYWTG5L5PobrocGWSy1SIPjTtQEvvrVr8jNN34Ogi6IdW/jsWtPmfz+1dfk9ddflwbMep0+Y7rMrK0FOY6Xyy+/DGa3iDRgh54OzuNzT2p3uNHfi8LSHlz1+1vbnuMlU+eBP3SeuBfvlCnTZMTIajly/LDccPPN8kd//A20XbmMw6Sm8ZiZ/P5778lLv3tZTmAnpFlYovOtb/+pkto6kN5+zICunT0Xazi/Lg14Bt7H8p9rscPQ1WuuxnhzWGYifD2W/RSXhOXbf/7ncvWnr8F5SNMprSiXl/A8boC1Ig5NdA4mKXETgQX4zubVa9ZIBJaJ5igsGzDVplx2AUplYyeFhQBmwGfGEl9Y1S7c0upLjZc5gMkM3DHl3fc3yPd+8P/I3373b2U6FutzM2YMOGW9ghQtDZiq34TPM9HMygk01dixpaWtRc2l1VjywSUQDTCblWNmIkmNrgHjTxyDqoCGORo9fpppz8KMSrNaFfyqQJZR1KsJmxC0QSvk2GNJWYVOMuFuOC3QFrhBAU14QUyPpKYaxdgSh4GqoVlw04A2mN5GIB1OxPAENnPm5tXULwbq0DNg5THWlYgF5F//5Ycyt3aOfPMbf4Jt4zBJiesuoUHlynV5nVGUCDYy+MWvf6Pb+n3pjjskHsSGBtDRdeMEFJQTpjyqGEi50SIa3ZvJyrWW9Vhy04ot4riDEJ+NUjwHmLgsLTCvcx9Z3SMVz8hILO0oLS1Tk+npM6d0TLIGzw/JFVuvSh38WlqaZSS2qauursZzEZFzeIb43PH5qKzA2DR6bBHMmG1paMYz2aRtFEQnjRsScK0slxNV4bzu/Fm0UQKbE4z2nilfQ/Hd4r92B1y0Ut3hkkStmzFI3mXMAzu3yUP//jP52//6N7B6TEfZvHg6BgkTMF5mL2B7xnaWJwiYDSpPGqLQisFJGJWYBFExokKLzmt+YaOypBLkV+FNkIEcGI0Ziq4LRrFQAeIaOXq0xDirEQKOY0RcPzkKO+tQcJHCONmlEoKQ11y/SJGrhARS4sSLcphaPRGDv0wDW4gFEpw/ir1HsZtPGeIVUejQeQG98wz8dclxpqs7z0CyBZ8ExxSdQ4sAf0zgAqFJ9Ug+GfglsNwHHRnMaS4pKcdz4bWhEhLakJ09jl+PHzdB21zBZZJYADkGZnNMa8VzhNmwmPBThM7YyFE1SIvEon/xeGBJEKbAVFSF8UxWa2eIzxZN/mWjw/oMsvNQg3h0Xiw9tT+GQLcIGEF2C43d6AkBCjb24CFz1PHg6SEQPRBMXMgNWkv6amgVcvSJYNKOilOwjBOsLh3eB9vpgZ33FAkhgOftfRnE05J9meN+TBPRlJWsvfJoUvZnEBDwWoP4s43Y+tBN0Sb01/4KtGvuPESiYtvyHpcFabPhDz9nRuLSGCQ+BGIqUUzYooUCHKnPFh8eLw0mwuyYJo5wtJ3w+WOG9OMEHfXUu5xFivzwj50zfnHE77yS+n3sfLgjYAQ53J+AgdSfEsgnY2guVUpLWnh5RfMdRZ7e4h8OXlJ8YpccrkFzdOcFYFgN3aFUKYHqpY7YSYL1ElVf6Aq6nKCIq9KZMcrQUf7B01fWDhn04cKfhP+8D0nkMChL3LnU7todB1I8pkHw/Ue2A67Ru2EHh0s+eJck5m3mgGckSWgaS2/iGdFnC08Hmw2bRyT7TEqMJD865sQ/PLJDxhMvDeqp/CQaNFP4e08Vw+AbmWqjcOHaKdFLkQn2xWlufYlgYQsMASPIAmuwfCouxYMTXF65OoqZdvGBM/5PCjawpApKJUdKN/UncVJg0aPdMQ2Otzpf0id1AE1QxaF3pgI4OeTI847kyPRcCjwfoEvWAwqPr04DTDND0dsx7phgqp2oxQEKkkYSOd+xY5y+XmkeTNalrwChtXHNPPHfa2qe4OdGhD09MZmbdq7YfkwIDuFY1igS4C5FfBaUNFl+vYeD5snnR730D9PmR7aphVIz9e4yLWZOhzN3iivfqd71/iTL4PPpesp0XOod76LEyfx6k07HuHaVHwgYQeZHOxRcKXp65Sls3P3OR6+ijvBw1wXoRkS58O2CzUHlF2lMBJIVB28U04XJ3tGJvvSiMXv59j/lFNBIgufumkvXiaUfT1z20XmpIQ1/MsleiueVvOG770rQNSugmwynOJMck+XlpBkXz3smcJW63544yc8LB7MtztvvuNhdc+2/D9Nsz6FjOtnIr2MOdpU9BIwgs4ftsE3ZRMKwbfoeKt67pyJ9qPS+jgK7HnsoRtZudVfGrGVoCQ8CAoXTAR4EMCwLQ8AQMAQMAUPAIWAE6ZCwoyFgCBgChoAh4EPATKw+MArxtLtJGYVYFyvzwBHgjN+OrqvpT58ZBON8GC61SA34dYxoV4bAsEfANMhh/wgYAMMbgc6EOrzRsNobAn4EjCD9aNi5IWAIGAKGgCGQRMAI0h4FQ2CYIdDV6DrMALDqGgK9RMDGIHsJVL4G6zrmlK8ltXINBgJdxqSTFlSuGdQ9tbEokFsEch2+23KBqwzNGQKGQFcETIPsion5GAJDEgFvYT2n5vjHHXnufkOy2lYpQ6DfCBhB9hs6i2gIGAKGgCEwlBEwghzKrWt1MwQMAUPAEOg3AkaQ/YbOIhoChoAh0H8EUhuy9z8Ji5llBGySTpYBznbyXSZlZDtDS98QMAQGhIB7Z9u3XR9QchY5iwiYBplFcC1pQ8AQMAQMgcJFwAiycNvOSm4IGAKGgCGQRQSMILMIriVtCBgChoAhULgIGEEWbttpyePxGBZ9c4Ubln0XcfW3f41bgVcuX4sPjPUfjnFdQ5g/BeXGEf5fxzWPXjndGBivbKOJzLddF3yxMYP3vCRbA23kD5P5EliKmULACDJTSOYyHceJyaO7zGWRhmreHbDtcDFUa2z1yhgC+rzYQ5MxPAchISPIQQDZsjAEDAFDwBAoPASMIAuvzbqW2G2lmTy6y64BzccQMARyhoC+mPZ25gz/fmRs6yD7AVo+RQkEinQciWuqdDyJu1Dn2bhYPuE11MvSZWzLLHq5b3K8o3w/+Wp6HGkkmftG6V0JTIPsHU4FEQpj/+YMAUPAEDAEMoSAEWSGgLRkDAFDwBAwBIYWAkaQQ6s9rTZZRqCwjWMsfWHXIMvNm9HkHdL4BKehnlFkBy8xG4McPKwznJO3Fo9jTt6L6Ak/3QC5F6ZW9/JmuFDDIzk3zqvYE0mvn8kx4ABWRooE8xKHzo+Fd40xbJTWPUV5WfC8L5RDls8C30s6nOvzwPPkNzhxw9474lE4zgiycNoKJYUALvJev1g8KjEsQC4KBqW4JCyRSESCRUUSTXifxe2uWvaCdodMb/2jCEgCLJJIa1Qi0YSES0sxASMIeRgF/iIhbtiQJM3eppqtcN7TAsGMiSJtLa2Q1UX6nMRQvjiJHs9MwAav+w0/3zY+DTEc48mXK0A+xHkxMObrGmiNC/26dEKS4fuduUXMOgJmYs06xBnMAILM7XxCgVdcFJSK8jIZMaJKzp2rh7DzNBcKRfBk+l8GizN8k4JQBLG0tLaiY9Iqo0aOUgJim3izSPNH8pEDWaaK0jKpO3tOoigz9Vw6mv4otr0fz831DQHX/eh4TJAV4yDForjEYxFpammUYKhIwuGwJu/e4b7lZaFzgYARZC5Q73ee6INqNxXbykFjCUBIjx87XqZMmAThVyeRljYv5fyRz/2uad5GRM8jQJ0BZNhwvl7q6xtl0uQpUMT4KkFjyDPsqRySIGtGj5JTp07I2XNnJUTWTDrPJOwEvPO1Y+8QcDi6I2086H4koE/iEYliG0hu/3js2HEZNWqUlKqlAc+PD//e5WOhcoWAEWSukO9PvnyxIIgTCddsRVJROUJmzp4tB/cdlLY2mv/okgLP5J4HR4b+KpwgRu6sGYvGZcfO3VJRUSFTp0xL5RAI5NuoBffoDcq0adMk1haRvXt2SUz374WGo3LdHpJU4/XrxJGjd+SKR1pv+BRAaVQLw66dO2TmzFopLy9PWYD6lZVFGnQEnKQd9Iwtw/4j4Mx4NNUEMQa5ZNFiOXHipBw7cRyJ8kXlyAh6spCAMPKk+LL/OQ7nmEkBmByn88xjAWlsbJLt23fIRUuXS01NjWqQHIdMsk6eAZaQiePHy6zamfLRhx9h7LQZWiSKSKLkT5+WPCtyQRUn+YygzNy+vgjvXSyAziq8Dx7eJ4cOH5R58+bpuxqLQbtMPksFVcVhWlgjyIJteJpqvBmI8+fO14kiG97ZgKGPmNYIUzEE03jwF33Z9ve3YGubu4JD04LpVJ0KNtBJPCH79h+QQwcOyGWXXS6lJSXaGdGOC9WHPALcaYnlZWH5zKc/LYcOHpCDe/dKcShEYwSKCg0Sk71Ikub6g0DH9iaKMUzWCgHcluZGeeWVV2Q8OicLFizQTlR/crA4uUPACDJ32Pc/56Qso7zmr7K6Sm747OfkQ2gHWzZvgRk2gPGPNinGQEgMNGmyr39QE2aSYQB46vIZABkKFcs5THZ56be/g9BbKLNnzVbNoB3jPOuNsBLQWjhGumzpIplTWysvvvRbWByOSxD3VLwrU/YPI4tFBDq2OTslkbZm+Xjzh7Jj11a58aYbpLq6WjVHtoONQRbOU2MEWTht1aWkfNFCwWII6JAsX74Cv4vlhRdelFMwtxZhLKwtHsE0c6+JvRmLXZIwjx4QUPLAnziW1IQwjhfAr6kJWsGrr2EGa4t88Yu3YuJFWQ8p5MMtz9SOWugY2M033ySHDh2Sl196RVphaiXxQ4FURy5N57SjgBt27IhBV6xo1fHGfA8dPSpPPfmkrFq1Eh2TpehYhdqtDF0jmk+eIhD8Plyels2KdSEEKLyhQuK1lDJMIZ80caK8/+FG2bJ1s0yZPFmXH0SjUdWAOD5GMxqFPl9zz6TmiTy3tPlC2Q30vsv7QmKm4/3BFMs6DxXVBKK6TgYlAYFwDRun6Tc3NkNzfEU+/mCTfPWOr8rSJcugmQVVO9O6eRXsrFAMFLYBxed4F7VgSGcta3X1SBk5aqS89MrLMAXGZCpm4AaLS5QkYbHXcAiackSfY2oKB/1TPy9NNdEyAntgevSHcefuXueju18oRx3ZR2G98nrWdNbdq3oQ+JEgjx08KL/51YNSVV4hf/CVO2UsxqgJmxt79GY8ayr2J88RwBphGunMFSoCbD5qkjzGY3HZc2C7/PSBH0tTc7N88QtflOkzpqtZUF9iVlLfVIxTBvDr0PIdLrIIBwuQdBQs/EfB6nPukaQAcpqvCiOE4bU7ZxT/9UDCavZcRB8PYo0jJjchH69YCcxEjMqZ06ehOb4qn3y0Q+6842vy6c+sAXFgLXiE6Z0AAEAASURBVGpxcZfya1r59Mc1LfDkCPV5rMt7+eWX5fGnn5TFy5bK2us/L2PHTdZF7exQJciU2jYeOUZJsogHeNodPfzN5r/25acR/Pfo4b/2h/Wfu3A8Mh93r/O1K4O7n82wzBv58Llgx5QOeqGU4IEMQA3nmthtW7bIE4/+WmqqK+Vb3/i6jJ8wVkrDZeic5NvsZi2+/bkAAkaQFwAo32+TTBxJkmja4k1y4Mh+efLpp2TTx5tk4aIFmEhymUycMFHf7CDfbt3qgzVzUsV/lt0aO3nWIRcn1NLe7BAyixcUcoTGm/gUx7gdZxy2NLfIRx9/LL///WswUVbIl790p1y0eAUmRYVVc4xjQTjNZ3ntXDMDXxIkLaqNMBGvX79OHnvmKTw/JbJ27XWy+KJlUlkGYQ6hz/V76G8hbAIbUmDXIMRNWmJzV1XWo7fPSJbCqg6JdyhIPNiLwi+BHZVOHDsir7/2muyA9WbBvLly2xdvkWmT+M6hk6FWBsxwNldwCBhBFlyTdS2wI0nSXBt27hDs4NHY1Cwb3lkvTz7zNEyDTTJnzhz8ZsvYseOktAz9Xt/EDE5N773k6Zp/X3yoMdKpoOF5sieeuuYdL0hfks1AWJYM/wBfS1ub1J87J/sw43Pblq3YCaVZLl+1WtZed51MnsBNAUI6MYfaFpfZ5L3JrDNBAnPoiVjJHpMDRw/Lsy++JBvf3YjlKqNlGUhy0qTJUllZqTOj4zDDhlBfKNbaEcsA0AWdBDuhulQDr0xrS4ucPHVS9m/fA2Lchg5UqXz+phtl9SUrsD62HBo53ys+z+hy+N63ggZgmBXeCLLAG9xpj6wGzyOYvUreUbMrJrCePHNCPv7kE/l40ye6VrL+zFlpaG3QsJ0tZoMBheM+ig7mT40Gg2He8hRoLZwIQ9J04Xh7MJwqHCgUl86UhktlRNUIGTtqtNTOrpUlmGRRO2uWVMA/oeyNclIThyPmBUGQSUBZzygEt3Im64CTZpjjd+7eIx9DU963b5+cPnlKGlqapLWpReunnRet72C3ikKcV3/YmSTZlWA2cykIsapypEydNEUWzJ8nSxYvkrGjR8JEj04Tnw1uN0fI0InyTvKqKlaYXiBgBNkLkAopCAUfyYeST02GOGOPNxKNYL/Wc3ICPd7zOHKzc89545d4EJLX3sFb1tDBK81FxzjKzF1CdQzjEQuWoUD74loxCpBTdWfk9Vd/L7PnzpZF8xfrXuA0X9HMx/v46wn0LmkPzMPfQdCUkBln/4bLSiHoxsqYsaMhCEtgQvW29SOtcPIOZZ4jyIGVYPBjtz8f/rxBgcA7jjZpamuV06dOSV1dnRInt0ujuHfPlD/WcDzna8L2Lw4XSw324OUmEdWVVfqM0Jqgzyo7eMqMCMgIeI7NFSYCeT54Upig5rLUfBW90Q6cJd9LvrhcClI6rlTGwcQap+mnI2/lrMjUXh5++GF59tnn5eIjF8s1n75OarFWL2daGQQbYeOElCJqixBuhMqDKwloztAaeMasgfd8eHXiNWV4DNoOn5OR2LqQsy9nTJ2mmVFDVkA8AAZegCGSAgnQ//O/TylyZF0dUQ6Reg+3ahhBDrMW15eagr+TrO/wUvcSE52k4AtLjc/vKFtVwPo8eR3EfHhObuH9d999Rx544AE5eOCgnMT6TZLjX/zFX8iYMWM0FstFsuycji/JjJ7ys0UUatQF+H/I8gKrmUSOGHOiETHmj9fuyHO2lde2LkZGIS+oxNxzSFy8H4vvAzOJKp8bouWODGWu8BAwgiy8NrtAiflKdnRcm0WXgOboCTvOU2wXdp5g9IxoqZjtt1NenU+CnMrnc0zf77h+Tgdj/J7Il2MzjNtQ3yD79+6TmdOxkTZMwGPHjZVmLMQ/euQwJhONJU+h0PxkEMdyOubVIcl+XnBsrYNDFi6f5ChdEqXOeXe+7pBK3l10EdKdqh2jOZv4+jDmWLCSJGrDWZjmPAT4fDiSZAePLoAlU0DQu8BfbtznHIMQvXYfd8eOhYCAjUEWQiv1uYydJGCf4/cyQuds0kmBTmFIom5GH8m6Fd8nrK+vl/vu+4lcffVVsmLFSv0sUHEx+m5OoxnkGYDtxJmuQhR26f17iVreBfM3EYU+DQHqxz/Jqg6tGmemCTyCpMbtAwpJw0czcN1FUqfhlxnMBzsV0yAHG/FByW+QXsfeZNMpjH7xIokBNZOysnJM2MFSApj4SkrCuh0ax8LUobfuU2oGBTlmMtQI8ELA+ZvI4a1+/hsXSmQY3vewIkgdgXJXpncX/kPRbhco/LpYDQoYgXazleouBVwTK7ohYAgMFQSMIIdKS1o9DAFDwBAwBDKKgBFkRuG0xAwBQ8AQMASGCgJGkEOlJa0ehoAhYAgYAhlFwAgyo3BaYoaAIWAIGAJDBQEjyKHSklYPQ8AQMAQMgYwiYASZUTgtMUPAEDAEDIGhgoAR5FBpSauHIWAIGAKGQEYRMILMKJyWmCFgCBgChsBQQcAIcqi0pNXDEDAEDAFDIKMIGEFmFE5LzBAwBAwBQ2CoIGAEOVRasoDroV+NSG4C6r6mUcDVsaIbAobAEEHACHKINGShVsPtwerK3/na+dvREDAEDIHBRsAIcrARt/w6IECNkR9EpuO5aZAd4LELQ8AQyCECRpA5BN+y5icfE/qpqxUrVsi4ceOMIO2hMAQMgbxBwD6YnDdNMTwLQoKMxWL64WRqkqWlpUaSw/NRsFobAnmHgBFk3jXJ0CkQyS8ej6dMqLx25lR/LRnGuXT3eY9x6WiC5bmZYhUO+2MIGAJZRMBMrFkE15IWiUaj0tLSolCQ2BzR+bFxZOeO/nvu3MUlmfYUzoW3oyFgCBgCA0UgNNAELL4h0B0CTU1N8uyzz0owGJTrr79eKisruwvao79fw3REaSTZI2R20xAwBDKAgGmQGQDRkkiPALXH559/Xl588UWJRCI61pg+5IV9OU65c+dO2bx5s2qlF45hIQwBQ8AQGBgCRpADw89i94AANT8SI8cVSZbU/nikH48kPYbxHxmG9/njubvX1tYmzzzzjPziF7+Q5uZmzZX3GZ9Hc4aAIWAIZBoBM7FmGlFLL4UAzaDOPNra2ipvvPGGzlYlwY0aNUouvvhiOXLkiOzYsUOKi4uVNK+44gqN8/bbb8tFF10k58+flxMnTkhNTY1s2LBB6urqZPfu3bJs2TIdi2QeZm5NQW4nhoAhkEEEjCAzCKYl1REBanaOvBoaGuTf/u3f5PTp07rukZrhP/zDPyjp/fznP5cpU6bI8ePH5Z577pE5c+bIP//zP8vf/M3fyMGDB+XVV1+VL33pS3LgwAElTJLqkiVLNB3m6M+nYwnsyhAwBAyB/iNgJtb+Y2cxL4CAIy4eaWalmXTlypVy99136/mpU6eU3EaMGCHf+MY3UloiJ/dQc+TsV5paGxsbpba2VtasWSOrVq1SzZMTf+iYtvtdoDh22xAwBAyBPiFgGmSf4LLAfUHAaY+M48iSptJJkyalNgSg/8SJE2Xx4sUyc+ZMqa+vT5llSYIkVmqbdGVlZToj1m0mwLh03a2d1Jv2xxAwBAyBfiJgGmQ/gbNoF0bAEVhnoiSh0Y8E6EiQfuXl5UqOnMDjJ0ZHkC4d/9GdX7g0FsIQMAQMgb4hYATZN7wsdB8QIHlxkg5/TssjabqZqTynGZUTb2huPXz4sGqWnLDDuDS1UqOkcyZV+jvi7UNRLKghYAgYAn1GwEysfYbMIvQWARKZ0xBJirwm+blzd3/v3r06gWfLli1y+eWXy5gxY2T06NHyy1/+UkmSJtmKiooO2TKuaY8dILELQ8AQyDACwe/DZThNS84QUARIYJy9OmPGDFmwYIGS3dy5c3WsMRQKydKlS4XkyGUeCxcu1HHI22+/XWe0VldXq2Y5depUueOOO2TevHmqbXIMk+OV4XDYUDYEDAFDIKsI2GblWYXXEqcJleZVapJu8T/Jked0XOLB3XZ++tOfqtbIiTgkVo5DMi7POSnHxae/C2PoGgKGgCGQTQTMxJpNdC1tJTcHgxtHdKZWbh5AsuQyD2qEnKTjzKY0xfLndyUlJcKfOUPAEDAEBgMBI8jBQNny6ICAI0GS49VXX60bA1RVVSk5cnzSEWmHSHZhCBgChsAgI2Am1kEGfLhn559cw3MSonMkRvq5Ga/O346GgCFgCOQCASPIXKA+jPP0E6SDwe3X6paDGEE6ZOxoCBgCuUTACDKX6FvehoAhYAgYAnmLgG0UkLdNYwUzBAwBQ8AQyCUCRpC5RN/yNgQMAUPAEMhbBIwg87ZprGCGgCFgCBgCuUTACDKX6FvehoAhYAgYAnmLgBFk3jaNFcwQMAQMAUMglwgYQeYSfcvbEDAEDAFDIG8RMILM26axghkChoAhYAjkEgEjyFyib3kbAoaAIWAI5C0CRpB52zRWMEPAEDAEDIFcImAEmUv0LW9DwBAwBAyBvEXACDJvm8YKZggYAoaAIZBLBIwgc4m+5W0IGAKGgCGQtwgYQeZt01jBDAFDwBAwBHKJgBFkLtG3vA0BQ8AQMATyFgEjyLxtGiuYIWAIGAKGQC4RMILMJfqWtyFgCBgChkDeImAEmbdNYwUzBAwBQ8AQyCUCRpC5RN/yNgQMAUPAEMhbBIwg87ZprGCGgCFgCBgCuUTACDKX6FvehoAhYAgYAnmLgBFk3jaNFcwQMAQMAUMglwgYQeYSfcvbEDAEDAFDIG8RMILM26axghkChoAhYAjkEgEjyFyib3kbAoaAIWAI5C0CRpB52zRWMEPAEDAEDIFcImAEmUv0LW9DwBAwBAyBvEXACDJvm8YKZggYAoaAIZBLBIwgc4m+5W0IGAKGgCGQtwgYQeZt01jBDAFDwBAwBHKJgBFkLtG3vA0BQ8AQMATyFgEjyLxtGiuYIWAIGAKGQC4RMILMJfqWtyFgCBgChkDeImAEmbdNYwUzBAwBQ8AQyCUCRpC5RN/yNgQMAUPAEMhbBIwg87ZprGCGgCFgCBgCuUTACDKX6FvehoAhYAgYAnmLgBFk3jaNFcwQMAQMAUMglwgYQeYSfcvbEDAEDAFDIG8RMILM26axghkChoAhYAjkEgEjyFyib3kbAoaAIWAI5C0CRpB52zRWMEPAEDAEDIFcImAEmUv0LW9DwBAwBAyBvEXACDJvm8YKZggYAoaAIZBLBIwgc4m+5W0IGAKGgCGQtwgYQeZt01jBDAFDwBAwBHKJgBFkLtG3vA0BQ8AQMATyFgEjyLxtGiuYIWAIGAKGQC4RCOUyc8vbEDAEDIF8QiCRSGhx4vG4FBUVCY+BQEDoz2s6Xg93F4vFFA+Hl8OIuBCzUGhoUItpkMP9Sbf6GwKGgCJAwU7HYzAYFJKAE/z+owYa5n/YWYhGo4qPw4aQkDBJjsTOkWchQxVAJbwuUyHXwspuCBgChsAAEaAo9At9JkfhT8IkITgNcoDZDJnoxIU/YkTncCKGxcXF6ufu6UWaPxe6nybKoHqZBjmocFtmhoAhkK8IUOs5deqUbN26VRoaGqS1tVV27twpLS0tqhHxvjkPAZJhJBKRM2fOKF7nz59XnIhXW1ubkiU7HBf65TueRpD53kJWPkPAEBgUBKghnj17Vh599FHZuHGjNDc3y0svvST79+/X/KkZmcHNawoSJE2pdXV18uSTT8r69euVGF9++WXZs2ePEiQ7FH4Nc1AaMcOZGEFmGFBLzhAwBAoTARLkjBkzpLa2VjZv3qymwwULFkh1dbWcPn1a1q1bp8fOWlFh1nZgpXaTcKZPny7z58+XLVu2qAl64cKFUlZWJu+884488sgjeqQmTlMq8eXR/xtYKbIf2wgy+xhbDoaAIVAgCHDsbNGiRXLixAk5ePCgjBw5UkaNGqXmxLfffls1JtMivcYk0ZWUlMi8efPk3LlzqmlXVFSoOZpm1tGjRws1ymPHjqnmTQ280JwRZKG1mJXXEDAEsoIAiY9Cf+rUqZr+hx9+qEKeJDBixAgpLS01E2sSeWJFEyrxGj9+vPq+9957MnHiRP2tXLlSli9fLpMmTUqZWzkzuNDc0FisUmioW3kNAUMgLxGg4KeJkNrPmDFjVMCTBOh4jz9z3uxe4kI8ysvLFaeamhoZN26cwsN7R44cUe1ywoQJqUk7DstCwdAIslBaysppCBgCWUOAgp4TSnikuXDZsmWydOnSVH5usokRpAcJcSDZUYusr6+X2bNnK15OSzx8+LDOcKU/za3UwF2cFKgFcGIEWQCNZEU0BAyB7CJA4X3o0CHZvXu3ruGbO3eujj06EuByBs5qbWxs1LWSJALGcRNPslu6/EuddaeGyGUdHHecM2eOjtcSr6NHj8pTTz2lxLh9+3ZZtWqVTuQhVoXmjCALrcWsvIaAIZAVBDiJhOv5OHbmxtWYEYU+J+tcf/31MnbsWNU0OZmHWuVwdaw7tUd2GDiTlWONdMSKJupLL71UOxDsSEyePFk7FRzLLTRnO+kUWotZeQ0BQ+CCCHCk0Bs5vGDQVIAoBD6FfjHW95Esg8EQBL53m/68CCaXKvA6gHNeDwXnRlZ7i5nrHERi2G4O/4qADTXEOLVqnLv7JEw63sOtFJ4OM3ffXefb0Qgy31rEymMIGAIDQoDCvjkpjUMgMs6djMUjmGVDUQ7HAPxdkA38gfznTKQHl8D2a0UwwQYwqacYJIqMWIYoyhQIYMs6nAcS+Ivy8MDFDzTlXbA4CDNQhxIhPyzyRykCcS/H1lhE4iQw3CmCVzFLG/PGZAea34WBTtaaGZNMQ8AImRYBmADxAexFwdx1QszEOvAnwFIwBAyBPEMgEYcmE2mTSGOz7Nm+Tfbs3i5trS0qdEMxEBZYKQZhTBLzk6VOJGFdIKx5DpVIa8a/DBoIeoKcxlUV27jPcMo1FPC4EcSvtCwss5YvlcnzZkkAy0MQE3GhYeEfkw1B+JMgmTeKo2kNxiIIzyhMEkLGzB9Oq4lysWpR4HXiwAHZt22nnDl9SuushURwuiI9EhuW3YuvN9xpMpwLrPnggt7aPXHheA284jF0JJBocXlYJs2cKrWLFkppRbkEQkGUKIRfkeTSMGsapLak/TEEDIGhhEBbc6s0Hj0lb/z6MTmw6SMphiZZUhxSQV0ENiNB0RSoWotKbxKdh4CT4XrpPJPgBKHpJKAFKq8yOgJFwJRx/Bi+COFDYKFG7N8arSyRWSuXyZW3fVHKRtdIFASZQJ5FINUgdUaqj/jfhnRIjoNBkNQgQckoNzJG5txdNhKn+RjUfaZOfv/Uc7L37Y1Scr5RgiCpIDRhAoMa45/n9IhkSLbUO+m8v0hGr3APJ6oUJq95391z55oiEmlD+g3RVmktDsiEubNl7Z1flrEzp0srcw0VS5jtlCNnBJkj4C1bQ8AQyBICELj1R0/K0/f9VBL7j8iKCdOkpgSTamD6JJHFaOaElC6BFtkuekFcVKF8Pl7pOhFnZ2ENFiAZKEkiAmkHQlXa4lE53twgHx/cLRMvu0w+c/ddEqwsQwCPXEOkQ5IU4+LHeINBkEplwIEZE4dWnEkiJiFo168//Jhs+91rsmLcFJkWrtRxQ94uRjh8vEqCZDb+6AhV6oLnHR1vBzx1s+MNxAE8nsNJANyMHW6lDZU/hww+OLRPIuPHyq3f/r+kcspEiQGvXGqQZmLt1Hx2aQgYAoWNQCwak53vb5Sj27bLTfOWyfi2mFQ0tsHEKdIaCkiU2hIkvBJkSlqDpGIgTpCB33kal89HhbuT8KQBz7waB7k6X4kifWiLJeEKCU6aJq9t2CAzL7tU5ixfSNYAQYCgqJklnXKNu8j2kYV06h1OWeoECPLE/oOy9fdvyoqxU2VORbWUYvJNismiESiYjEidz6tlQO3NOPcuectz7lqveNHBg7klA3q3EiDFEmARxpgnxz5XTJkhr+7YLh9j39vLbvuClyxIMlfOCDJXyFu+hoAhkDEEdLwwmVoMwn3Hpk0yfmSVVISKpDSC0SyQAG2CxfglIJA5/kXh7Hf49oSaHP1+Xc4dESRvFCE9mlTbcE3lkuOPIWRFs2UZxPtYjKeVQL7v3L5VZl+0GPTA7yd2FPhMsqNPl1yz4JGiOglDrT6yZ7eUtERkWtkIdByimFCESqBQpHF2LDz1sZ0zdeyWgA7AEf0oKh9AXkXQxMPwGIHMJlWPkqPbd0sCHZ0QTKy5dEaQuUTf8jYEDIGMIKCEl9QGY1ij11R3ViZUVqlmE6MZlOZTmPxoyvO0GOwl2tlc2seSkNjiIFkoP5oPo3PeCv1DKAtG+kCYARlRXCrNZ85DIQMpgVOKOhEz4w2aY52Tg4NaTqJBvM6clUqs7Swlm4MoI0UgLdbEYYQ6MjwvSa0eNV6I1nu+T9giwCIEAGmNJQ8XRxMyEusoT8QwmQl5+aAdNIj8GRlB+tGwc0PAEChYBNyaOq5nDEOM04RKEd0WwZpGmlYhhSnYKXQpkGkm5PlAHOeD0mJJYc7EPNNjcgIQNKAwCCcMLUh5BuzI5RURkCf5mlFy4dysWWLDSTYcX8Q6GMGcHHy1pE2wMkXLpvTGOiEcSdGVl8sv9J769lQDL1S3IZBgCIRIHbG0jS2BsU5M1AkX0YfXMImjjaiJ58oZQeYKecvXEDAEMoKAM686guSxGMseQxw3w7GoOAhSgskQjlodlv97FsOBWQg1Pc6ziSA/JkU6UFGeJJAgTJf80awbUzWT+SMMZb9P5l+ARhA4c45Z88fyUmPzeAiErWOMuMT4LBdmlqBiNK16GiPDocCI6Cm/Hl3qUg+mQefqw8RTLoVIyqfzSQI2aZrAg7S1IpEimMSj0TaYv8MalF0YUrNLvnP8bF8bQWYbYUvfEDAEsooACZE7t/BIsgxigkwzZDOXCXCBQlGCkp7jXfCkkAcZhCNBaeM6yAGyUxCMV4w026D5gIt1RmoCChBFehR0GMd4p+4wo2K+SJeXRMk8nE4LLiJBwJjIUiJ29mmA1IaVh8jJW+Khmi/Liuy53AQMhbsgLPylasyxwZTDKbXlXju0SU8ujvbihCn2IMLMB52YOI66jIZLT+CIY1+y7Cm//twzguwPahbHEDAE8hwBCFoQIXex8TQ2MEBSiyQ5UBPC/4E7SG9OzNHEcO6dIk+Qg27OzXw4NspCqKQnFXYW+RkpSa/r0jl3RmQJgmRLkmIKmXQhe52Np1L3GBxEDYIkPjHgQ9pmv4FjpNxJhy63U3R6UQUtpf0xBAwBQ6CQEIDE5zij/sBaJDFP5HpkwHG4TDgSS1S1LC9Bmi1JjpzZyvWQ1DDpkhZKJVCSaC4dy+ycg4H8zRm5NAfz6PxduOwc2XmhhgizN5fY0KwLhixStdYrAe/l0rlnJpdlsLwNAUPAEMgoAhTy1BJhRdWxyGJqkyAsCryU/M2A9CPZUPfhX4pyEjJJhnn7SRm3PIdAXmhc4jxX4p9l8Fef5WaZedQCeqXN6l+ae1kG1cBdTv5CwU/L4+7l4NipODkogWVpCBgChsAAEXATdJiMmjQx2YOmuii0OTWzdkpfSbKTX38vk0qikh2FPofVSH086I+kqFomZ4ziDomRzJhkx7wRwuhAeIZOlG0QnEKg4ClqsO5igg4AS2BjAIzcQjUnW+fW2RhkbvG33A0BQyADCLgJOo4oo7AZtkHGhkIlEmlr0rEsJaVkXp7Wl4GMmUSS6GimVEbEgYQYxz5qsXAQJljSJG8iIPxjICIupVCXjJu8GpSDy7KdfhLSiq3xuNIigWUpcSz50OUqvtLo7nS+60ycKiLMk8TIzgzHI/GJMa7A5IQnqvra2aDdOkfONVOOsrdsDQFDwBDIDAKOHEOYORqqqsRM1oS0YDCwqARCFxIevATRS7FMqnI0kZm8mQqFKQ2tCWiv3JCgDUfOpq1va5PK6mpwI2askqWhIXmlyFze/UnJabiEIlxRKi3YHIDrDuNYM9q5gJwAnI0fP7PF8eAo2ocEzV9TW7POZmV+3o49/aldZuKwTc0ZAoaAIVDQCNCsqqZV1IKzRyfWTpMjdSelCdvOtYKUdDE8BLE6XKu2l7wc0AFp+sfJKNQp7LltXQRfDzneeFbqGhtk/OTJIBhHjK4g7Tl39Wm/l/EzHzuryRcdism1tVIfa5HTzU1qBtb+g69QjJLpn3ZTgAn3pU0AK8FOPtxZ59ip0zJ6/Hjv82Bqms44Ar1O0EysvYYq/wM6AeF60p1LzPvd3escdjCu8608g1FnyyO7CPCZCoZCsvTSVbJz3Tuy6eBeGTFphpRCAMfBihTySo5Yt8i18T4OSBaMOgNXJnqOCh8XPvBLINzIXDca90XSsUysu+T6QGpkjB2ABtYKmjkfa5VdRw7JlDmzZN7CBbSugmWSaZNJc+EcyzFvlEdrC0Amzq7F9yuXy3sbPpSyaXNkXBBfHvEqjzAcG4TR04HCqKiH3ykkSXzcORan+oOkPY9i+x7KpADWhjZCw95z9IQEqsrloiuvAG/CPI089SMraWNn39M+d5V9jLOaAwUCf3RusXQQD5bfOX8Xlj3sXBGlK4srby7L4sfIzocWArG2qOx6/0N5/j8flmJ8BHjCiCopx8Afl17QbMdpIVUYpOQyg64O7xPZE45kG8T70haJYDwTJItt7Dg2pg4H7ufKL4TQhz/GipAcI61y/NwZGTl1sqz9w6/JuNmzNBpz5ncoc/X+sXyqNeLopISOOYKJTh4+Io/8539K/MBBmREskbKKMpATtwyAaRg7AXmIePXkhuzpKJ7fu6QtO4ijLtcAji4esuxAsgpjoJgb98i5RJscw+fBGsNFcs2dt8qC1aukDeOh/FeOEWRimwtnBJkL1DOYJ0kvknx5eU5ydITpz8bv5/XYcvPIOYJkeVx5/eW0c0MgEwhwa7cAyOzM4WPyyZtvysEtWyWGbx5ybmmck0H08eemc+49QHhPxUP2DJWQxvoG2b9/n8ydO09K8D1JxqHQ9+8mQ23UW2DfXmpO0Anh24+1S5fIklXLpWLMeIkXl2hOjhjdsT3W4Jx1R5CCfWM5yFh/+oxs2rBejnz4sZw9W6edAyU41J0bL5AWqfwGuc+tapG4oSq56qKyd+8+7D0bksnTp2JnHmrenerF4EnMcYpdiKAlssMC8+rEubVy0eWXyphpk7E5K8ytIFnOZi3hx6Vz5IwgcwR8JrIlwZBw+ON5dy8d/Z1W6cJ1FzYT5eopDebPH10MAoy9crpclUcztz9DDoFmPlOYjRnkjEz84k3N3rZyOmCI54/ynEtBfE51HT6akNwx7A/6u1d/J/f/7Gfyve9+VxYtWYwoJAeKd4r2dsfF7eqScRN4rjVcuBTammeaLS7CZ39JDtSwcuhYRGf4ZKlZmgQ2c/fUW+KCSTOYJJMIRFRr9IqKGneEytMEmVjKJaThfL38/X/7gYwaOVL+9K//SsowUapDkFTY9hOd4ItLdkhCxWFmjw2PsNECd04HVrrtXCB3BJm7nNsxsrN+IkBi3ITv3m3evDlFNvTr7KZOnSorVqyQMnxGxhFk5zCDde3IcefOnbJlyxa55JJLZNKkSZp9roXHYGFg+QwOAtTkYFOBFoOvalRVQPiDDkCQajJUntLVdqnCUEhT8qOrKfUNp+SxJ56St9dtlN++/JosWHqRhPH+eM9oO8kxbFSp0yMbxo/zA8P4gkeEHx3GBJQAtCTlxRyTY6qinU44eQiCAb7Ai8cwNngLhaExUqskbOgYKDJeHb2Q9GmXNQFMRX3/g/fliddfxRdMwnLVbbfI5Ssvx0SbdqwcQi57xm4BetpKUDWjKAc/ExZix4V2YDg1gfuT8LwH7a8R5KBBnbmMHMnQtPrEE0/IvffeK6WlpUqAfoJ04a6++mqZP38+zEQlOsOPJYnio6jO6Z6RuODLz/h+ovKf817nsLzuHIfpuniuDC4Mj/y98cYb8sMf/lD+9V//VSZMmJDScBnXxeE5Ha+ZHo/Mj0dqn04r9kK1/3V5t/vY2XBDAPoatA9YTqj5QDNRCa9+nrZC4VycFMI4VRfEcwl+g8hOyEfvfCDrX35TWs83yrO/eUI+t+Z6WX7JCuqQSnouDrcMJRE7Ga76JciFn48KU2tMPrupAC5inhyV7AgST+BoLVUzMs45juh93JndAFdDDYbqURZ4O6XyfTxXf15+/evH5PCBw0grIL9+5FG5eN5yqSzHZB++syDA1HvJpJAPuVOXlCBtBPGwUoRxww2QJsvl5Tr4f40gBx/zjOXIB7OpqUkfvD/+4z+WVatWdSA+ZsSHcvTo0VJRUaHkQoIhudA5siPRFmMMgMTlCI9pu/FMnvvDM02mwR/j8Zpp8Mj47r5Lwx/X5d+GtWFnz57VNBiOhK2TIJJlYNpMhz+XP9Nx50zHxeM5f3QMb84Q6LB9GeHgI4xHg08Hd9ZReew9MryrTmkAwv3U6ZPy4K8fliM4tkFL2rxntzz69BMyd/ECGVExwjPVukg4pojWPXr6uiBx7YPCk/k4ge+Ll4tTV8ROVfeAYYFYXLC+M316xOlitZfY2+kGHQpol9ytaMNbb8lrz74g8Qi1zoC89syL8tEX7pDVGFNkXtQkoxjnVNNpMh8ewrEkMMzC/XgDTmGEX9fcvfuD8dcIcjBQzmIeJAZqhqtXr5Y1a9YoyaTLjmRH0jl//rySGq9PnTqlBFtVVSX8MR1HkkyDJHbu3DlpaGjQOGPGjNEj7zE+yailpUXTIUFSi62pqZFw2PuWmyNYhm9ubpa6ujotw0iMUTjyc+nwyDRYxtOnT2velZWVwrAkYUeYLAvjMvyJEydSeTqCZF7mDIEuCDgp6/X1VOhG4JfkTQ0egxCPxSJypuG8hGtGyuq1a+TEseMyfdpUiWGzgbOtTTDVVnWYpEMiVoJ0jMN8+HMJU1XNM+eK6orVSZH2CM3d7O4IjZAdVPZHE9gfrrmhSS5btVomTpwIC22JTMDxRN1pfIcTnW5oqDRcF5VwQk7HBEP+XeOTbZNTRuxYvBxOD+pUELvsHwIkNKfFUQMjcaRzJJjDhw/LfffdJwsXLlRie/bZZ5Xcxo0bJ1/+8pflxhtvlGrs+ME0jx49Kk899ZS8+uqrcuTIESWiK664Qu666y6ZOXOmEta2bdvk8ccfl/Xr1yvxkszWrl0rn//852UyFkY7suUY6a9+9SvZsGGDFo3joSwPHV8yhqPbvn27PPTQQ7Jx40YlS5brpptuks9+9rNaLhL2/fffr+FZz2eeeUZfyL/7u7+TBQsWaBr2xxBQBLArjGMpyl0MHKjmqMSlAahFOomsHghBHbJIZkyZKn//ve/L4aNHhO/IV/HMjyivlPLKcozHeRtsezGgbZEh+MqBdTjLlU+y40adDwR/BikE59DQWbo6M7X7Umu9UfEoxilJfGs/e61ctfYzeCeflqqR1fKpy6+QcphXOUGK8234imM41gPIl6xTIOlF4vZDlSqC39MXdzBOTYMcDJSzmAfJhcRBrevYsWMpE6c/S2qHnKDT2NgoL7zwgjz//PNC8rnooot0bJIk+N//+39XErz55ptVY/zJT34ijzzyiGqmN9xwgxLmgw8+KAcPHpQf/OAHmtb3v/992bp1q1x11VUybdo02bdvnzAeJ998FzP/OPlmz549Gn7Xrl1yzTXXqKb6/vvvy0cffaQk6MZCmc4999yj+Vx77bVavo8//lj+6Z/+CVPH98pf/dVfSWtrq6xbt06JluOW7K2SYPkzZwj4EfA/EU6JoxZDCazyFmzGr3t0dhx3w3RKKa2qlqaGRhkFYqwpq8BWcVW6bMQ3L8WLqoN2oFZEYz6kZR4p7OnH5DoLftzKS4eiqiNOilUPpeSmCzoey00SEJozVksx87ekLCylWD85ahQsP/j4chxm1QCW3BBrdkA6MCDSb4YH81W8cOS5dvHZNK55XMHgNdjOCPL/Z+89oPQ6q7vfPX1GGkkzaqOuUe/FTbJly5a7MW6AIbSwCCEkIXwrJJckK2WlfEkIKyEkX8LN4uZCvuSGz4ApBhuMe8FdxpZlW7Jl9W7J6n36/f/2effMmVczqtMknUc6c855zlP/57z7/+z9tJ5GvAvyS/ezoTViNv3qV79q3/zmNz319HPMnV/84hfd/MpDNDeIBsJZvHixkwsjSQmDJnjTTTe5BnfvvfcaRIV2htkU0+awYcPswQcftHfeecdeeOEFJypI7ZOf/KSbVQnDgKFvfetbtnDhQvvIRz5iP/nJT2zp0qUGmaKlUl7i/+7v/q6hgWIaxfwK+UKikC+EjLmXPso///M/V+f/va5FTp061eND9J/61Kfsgx/8oNeXPtbMxOpQZH9yCKAvhmu7Ch+dXegilvNdIsRb1PB064YYjvVCicBC2unfVjpmCPYO80oH7APX+XxzfJkJkR/qxAWHUDUxREQn2sy1SHzPYy3OkPCc0uN/njqtITwdu9MvQsfpnKVvRpBnCWBfiI65EZJAowpzZWhVEA0kyYcZ2ta8efPs0ksvdY0RYpkyZYqTIP2N9AOipREWokLTxJH+5z73Obv55pvVOqx2Mp0wYYKHGTBggKePqfeuu+5yQmOUKhoj5Dh58mS77rrrjD5Fyjdt2jQ350KIxIEIIecxY8bYpEmTvG+R8kLms2bNco2X5xMnTvTyUc9rr73Wy0b5o8594V1kZcgQuOARCM1PQOQT4rmGTUaQ59obyysv5MAI1c9//vO2ZMmS4zQpPlBIEhKF9CAUBttAmuGXJk9MnvRVEgczZmhmxK3RAsIQ5aZNm3zADenQZwmRRVpomfhj7kWzZSAQhMpBGuRFWMiQMpAf4TAR79mzx82s+EXYgwcPtg4EIh/ikxYmY8oW6UX4PHiy2wyBDIEMgTNGICPIM4aub0SEbDj69etnaHKYMNMO4oBYIFIIBfIhTBAKZ/w54yAcjvAnXvhhmsWMGlM60mlEGNKItLgOgg0tL50ecXCcKSPaI2bYINsoM2nMnj3b/SM8YfCPdCMtTzD7kyGQIdDrCJwPv8n20rTXIc0KcLoIQCwQUhxBQOl0IBPCQY6QCgQHSQa5EDY+Zs6YMJlfuXHjRicm0iYeq/b8v1p6i5GqaIqMbn3vvfdci4z80D7RBDGrQthonWicaJKMciUdBhXhB+GSHxohplw0SgYJEQdHmdeuXesrBZEfLk2+3AeZRvnxy1yGQIZAzyAQcif9+0tf90wpui+Xjnqpuy+3LOUuR4APFKLDRAnpbNBIUkaOxsEIUPxD64OgOIgTZ4gIouHDpk+Q/j3IigE2jFolLmTIYJknnnjCiY+Rq/h9//vf9z5D5kMyNYSRr2iZPMccy0AgSJNwECfhINoHHniglaAx0zKFhEE7TC1hEA5lIr2vfe1r9uUvf9m2bNnSqmlSRo40wXc5sFmCGQIZAhc8ApkGeQ5/AhAamiCjQJmmwXQOXFrLgkRYi5XRoRBiOOLyjLBhcuUZ/gzi+fSnP23/+Z//6aNdWaYObZLpGZhAWbGHeYdM1SAMhFdbW+va3muvvWYf//jHff4iCwcwt3LZsmX23//93/4cTZHwDAgK7Y/+zo9+9KM+uvXrX/+6vfLKK65FEo7pH+Q5Z84cLxt1QBOGQClrNBBIK3MZAhkCGQJdiUDRX8p1ZYJZWj2HAOSARoaJkpGozEVk7iFnSJGDa/r2mMrBYB7iMFGfKROQCkdoYnPnznXioz+T0aPEZbANGih+TOdgoQA0Q8ynF2mDVaaA7Nixw7VJrj8tYiVMDMpBO4RwOUOyDMhh1R9IFFMqGiZhMaEyL5MyorWidTLY5zOf+YyHJU8c9WUU7MUXX+yjcPGDNCHLzGUIdBUC/E4YIMaUJH4XWFRw2XfWMcLgghzBCkTDeIJGuJ8PjdZsu6uO3/c54cuPGPMn2tSJHB8vWhrhox8SP4gFP65Jh2tMl7ggTYQEfYUICMiLdELzJD7xMImixfKcI34YhAuNj7QhR/IiDForZSEseUa5SA8TLXXCn6khpEE4/CJv7kkrDsrMdeYyBByBmGrgnwQ3sVxA7hvxWfzHY8V3qi/Jv7Ot27b6ak00+AYOHCDTjOLmfWLp28iSVFv9k+TSPjzuNZcgwST/XBljc0sKrCN5nhQv7E2tdemg1OAFZPz0+O3ed99P1OCt8m6akpJTsOochyklwMU5V7DEs8f/ZibWHoe86zKEECCs03EQSyIEklhBKpAR1/EMAsOh3eHCnzPhOCAuiJMy5IcjDs9xkRYaYTjSCdMu15QLR1qhLUaeUUbCRJzwi/Syc4ZAOwRCvuLpM9dTBIlQdhfn3G34yluftx+sGIOjCYpfG9FynTgmx0fqiU9yx1JzRGlpzS8XQafe+n5Z9UbD+pwgW5f/oVgUVD9X+LJ9XXjojzogfZ44KFzkXCIb4i7/nL9Cj0KnuBCs0we3el5wCkSbn1EX3WcE2UVAnkvJnOjH2dmzzvypdzwL8jwVLCJOnDuKE8/iHGHy78M/O2cItCIgORu8hBBmoTPIwQWwdqA4XrAnMV1gt4ZHeBMPEkiOHLUkgXN/w35D6jjWc8WxDjexfE1W9+n9P0nJovYqXcoj8KKU1In6JLVO7qMe+IXLIRq3gbDfBy6tD3WBtpl2aq77bSiykWMUiwKk80vH7YnrjCB7AuVzII980gntLYqe/zz80+dTCZMOn11nCHQXAr5PI4lL/jZLKrdIE0w0wETwI3YLtdNE2vH9RiPPiQFprgN6bYuVjpFcQ7wI9DZBnlwRixw4954OpMxTjgaAr6EaflHoOMufy1aC0jXld0WaCzm/1znwxC+iBw7cq/+OR+1cu7z1BA2dtH1jZKXMHp6kFrhx15vYZQTZ7vVlNxkCGQLnCwLax9iatZtEgXac0GQoESU1Q4Qnm4UnGs7xQty1J4ixXvukqp+8QPN2W+rUR59mhDyQWqmW5JQvu13QxdBcoClUBYjZNvLNi9rjt052yjWtMULlNAQgo2apc+zCEeMQqA/V0prjieOcZtCcd5PwKtaC5UU6GoRZcYvqHXFyYY47wYByNE4KGGvgN3pD8m8CQ91nBAkometTCGTaYJ96HVlhThOBgkbmB2uU96H9tklr/m5Zt8aOHj4ieY1ETvScghZt1ZTWcniUE+hw4e7de2zDqrfsUe1KwcAyCNaDECZYRh4eRX8KnYGlTarPrLJ6kI2qHW8ja8dZIWsQKw0cv6vom3ePnv5DYb38ScY0HViYXVthWosIrpH5zJu22ta167z+aNT0sQYfUn8OXGKOTq752yyN/B1N/WIcwdHNWzSuQA0EYXycIwEHTXHUiuGyvLzCxmm0/Witt1xaKawZk6BCsUB8O1X1uMS61yMbxdq9+GapZwhkCPQ0ApK4jUeP2Z5N2+2Rn/zY9mvKUM2gAVZRokX7Ee/S6FxjceGdk9QdlBFyaJTQL/IBa4RLSfZc+Bb6MyFLkSMECeFK57QjDcds255dNn7aFLv+Vz5i5UOGJntHkkpvkiTVQN1VVZpUdNd8mxu16XOTHdy91x7/yQO2bcU7NkzbV5Vo4+Mi1a+IwXa5hkS0C1z7TEOn5wUiOzT2Zkanlyaj4cW+OaR00vOI754qQzMkqHTq6htt1749Vjqoym75yIesRrg1iLgLlE6p9xm3JdOTVxlB9iTaWV4ZAhkC3Y+AJO7Bd3fZA//7f1vxsTpbOGOWVWuPxxJpla4N+ehqRp7K1JoW4Pn8JyIryE1VcFOt84Q0rhwxEJyBOJgCi8QDpM+/JqXZIAVo9+GD9tLry6x4yiS78Vd/1SpyI74BoNcsNJQdpU51SQhSxMb0KWnXT//wx7b61eV27fyLrXbQYN8MmcoWq36oeZiNYysr98A/5+jn5bZQZObjFxykHFARKP+s8I3FICailP32oIj1dS0tufXwIfvw5z9rlWNqVFRNA8tp3/nRe+I+0ft7IqcsjwyBDIEMgR5AgPmya5a9Yod2vme3LL7KqkVclfRFNkgUSytxdkArKWzIlaYjQZ4T/gh6bfrrhACr5KtABKOTjGRbO+kURfFKK/rZ1XPm2veWv2ZrtOAAC2H4ICAFdTbh3IsuqbXIXcy2Q4tzrH1zhV0pchylTaLLZWotwLwpLL2s1LNVGcxhkzt5FbzDV1ctNDrwUWAnSfx0eNgkR566k18pXgxhFbT9S8utdPo02/bCM/aatrdb9IHbtXe1HvSi693ce7HiWdYZAhkC5w8CrrWoOm4W1YT1N1Zo+UOt1DSiSYtNoNWg+hQi4SWREdzMWaDjDQmIcM8/ID2ei1hduoeZD4HOkUh8nXIepI8aWahevWItkCGCKJfmM6z/YBtbWW1bV62WliRNTdplMkQol46ityZJst3sMI02q26c9d+rT7k2rFtn/VTHcf0rbUCxJl9ocFELZOfaGxFEloWAoliOo+qKiRoNnHMTtdJRpGthoA5NHTRA9BzsOMAYjFwN1TUF8YmX8lPQwvomGyC/maMmqA90o0y1it5Cnr3nMg2y97DPcs4QyBDoIgRcM8uZ/CRutRvNURvYv8rU22gFjTJ5aj2NEmSzZLczA+Sn/37klSEZ3clz+swk2Fs1ISXAQ++TIxJhSBBS4BHP+a94kEkzozKLrKq0wg7sO+RZMd2kt7XHduSo0lO9g4cOWGV5ifWjVo31iVIHng6GKkfFABa+4rbIK5pE1q0/hwA9CgE1ocMHLSlwYYkBY5PViSOlySuNAmzQ6gtuKaTHVpGIoqNY+PTXUnWF9UeFPf2TeqrHveUyguwt5LN8MwQyBLoHASc0Da5x7SeRri0urJUdtzqcJOA29+Dc5lwg5zjBnyO8xQcJM+hEx6O7XELF0lA9gO7572F15kJlob9RQ1eSGNKkWsPmUuntkxdX+BSobD54SVqzFnJM6pyrQ2vnIzjqUdIgSEoOtngxHpW0SANCDCDAOoFa/npGWCdah0R3ARj+aljQj8mAHxJLLAMeg6c97jKC7HHIswwzBDIEuhMBhDSDalzTcZGtSxFVi4Qulj7+MECl2KV2UpIWTUlAchfQR6lwMWHdz3rm2hBEAPki8d3p7NMQkr5MtM0gvySEwiL8I91cLBf6kUTOr7dPFLNQplUnctea0wXUQxwnWg/CAQhYIMHbIjzQRbE05gI0c1UYsiRsLiYQKEjyjBsnSkiwA1cI3snL8+w6CNJjXhlB9hjUWUYZAhkCPYUAWowvjSbzKtKc0asujiWx9x/eb/VlxTZEo0oL9exYU4Nt3bLNpxUMHjbUDh84ZEeOas6kwjaJAAdUDrBSTfWo09SREcNqrIwpDBqQc2D/PjuoEZcjRwzXlAgRrDrN4A9nxFRFIQl0LM4JJXRMDKkoPXpJaWg4uIUYDRFyQrtzz6T01CCpnELLRlqg/slCCK6BOid+EKerjiyM4IOh6mVFlSlVDRHXSEmPhgiNF7Rw4ut/OyfQEwz9teXybBeiR28yguxRuLPMMgQyBLobAWSum+gQ8u5yGo0EcpP+vfzqK9YyZIBdM/8yOyYifOL5X9iegwesvLLCRh4b7drnlk0btS/pcpu/YKG2i5vse5iufON1+9xvfM7Gjxlnh9VH9qOf368t3DbZlz7321bDQvyQQsIyEv4iAuXnxkckvk8tQd6LqrmHd3rRJZpfqhgqFyvnOG6uWdPZSCF144DqjvmgalA4IdIYIFyJ/FCgXTtUndXra5rTqOGnvARhosgMtiE5rglH/6x3RJLw8a5JjQ9G1pKv53V8kB7zyQiyx6DOMsoQyBDoSQRaDXyu/Li0dfl8VINQGhvqpTHq0AjM199+y+YuuNguvnyBNWhEZ6X2Ph04uMpWb9xsCxdd6VtdvblqlR2SNvqiNgQfMnaMrX9vu729c5t0rRarr9OIT7jRCYEaBvuRMdfJfcd00JOItOXlHK1iQZTHlyvByskeNVy3mF7hf2aSFhSUOIEVNLL8nsyyqiM6ekuRBuMQXNq5m2oVTz2KVojGTWQf/ao0NLc0GaGalAfu7KsuI8i++maycmUIZAh0GQIsp+YCXgK/XmyGebBE2k6R9kG+SBsiv/DiS7b7wH5bsHChDdCyZ5AGI2C1CZyVabBPv6JSmzVjqu147z3bu2+vrdS8xtHjx9qeLTulKMmAiPLUKFGfMGVSbhKRa4aN+qCjWFg5xWl5jgdtXs2attEgs+ihQ4c1cbHcKvsXa61V4SnT9LbtW/zZ0JqRwmWHHdRydaRHH2PVgFIrLSyzhiPNNnzwUMUrVYOk3vbs3WUHjjTaqJFjrT8a5fEFaMu8l69SMPRySbLsMwQyBDIEuhIBV5OSBDHVSRRLvdHG27INstoNjFmmPsbrFy22u2673Xa9u9N+9pP7rUEbhBeL8coUtlQLb7NCTrEiTxo70SrLKuz115bbzp07bPKkKehTSZeaT/lDxYIkySkR/Insd8pICtLLfxkgVK95oiwmnowQTRWolahUdmd81U0MwXJ6rJn60rKX7eVfvmJ1WvxdkzztsRd+Yc++stSWr19jb23ZYBv377GX33nTvvmj79sv166yjXt22M+efdL+4d//b2nc79phTenYL8392z/9if2v//yWbVb4MD2nStGnLjMNsk+9jqwwGQJ9BwEEKEe6H8j7qSAeubR/+j4teNllns24Wd2GRbp7YqFu0ZTWFhX/SeC3lKismrNeIAJj7MgxmfkaVI7ihiY7UKD5fpqcfvDoUZswYYIdOHjQnnvhRTu2/5DXu14mxEapNxqcafX1dVZVUmVTJtbaAz9/0ObMnW+1o0bacvXRlRbVq1ut0ZpVVxYqb3XKvwBt1dd8VYGwPx7nMEaysADxElyPC9KFHo1aFeipx5/UoKQtdv1119mo0SMTZRH12suhk0aiNum+SJP+CwtAgAXfNLdUq+sUMUq1sNTqpAWuenWFzbx6sV2yaJEViXCrpGlPGlBluzdts4ULL7ex0iDXvvGWq6nL3l5hYyaOti07dtnO9/apHVGuWZGaB8lLImt3vDAZcX0kbOLT/Yjksu7klBFkJ8Bk3hkCFzICQXIQGtcQY/hBdnGdxgjCDP+4LtbADvw4t26flI7UTdd0neVb75hfVyJVsKpqkK1dv8Gerj+mxQQGaKDOUTt85Ij6JRvs6iuusCFVg33B7bEjR1v/4lIr17SHUVVDbfDAaqvR6jyrxq60RfPmW6XMh5NGjXbtEoXLGwyqa+IS45z3g4ok2XILzc3XNVWAJpFhIvyTKRM+GCaidiEm0YiJ91IvInv99dftX/75a/bD782zD3z4gyLKJSofgClj1bVZq+IU+BxSChLbTCejSxv1jhmb01+4XXLZAnti6S9t64GDtkTXQ6qrlI7qqjCFGqRTpB05StTfOHXaZNu0fbO9K/P0itWrbNy4Wtu8e7+yUl+k45XLm+woQx9yGUH2oZeRFSVDoC8gEMKUsoTm16iFpHfv3m0rV660Xbt22THW6sxpklFmyJRwOAixqqrK5qp/b8SIEa5FRrieOLeTs3HD4EoNKFk0/1KbP3WWKteoBcS1Y4VI8FiDVnkRSQwYOMi1pYrBNfahm99nA/oN1MoyZldfcqmVajcQ5uj91oc/YeX9yt30OOLm92tQjzoyvdEAOUikMpWhVdKLBkUCy19fbke/83+srlTPZYYtlqbpBClzL3tVMpwlKLO78OG9Nul4TQON9uzZZ4899bg9v/QlW3z5pTZjxEhbqD5BCkUdk2XkBBzML0pkGA7EWKDpLA1aRYeexoVLrrZBs2baw08/Yz+4/3777Ic/ZE1lJTLBNutQGI3EIdxobfu1cfMW++XyZbZj2xabMXO2bdq9TIklfcGecHdV+izTzQjyLAHMomcInK8IuCYg0sNM+sorr9hzzz1no0aNsmHDhvmef/n1DsJEEBMHIr333ntt9uzZds0112jPv/L8KN16H7zomagSGAZCAABAAElEQVRMqJRFMrVWarTlgEotZyYDaoGInI1+B1SWykQqs6IIoUVmSARjmdYlTaYwaPmz4oqkv0wjWfvLZMzC5y1izoEK4xtcCSdXWd1SqbxSllYW/R5SPcTG1dZaA5q0tLQSESSWRMyXTaxdypCgVlNj18ESFoBo9NRr3uLg6mo3e2qIkt7lEJs6Y7qN6dffyopF9OBEOTgzOlWYMXIVihT7J6TX3GCHNWhn/969VjN8hF0qbfqlp5+2Or1zddf6OKUSGiOo8HXa+kpxZ0ydov7d+2ze7Bk2YvBgLfsncsQqgebqTmH7oMsIsg++lKxIGQK9iQBEh0ANs+o7GrEJOUJykB0b4p6KQ5tcvXq1PfTQQ9ZPUycWqa+qq/ogKVukFcI/zpQN5TYRuQhgSXxOqhN+JWxXzyAdNCX1QRazcow6GuE4BHoB/uzMAclBFIRFM2RXD7FYAf2MmE2Zz0faObzI01nPd/VIcpePgjTbWGlRC65cbCVanKA3XZ0GIL3xxps2ccJEu+7aa+32O++0hRdfZL985GE7vPId1UV19z5TAEscUziKRJYDBwy0t9fJNP3kkzZamxofPnBYRLnS9h48ZFddvMCGqf+x8UidTR45xgYJz3KR5KjqwTawotJGjxtn68aOtytnzbXB+hamDBtug5RFodL1obSC0V9aZNpHzhlB9pEXkRUjQ6CvIBDkCFEeVf/c0qVLbd68eX7Qr4R/WlsMYgo/6sE1RDp9+nQ3uz7zzDM2Z84cq0Z7yT3nHHG5PlVHHNKHgCkPZmDuwz/SbBGJwW/tHeSoA5LzyXi5p6y4407PWOkFKuWMANelq5IQKNfYXN3RP8dAplwQorXLUGWiXPpHX1sxq8qgNipvbYOYOBFuT5lYyZAmwtXaAuyi+fPssosvsX4D+juBNzMy1Z1XQmXUmTLq5JqutOBFl18h8+hcLRhQZIP0qFiDdY7WqcGhxkN/TeEolMl6lPpvP3DjLVp5SBpp00G7afESvScNipIZ+zc//DFpqfRPFtvH3v9+tTk0ncbVZkANQLwQfeZPRpB95lVkBckQ6BsIQDZoZxDP/v373VR68803O+GhuQU5YUbduHGjkyh9jviPHDnSBsuEBklF/+WkSZPs8ccf93Tol0w74pyui3Qhx9ByuYYwnSRVRt91ydkMwasjyC2n9LXK47Rsbr3OlclPubgUMucdohye5RoOPbk7pUAnT+YsQxQLp4svvlipQJUChdV+hFd7R1l18G68kskY2/4iwmINzmFeZ4kaCaUi+ko3yxJcjRQ1SIo1argcbdu1dm35JXO07+ahOL7sHMvviIwrZOYmD7ew5nCVR59zGUH2uVeSFShDoHcRgGScaCTUjjC6U8TTv3//1lGokBqEuEqryzzwwAM+AOfdd9/1vsnLLrvMFi9e7ARLGqFxDhgwwMkWP8g3iJH703WhNXLGZLh+/Xon5aFa7o20fYFx5HtCX63ERsci8h6iC8XFlclcEdLXTob4o1ihMObi6SoZt8JZz50/8DxHnF6dV4AFAoAnV/X2pecZAZy9MLkqCiZoeVcIX01o8TXaW6Rhq4davmp1gC2ND8JyRvtWWEzRTQLbdwphWTrfN5Jn6M0AS+C+6zKC7LvvJitZhkCvIAB5hZYGOUKGQZhobDwLYhs9erTNmDHD+xrHjBnjhBXkF0RG/OgzDA004p9JBcmftEmD62984xv2nqYQfPjDH7bLL7/cBomMfb1TKBICbiWDhDLRjPDiT5xztzmPXKlgDw5c+joULuJLvjvpJqGO++vpey7J1XEBetgDOIpEfs3qJ4UsMUPrj5ciqprUVXdMAKXs9NEyiIgWgUizRPGbNFCnkD5Y+E3PWzSrMZkeImz1bpJGBUApvvp0eQ/882fkx1SSklLPKvmjoDlHbizA0BdcRpB94S1kZcgQ6EMIIMyCgOKMZpbW/CA6ng0cONAPpnKgJeIHQabT4Jrw27Zt8z7ISCfI8nSrTjwc6RzU5P5169bZkxo48uyzz9qSJUvszjvusL2am2dDh0k+I2g1qKilzrVGJ28flCPv5lMQf0SHOTqT1yIaxni6Iy9nHZ3V75Y4YdkocmnEpEgikLT+KZybZimLT6XIBe/ukzKl11MdiF4tlU6LjjepuMxJVNkgRcqkpeRci/Qi617/3eXqWNSkEcmuPhNAGmKL5j3CluzSEXi1CHctUI65O6k7GATmqn+DiLpI+fj+moqkIbBwLiNgGSdFM4aocHBvuShtb+Wf5ZshkCHQhxEIbTC/iPgPGjTIiXDz5s1+ZvoHo1V5Bnnh4gyRPf/887Zhw4ZWP9cq0CZOw5F2mliZj7ljxw6tdFNvmHl/+rOf2W5NL5nRv8oWTZ0maSsR13hU0laCG9ntJwnl3Pw+F/wJ3yYkkH8dwr6zMiYslzz1KhNBF7l6cefyn/w7cWSZoNVJgC72TlcpSsU5rp3hNNfRz5SbaSi5h2zIwaXfUsecf2sFMMviR4Ucy/z7eCZ/YAI/VnUgrEYDtei6SasdYXzlWUaQAiJzGQIZAucWApBbRUWFm1+3aNmyrVu3+hxJ5knyLIiV69A0r9AqNYxkDdJMhzud2hMP0ypESR8kxMt0kqlTp9qtt95qt9xyi73xs59bowaS1GukagkajgtjhK7kN2ZFhHKQW1pFyb9WsJO7VCClj46WpC0dSPdN9Le5f8IdumzllZOn3X0hgpSdhFJVSDpoYSyVFKLMlZ2SgF8472uMmzjn4xf+nPOekSXJQYpuvtVdi9ozx1SwY1q3Fdb0+ZceSre94DINshdAz7LMEDjXEYCkIDoGxjCdg+kgEBYjW7mP5xAZ2h1h0S7ROtMECQ5BpqeDSYxYJV9GZV566aV211132cSJE31U5tuPPGqN2pewRCTou9yLFOHDVvku02hCkifJFZ44oSNRHfrvqUu4MzoUMyoLfGOAxZzKot84gnkZPLx79dqfViwol96nT0nBk4NGhGu9ulFZI6wrll1UYtJ0zmzVOrWQek6DTKad6N21IdZFuZ5eMhlBnh5eWegMgQwBIQCpIVTRHNesWaNNhSfZ2LFjW/su4znaI4N0IMUgwjifKZDEJ81wn//85518y3KT8OulVfYrK7ejRw77YBS30zkzSSQj9FHncK4O6UGQFd7513HvEU7yh/Swp+o/BMlCAg0a5HRE+0+WD6jMYSZe5rmw0ykXVmZjXaYVrJPkdFaPydfzStWttKLcdtQds6N6UCr/QrcLi9UhL8IRiSMVp929Vyb1/GRhQxUVDp6Ovg80b3ZROab3l+Sj9xzPlXRvuFy7pjeyzvLMEMgQOFcRQMAfPnzY9mq5MQbocKaf0QW/SAgSgxS5x6X7DaPOhDmTg/jEw0GUzLsMrZX88Bs9YaJt373HDougmgirsigSMXUg9kSwuvQpIfjr6PAaNjvRwQjNSDuXDgkXlJbZMWnUe+vqbfuePTZh8gQfwdkszcyxABfIRy7565c99yeVKcUePbHWdh49YDsPHbCjpYnW60Gi7gRyUsuduY766pxon21+aSw7xlZVJT6DhWSrJa8mNSgOaHrI5q3bbPjwkcmgKjT9XnRtzbBeLESWdYZAhsC5hQAEBSFiNl2yZImxUs4eEQHTPiApSCCt5XVn7YKUIw/WV52x4DJ77aWl9tqGtXbJhMnWT0KYRbhFXRL0ydmJU7cncnRVnsj5QBKZWBmMybqlkAim1QatGLNPa7su1TZP/WuG2sTp05LGAiZfOkRTptuTZHGi7E/7GdXN11QbVJhRE8bbyEm19sKqN+zqWfNtaFk/X1CdDNCGi1QvmhUOlwpMVVNVINjpO6XBKj3k0Cy8DmoD5pXr1tuOw0fsyoULrFgWgUZllF/e08/ozGNkBHnm2GUxMwQuWATQDtEcIUrWacVBjvQ5Qow870hr7C7AQqOM9PuNqrGbP/UJe/jb99iOnbtsRNVAK9OgIkQ8ZFasWe11mn9wMnKie/FELpkxoikvCsd+HDAHw0v21R+1TTt3Wr9h1Xbrxz+qhRYqpSHBBolpOkc1nj9E0+MkkKsX5UfbKxnQz266+y578Lvfs0dfedFqBgzxtVdLNQqYLazADFeA5qvwWKl9RGuk40TH8yQcBBrX+KTvucbxnDVeG/TNHJR5d+e+PXZE3851H/uIDZlQa3UUTmGZHNJbLiPI3kI+yzdD4BxGAK2NATKhRTLdglV3WEouiDFtYu3xqmq90NpZM+xX/scXbI00yU1r1trRg/slb9GEJHUl3ZmDh9zPyWsnq/zrtJDvqA4+LUEPIDjNTvD02Wy4rGqAXXzz9Tbn8gVWOahaeSUNBjBxMs9lBJ+gmfWoy5EYFU8uNSpYZDREW17d/Zlfs9WvvG5rVq6ytXv2+qICPssDYsyRJJF8DYGzLjQJaRiTtMfifhVWu/Aym3HpJTZ0zGjtcc3sUkYf93jToV2tMoJsB0d2kyGQIXAyBBDwkOC+ffuMgTELFiywZcuWOVm2EoASSZs+ue5qRznyNcfIo1xrfTINYei4MTZ41Ai7RFoK2m1beBgK42HXuCBWUiPNIhEhi3Kz9qnnofqzdqm7JIBfQo6ntjdKEvXs/6qkwi1aBeRfXsw2ZMmgoX7VFTb72mE28+ol4i7hw3vjnMs4QS2JHn5nUya+I1Y9YjBXESZwLYpOniXyK6WcnjPn3nEZQfYO7lmuGQLnLAJBdjU1NS7Y7rnnHpsyZYovVB7kGUQU556ubIhU8i/SgtkcUe7uLku6zpFn2q+78z/d9BOscojpVCRi58BRfo7uLn/gRJ7kFfnFGf/ecBlB9gbqWZ4ZAuc4AgguNDI0RpabQ8AxNxE/XG8Lto7g7akyhYmZ/DjSwr+jcvVlv6hDd5UxtPrIB6wCL/x62/W4+bu3K5zlnyGQIXB2CITQ36Ul3VjJ5sYbb/QFAlgTlfsQdpBnX3EheHviHII9LegDkzj3FVw6KkdPYBR5xNq94JKPV0dl62m/TIPsacSz/DIEznEEEGQINLbAYv4jez0yxYNBO0OGDPFFA6ii9y/lSJLwvel6O//erPvp5t2TWAUpUsaezPdUMek7TbxTLXEWLkMgQ6BXEUCQYRpjxOr48eN99OrMmTPt/dolntV0gkAJlxaAvVroLPM+iQDfSF8kxgArI8hAIjtnCGQInDICCDX2YESDrKysdA3y0KFDvnkyptXoizzlBLOAGQJ9EIGMIPvgS8mKlCHQlxEIDZEzfUgxtQOTa7rfsS9rBn0Z36xsfQeB86APMn82TtzT59FD/R5k6VkxkzY//x4qw2l8U8kua0SgfSQTR2tcyh91OIX1K6KqrfE7uGhLvIOHmdeJEGDx5vYuDWZynfZpH7b779j/kXVQGZjDLh3V1dWeKcQJUcZozu4vSZZDhkD3IHDOEmQrJ7USUgCUk9o6+YK54d2N59bVNvwiGeaeMCYTg9UP43+7sQCnmTS7rLU5aQC5G03/1hULZVFmruNJLkDeqa3eepCD3YMgtaPSaf+8+K1hO/LvC34dlb2LGKmjpPOr3H6dl/yn3PfuOpUQIf2QTO945513fGcPpnygOYaWGVok95nLEDjXEDhnCbJNTqWEeLvfICtD5LfAz+T1kFNbbh2m0PqYC8pDQVo9kzUJ2247TKInPX2pLc+wrVBOdgV8DvhpxZGTkGNe9HR1/VFSfeHQyqKJ9/F/ya+tHMc/70UfitXum6IseBznyYPTcqdS40J2nJBLhyXnKFba3wP24B+Ib8CAAbZ48WInSLa8QovEnyPTHnvwZWRZdRsC5yxBJqZAcEkRZE5iuBBxGXYqguxkYVLpd/Ia0FQToQX1cBXEnCtQ7tRJ9B73biO/XN0CAs6+HBaab3ieoHgnrZfSOJnmIOz6tMsvnsNyCticrFL56XYQviA+o3imOBEtzq0eEaaHzpBgmFFZnHzy5Mk+mpWBOuzwwXNcpjn20AvJsukWBM5hggSPRMCHuGonT/T71Op+eaBFyLR3R37p5/zQW8VR+kHrdbt8FVarMOoZGixpnzhuayI9epGrU1SdW13HKvvUx3cmOJUyRRrpsFFlf5bfwGClDKGCANX/xBSXRA6zXDqpHr+mzFH+1syjks0qL4tN539XrQG75yJXngQ3ZdFhGbsn685S5V1xsEA5I1lXrFhh27Zts6uuusqXneMZBMo5cxkC5yoCfYog+TFFy/NkgLbk9lpx2SEzXr32EgvBVt+sJbAk5bWi4MmS0fM0vYVkTP+o8wX88Uk2qanv8p6V5xEM2u+tpBBoQ7K1XR4fuxd81AWZ9EPqQlvwNDbiIYGnoogC9I++rVPB7gzLLsgLtVEqGfreeJ5zkhbvn5GRveoAIl6dNriloFpITWZD4SOoigpLfIHlJp6pvPHVxJmyRxJxbg3EQ7lGHpzA8dUVsZ8B70Vhi7T4dpM2kxXlyE95CiKwYo/D3nD8ViHGBx54wA4cOGBTp061a6+9tnULLMp0Or/n3qhDlmeGwMkQ6BMEGa3MUyZHiBSpISJiMElTC1t+NtqxusO2aetmW712je3VTgOFTe2FR4uTQCKZXJh5/xgCMFyIuDbpRTZIu/AhBEI97nlSXFZoY8aOtikTZtiQ6mEixxJtByM9Em0jXzJGVr14bmxhH7wmq2+st527tttb76ywHXves/qGY8ZWPWjmxdpjwMtORVXpQCZdbDROx0eeTq9toHgw4ms3uTbw5Ev6vOfhw4fZtKnTbcyocVZWon36FBf/U/0G0uXozuvmZg1a4jvhm1NGBdoi6bBwOrj/gL474agdz1XsxLVe6Na/zzaA8qChsrlIySn/OdaH4kJ91zwQIVZUVMp0WWnFJWWedKH6i4t8f8F2yfTYTUzniGkeJbnFwHl/sb4mv+teb+z0GCJZRucjAr1OkPyIOMIcE/chLDsSmO6HgEFu8UeC4tiRg/bos4/Yirdet9HjR9vQ4dVJ6zoneTgdnxa+aYLs+BW3iAlCniH3kFCeHpcqRkNDvb256lV79sVn7Nbrb7c50+d7nTy1CNhx0mfty2AIXOB1SglKQ6uTkH9+6XM6nrKhI6ttSM0QqyytFAGI2FXZwsbEUNyaHn6tNwlqCUFSQYcEXm3nfBdyArlzukUnssb6Btu2c7X98r5f2KWzF9u1i2628vLy1u+gXSK9euMvW8Sos+p27NgRW/bmK/byG0s1MZ698jQh3jVM6kijra2wVNt5NXnkWwe1PdWVvtkI4/65DywXXHmyCW+j59GszfeKRIijRkzQoJjrbezIccKRPfxarLynzb2pSjBI5/LLL7fly5fb5s2bbePGjbZo0SKbNm2ar80apJmKkl1mCJxTCPQ6QaYFO+QYK3BEC/V4UsvhmxNGmJiO1R+xx595zNZvXGO33XmLDRs+1ApKJWDY6dPb/YgvNABEXZx5ArkgahKHcMJx3yao2ogiqLQ9DygV7U7eXF9oy1990x589Oc2sF+1TZ0wLcnLWUQJdoPVEHIMgjydlnqz7IQr33rbnnv5WVt01UKbMqvWitgSTg40ML+W6hx44N828pW7hCADOTAFs/ww3LPTesKRQp9AOhqbpJU1T7NNmzbbEz972foVVds1V18tg4BIWKTTnS7wOpV8QMJrpjLX1dfZ4088ZstWv2gz5k+2a2+81LdQorHU6TfaSUWAAZfgkrtOTq0fHlgVYboXqo11pr0W62z1qk327e/9f3b7+z9o06fMRh23ltJT7i2OHLrsvHPnTnvyySeNEawsMbdkyRIbM2aMj2qNBu+p4NxlBcoSyhDoYgR6nSBDY0RwMQKO1ijrO/JDix9Z1JkwEAFxmtVyL8xdv7vzPVv+5qt2y+3X2PDRlerfapCIb7BjBcmcvoh/KoIshDyiESFV6GlECsefXS8qkDmyoMmmzZ9gO/fusmdeetLGjB5v/Ur6K4Jo1ZmhaxgyBDwYbN261bZs2WJz5851DYz6hUDiedQ3zlH6I0cPu+Y476LJNmv+OO12XqdDRK9yQgqa4k3tdbS5nJ7a5qErqkUYiJSDd5J2YNOY04xa/RWmRV8d4cdMHmVXXGv2wlNP2rxLZtmgyiHWov7QEvVPUg5M6JQGyiT82br6+nrbvn27JzN69Gj/lsAmsIqz1wr8PO9ifUuN9taaFfbK2y/ZzXdda8PHVGsjXH46fCAqXQ6H1vLpWzjegVTa5dUo/7GCFsiEW6DGF73pVSMHWc2EITbol6X28CM/sOFaFHzYkFFdggvfVPzW2jBIl/X4a+IcPHjQSktLbfr06Qa2pNHZCNb8b/D4FDOfDIG+h0D3NtdPob78cPixcbAix4svvmiHDx/2mPjxg40fbZAjDwtdoCd9Wpu3bbHKQQNsxNhh2p5bJrzCYxLMjaYuQB2KnztcoiPVWw9IAGHcdjQjlL2PUeYziR8OxH5nB1pUg0xh9UX1VlxRaBMmj7Wde7bbkaNHvNz0U9lx4/W9eqf9J7AgItgg7F999VU3ZwWOaOCESwu8dEYtIqgD+/ZqN/j3bMKkUdZUdNQJsqWgwWtKrX1wiOqVrjPyG/ps/y+dsgdwslAgP0OzkG76aBIvML6Kc0FJgY2bNNKspM62vLtJHuqzFPaqnBKIIy+Ps7hFiPN9vfnmm44fSYEXWOLahHiuAkKkQKbNOo2oeeX1ZTZpxnirGTNUHx9Ddhr0jSmu3n0LhHjcQd9l20GfL7GSg+v2RzNp5R2o303Fwq9IA4TUiCmuaLSZcydYmdpdW7Zs6LKd6PlW4rfG9ak6VtJhYYDdu3f7nEgaHfFbBcvTSetU88zCZQj0JAKn/mvoxlLxQ+JgNBz9FlyvX7/eCTOyDdMrP0Cc/wC50O2RI0etUv0hxcVaHk0E0NSoFjE/UNmw0gfB2zu0BMxYnR/tw3d+hz6ARltdXeVCvqmxQRoKArZrNMfIGWyoO3iwxdDQoUNdk4Qs09jwnHAcaQd8B6SpKxm19ivUVhA5pG196cCp66CMdmclTdQ4XNXji8odJ1vJCFoq0aCTygGV0kYO6T0khJXKtssuwQZM+MYQ7GDX0NDg3xqYshpM7tNqlyfciUl4r8JPGFebtK1k1kc7Fju2Egvpx8E32Q4npXiy+3aZ+g0xcJxpyAG0Wf9+/W1EzUjbvmOHLKwRxgOe1R//PeVwOFlChE3wanE8qTeN29gLshWHkyWUPc8Q6OMI9DpB8mOKFvymTZtayfHee+81NmQ9duyYm14DR4QZcXAuvFwwYYhD+0BsBSlwhkzajlZJHhK9nXyJG85x7dnoD6K788Pz4LkKVKJJ064rYEpUMvkEFSmeyZm0qDtnhD3mVQTVSy+9ZM8++6zjBFEi/MMFtnHvdfOCibi9mgjfRINqCxNXndc5wYN4bYeKpbLFQTlJ5yRpCKfS4lI3zxK+UPidAl9HAU/rvH//ftshYmEXih/84Ac+sIQ9DDEVghN9s+0c7w/rQwMaogydZSVWUKw+v7zPIwghzgma+fVul/IZ3ojkZZEoLS+1Jg0MQ5vvKsf3dPy30nHq1BNrzrvvvuvf3wc/+EErKyvze2LwPHMZAucDAr1OkIAYLXjWc6QPgxY+P8CKigoXYs8995ybXfkRc4TzH6rkUJAQhNmiP8XMsdO5IxGFHzodZxgM4ypaJ0MdoArOyTVheJb82HNKEbE6cITx0D7/slll9DQoGxpawhQdxDt9L+qM5rNP01jog6ytrXX8WOaLUYTPP/+8b2DLBG6wCmza5aTyNEkrKmJovrQQ8D+Ri7oztcZxaw1MvcEQl1zHOVFuEuwoM0eHuWi+KIK+pKRYJJmE8+S6+A9YrF271gX6yJEjHUPK9NZbb9lDDz1kq1evPj5HVRZLBIOHMBcXYQ2gjPqHA9sO8XWUQCr/aEXS45/2HzBUGZhni2v/Lk47tdYIECO/N0ylNLRoePGNgQ/145x2Ueeamhrf6gqtHPM1aZBWPCdOftx0Otl1hkBfR6DXB+nED5DWPcfNN9/srfwYpAOAtPAJx4EwR7gnK5qo70S/XX6/rlmqaV+AwNXctUJN2mcxgRBRkio+LzFp/kvQKE6B90UqvmsOEgQaFZhM+sfkC+EpToFIRP8S7YJ7/BPBES83mfStNFW2ZhLG5UinRWd6MrvCRQuffCBHGhKMHly6dKnNmTPHamtrfXeFl19+2YkgLajS+SO0iimf6l0IMbUrX1L+Qh8cQl1DyIkkpL0UMThFoNOHBsZoS0w3QIumUcJ1iQQlDQM3L0sdDEKhrZAI9xxGFCqR9XoHCPzk/Sby31EmRJc4CHLDhg0+oIQEGVzCNAUaZDQsaHCAi/6rFPrDBWe9b74dFp2gL5V76tBaJ4XLx5nBSh49VfL8MJ526jmX7cOQf9pBjnyLdCEw+ExvQOfGHFmmQ57JNd8W2vUf//Ef+2T/u+++25YsWdJKfHxzuCgj95Ao5Pj000+7Vs41pInZH5cmR67j+/WH2Z8MgXMAgV4nyMCIEawjRoxwgb9q1SrXfhBq/BDjhxY/MhfGEbGTM2Hof/R1UiXjEFgIbc3rTmSyBB3zG5vVX1msif08L4FUlZ7PbdMokgLiez+itEo9QyhRBidPnbkOgdFJMbrUm7w46OtB2MyfP99NW2w5hLaNmQuT4ezZs71lH+E7LqfTgMigI4cvz5P8iK//LqCb1Yho1HspVX9vk1YvcrLgGQIUzHVCiy8o1EQRncGT1WB81CfvwX3SuaavOyrL2ftRfjQc8AAziBL8EPD4MSgM4Z7gRH5RpuRMHU7H0SSipmnX/i795FSv1e/XVKdxOzJHi7DXrFpjz1a+YKU+mvZU0+g8HHWnoYDZlIFfWCKY43jxxRd3GCm+LRoYfI98c4ymptHB75b1WUkzcxkC5zICvU6Q8SOi5XnLLbf4jgBXa04cwguzIaZChBt9bQjh5MeXTPU4MfASxRLmhQgQ/U5p/BOfMz9bH5ijCdisSII4gw5ci1EAtAWWqmuRIGpMVBsPQ3785kkXsxtCoicd+QUOCCTuMWvdfvvtxma1mBAZ3IT2DW4ILwY9QQanV1YQShwrxTSICJN+wsS/NFZNYb6GkEGrZrk6yDJZ+gxtIdEqXe/gOSZdGhk9C5lXgrrTeLjhhht8eya+qylTpvj+heDEdUz/yFX7rE7J4KT2FeW7S7uWfI/0ww6vhafwKxLmzeqX37V7l23cvMlKGKrdPqsOY5/Mk98h5Mi3wjdGg4EuD/Z4TFtzIh3C87uEHCdNmuT4gTHfY7pRG+Gzc4bAuYhArxMkwgsyRJijBfHjxHSI40cIIfIj5YcbGmUifNNwt5cQyCLRl36oOkR8Bw8fkfDWqiPl/fQDlmlIeezfv8/q65pt8MAhdvTYUS1Td8xHoTL4obS0zCoUtk4ztCsGiGQ0GRt39Fidwh21Mq36Ui4TXULYDPOHaD1IV8iqJKEO/kZjIlYoCWGEYAJDMMJ0GNoS2IIn4SIuyVLUNnkd2MU5CVF39JiIsVnEW2mlGmkKSR7cd1DL0dXZAA3tr6+rt/pj0iCVWoNMteUqQ0VZhR3WajPV1YOkhRfI1FpoR3R/TFNeKgcyyphykH7i2pcjfLvnDGZYKPiGOIMR2jbWCjC76KL53oho9qXj1KAQlo6Uj1hNypQqeq6Q+HDwtbVhmmiQuSC5U6I5c5OETNDGN7mKJ7ngOf8k7cQviceyikX6nVx++UK77cYPuCYfcc7mzPdBf+w999zjjYn3ve99xuAbNMInnnjCcctPH3LEDR8+3AfUkQbfHEdcp7+7/PjZfYZAX0eg2wkSoR0/Fq4R1jh+ROEwx8Q9wp7wcTC3CoGGP2H4UTKXr6yUpV/Q9kSCStKFEj9M/WvSuUCCRLxljQ3FtvT5ZU6S79ePniE4S19cZq+/vlLaxBAbO3qYNRfX2ZoV79iKNzbaLK0PyvzA/Xv22y8eXWq/+aVfsxkzJ2mlnBb72fd+Zi+88or95u/9jo2bOEopNapM6g+SZoqgSyZ2M9BHA4HQPOUosy8yrb7JqKM/OMM/QXYIdRxpghX+TNjmCD+egxejWodoYjk4I4+b1Eer4U7JfETFlZVZddADkRr9XI2aorLspeW2U33Ct9x6E+Daqy+8bK+9ukxrzQ61MZMmavWiRtuxZr0tW/aWTZ0+Q9sdTbVdCv/IYw/bb//u52zurOnSdJrs4e88Zs++/KL9jz/4gjAbJ8SwBKifUnkW65Di6do430Znzouncp6tA6PAj++JBg6aOOTJgVme/sPG+mNWVFxmJcKWgUMCRJaEY8JH75v+Ws1r9b5qFYg6lAhPFnenP7Beg2iK1LDCcqHqq9GC6V59mEqGru6Wov5qeGlt1VK9AzXaeC4jhr6XOitRIwSzvpo5Voe1o1Dful4L83KTb11+fp0MROMbKCtJvoOzwQbsOeg7/Nzn9O5kKsUUzfJ/MbKcbyysF+RF+FGjRnmfNwN7xo0b5/2PfHs840xjhGviZlrl2byhLG5vIdCtBMkPgx8Ijh8MP5JwPMOdyJ/nCC6EGY4fKANSGNV6k8xl06fN1NB7FtVmenviSBWS5F8hgkz3e/busQP7NfdPfo3SAp987AmbMWOeTG63qj/nqLTFBps4cryte/seW3LN9TZlYo19557v2o5te+zlF5fbxInj7eBurfLz6hu257390iTrlapMXZpcX4oAU7q5WkqgKV9yV/34R5+dDxjiPlfnpKRn9zfS8nxyaYcfKXMN3hvU3/YP//APdumll/oAqNFjRjvm4ORl1kWCmd6F/yNuoe3bc9De3bFT15ooL+30qaeft6ljx9v7brnVDkrLqtbCDLu1WtCqFWvsmquusSlTZ9q93/++7Xpvn7360jIt3D7Jju4+YG++usL27txjRw4dY2yP9+kqG3d8DfCyfyP46UCoMgKY0rGYgDc8dJ+um0c+gz98azjO5AlZMtE9HA0vBuvc94N7ZcUYbpcvusoGq2HBSjpNYrcS9UfT+GEgEkUENwZMF6ugWzdtsT1H6m281iEtbylROnvthdfetMNH6mzWjGlWd/CAbdqwxfYeFv0NUMOsutz6Vw+0t9att6uuvsJqqvvLXGr29po1tnzlBlt09RIbMjRpTEb5OPOtQZocSW3ST8/sOn6jaIKf/exnHRe+ncAJ60R8T7wfGlrEwZ97fp9sd0VjAzwJS1zC8ZzfLUfmMgTONQS6lSABI35kbI3DdRzxLA0Yz3Dx44yw/Bi55keGwP/Xf/1Xu/e737U77/iA3Xn3h2TCO4qS087RDpfxT/4Sar6mJauYyDwlKTRleq298PzTyqfMrlpypVrh/RR6vws8+tCa0EhLimz+ZXPsHQmsPXuP2IrXV9jQITV2TJIJMZkIbgVEU8y18KMA9LexmHWptAXMvBKpEhr5JYzQZ3dGAOE6IhBwZOg+DYof//jHdt9999kHPvABG6vVfhjAJCnn5SrG7NyuGDQ5tOiCGgFMiqmQaXTyxCnSxF+ykvIBtujaa61I5tTycmlL6qwtFr7FXk+zi2bPsXVrN9jBvYfs7TdW2IDBA2xkibRtaY2FEIuQo3832Y0FolIx5E89GmT2LNYo5GQCPPTtTQzhDYI9447KtPzAz35my5cttyuvXGwf+shHbNZF00UawkLl9OX0vP8w+QKaRY7NwvKtt9X/u3mHjdUaqU3NdfajH//UDjUwkOpiLaR/1IYMGmyHqo/Z/Q/+yG669S4bO2ykPf38M/bfP7jfykTUd91yox2WKfqHP/y5/eL55VqGb4ZVDx6VzEnq5qrznfD9oJHyHkLLJlu6PXAMZKqs1G4iOXLk94j5FVMsVgqWiEzHi98scfndMp+5qqrKf8f4ZS5D4FxAoNsJkh8eI1TZNw5THxohfnEEKXLPdZocATCe88OkxfqKTJz8WN/SZO+16zfaw48/aTMvmmIXXzHdyRCxmriEyNQ7KBHPtf6xwo76E2/XVJJRQ0fbIw8vtdVr1tpnf+MjrsrQxo2toBpa6m3kmBpr2Vsi0+KbtmrlOzZr9lzb9/JLCZFK1hdqkI/+5vJLTuS3bcs2u/+B+62yvEr1hA0g6+O1gXYRT+EGjPJdR36ECTzZZYHpM7wDiJI+t4sWztUC5eMc2xKNRj0q855vMJhKHD2YutVLW6wsLrc7brvTxteM1ZzBx2zV+i3C7NNJ3Yql3YnxmoWX2hRWO3aMbX9vhz3zzHO2feMmmzFnpu15+TlpPODgBXNyTKhS8l8mySOHDttTTz1pm9fsQD3TIChNgteya01qeGCwhswxnne149sK7YlrzJcHpelt277NtmnAyn33/cieff4Fu/qGRVY2qMVuuv0qxywpCSVK4vhAr2amYOjnpHV5m7VI/q4du+2YRvKOGzvBhg2tklap5kZRhfWvHGCTp0y2SbUj7ZVXS2zC6Bpb/spyu+HKa2zb5ne1x+JBG66VcrQKuVKn/m1fdFfXP9Kj7nwvEBm/P0gyfoeQGgcjXBkbEJhxJgykiil24cKFTpCkybM4kyZTkiBPRlvHMw+Q/ckQ6OMIdCtBxo+IVuj111/vUPBDRCilD/zCn0Bxzw+Va9KBHDmzg4BPxBfRjh41xubNn2tjJ47UD1A/bMgo5yCqAvaDlKBpkkrIDofNui7y0ZVldsXCK9UvN9H+n//8D9t/+JCPTG1RH5N4WGurap1N7cXXf2CVzamdZ9/Xqj6Tx4z30XpPaYsopw4EhAS355MYvjxnTGAjRox0c2bNENamxMRKnROhEeU703O+gAGfcOln4IsAW7lypbSSH/qAFLYhuuPOO23KjIm2cv2rji2DbwpkOmxLBaUlKSuaXIGOhvomaQB1wuxyDdCpsm995zu2RybEIer+gsgwZUOO9Y3HrKJfqS249GL7PxrsMW78OK1fOtF+8covFI4cJIC9wZCUuFkYqpfKyirKbUBFlU2ordVbYl1QBj5BkDQqREL+WtMljBqf3jmNT8RM44eWuGf3Hi3nlmhKLOs2ccJEbd803fbXbVfZ0XbjG8M2AcHqu/OGkjDT3NGCZsZAF9sdt99pP/rZQ/ZP//wvdvP1S+y6xYvcvOyaNlOHmmXdUD3nSuPeKWvD2ytX2Ttvv2WTJ0y3upYtMky0fyeUF306aWVE6bv2DInhwImD3x+D5zDPM1CH0b+MWE03ciMOJImL745ryJHRwY8++qhvqJw2Z/M8cxkCfR2BbiVIKo+Q5sfDYBt+dGmB1Bk4HYXhx8rx+uuv+0CUa6+5xu6884M2a+5se+m1l2zjjrckvBAfCDDa3dCY5upJyJaWV9r6N1bbz37+iA2sYt5Wg9UdbbSd7x20+XNmWc3Qat9geeBg9Z+oU7FQm+KWVVZYsVrH02dN0eLQ/Wzq7CnaRqtaZqZy1Un9VyImxEmxTKd1vmB1W23K1C86SgOLhg8d4XWmPN0p2Npybn+FsEJrR8Axnw1z2OTJk2UKXGvvbFyeBJZcF2iOlgor3BLkyrQJ9Lvbt9gjjzykfqVKO3ZI8wTVx7Zz526bNWuqDR82xBoOvGv9q7R7ikbcaEyoyFEEIRPpTGFWLUznzJth/WRi7V81UBv96n2I6RhNHBnD7SzWUKpWydzps23BPG0hhSnTHe+Rd9izjmXoRo2ssSuvuNzukgl/yfU3aIHyIfbv93xdE/NliHZzelImaoIJvaBeZYVU9M+nAKljcsrUafabo2rtuV++bA/8+H6bpn7sSo0I9naSFlxwrVsfEOvQDqgeYg898oibWher73HVpm1Kj/9pkoQecxQp4Dr6jZwpUvwug+giDdIP/xkzZkiz3Wv333+/fz8sTkGjl982jnDpM98dFgs0R6YdQapXXnmlm2cjrEfI/mQI9HEEQhp1ezHzf0ynk2EIA8ysbMjKYIAZU6ZaeWX/RGTo98lwnNzv1JOmX0sTH6SJFEvYXWVjJtbKfKcpCpX9rLx/ue3fddgmTS+12nFjNNCn3gYNGWCf+vTHNTBCU0o0qvXqJVdICA20QTIL/cEffd6qtLB3Zf9i+/SvftAG1gyV6JZQVB6+32EH/IcoQxgkAqH7hH1gE3iSX/iBOcLsK1/5io84ZDCFrwhEmIjQ0VlfxWWXX2pDx9bI/FovE9tAqyqeaLve3WmzZTIdNm6s9auQ+lg6yD72qx/1EbLNxY125bULVV9tzaSBGv/Xl37bSiREK6SFfeJjH5HZUHt0tppZyTSaMkkBBKWP/Ey2kaLHURqM3mtiYuWu+x240a/227/zBavRgJXxtROlLZXagSPqT5YpGk0bfteb9cLwlzhFUp+bpYnvO7jLtmtuYmVZk219d7v1U79juVYqGjRsoKYG0beqL1LfoMkEe6z5qLWoYdGsjannXjRbfcT325UL5tvY2tFqCGpAkxocPWFe7QxVviO+H+qHFnnFFVdosNpEb6C+8cYbrZpi8n0nJAkxhuMajfG2227zbzA0zHienTMEzgUEeowgzwYMfmz8WDkzqduFkn7ATWqOs91Qm/AMsa8ft4RxY8sRl6zlg4tt9tCpEkz1olHtWycT2LCRzLUslzDSwJ3CRgnCAhsxqkZ+Sk+sN0j9RtaoVUFEEKNGV/kIw2LlNWLMMGtQw7mhQH1uKgODNFxQegUj/7Op7enFDQGVjpX2Q+BzoH3jvIQpQZaOF9fUZ8CAUpsze6rVy6QIsTGVYfSwatlfi+WnQT0yQRdqkXEww9DM/psDhvZzs7NW97ahNYM05UECVmr9yHEygYsUWGgbE2quEEjV5Ei9QS8D/nIYMem99WDu091/CnzBhUUig2RJPQqRvF8GXjWqf5S1UN2Un9OEW9AGZWofO360rd68xZ755dM2umqQVQ0aaC+89LwwKrK7P3iHLArD7IDm4y5essg18oKyIm+0DW0ps4mTJtgnP/UrGvk7xgYNLLerr1lgNcM0oEU23SDj7q55On1+Xzi+I6753WFWZcEALEHc0+WBX0eO58TliDCRVkfhM78Mgb6KQJ8iSH6M/JDyHeSIgI8fmYdRWAQoWobkViJIJKicEdHudNlShEDWXnr+VwsB+J6HrOOq4emaPFms8MWaoFYvEixinUudsaDVSdj7wBAJxxbNc4RUixS2Plc+trViLqE2NHRhkfThIVSOL3t+Xbr7Po0h15jOEFho39yDpYDMYZmUBgpIRCL3XCekyIAlVGSf4iAs2K+QUbvNSqOQNW/V54am3iwCxVTK2F7eEwsnsNZrgaa4tGiRAVGjXhL9lMrbMZLgF1Tt0WorQVKqnv/LpyeoEnx4v5qPSP1YTxeix6TOFA8fkYw2DGqKQz/qlJmTbeykyaZdQK1CxFZWVKrBYxfpOyuQRqmfmb6tARoFeqtWi2pSI0Mbb9nseXPU0NKWY0UldtsdN2n+JJsOF9j7btJKUtJYZbtVHp259uh1FupM/OM3mP6W+H5wfEsMzOGIcHHmGd8b8eKIOBHGE8n+ZAicIwj0OkHGD4kfEMKVH1hnP6Yw+RDHN+GVMGJiNTIfiVskwdzEIAlmXssVFGjRAfmVMEsb4a05fQyqQajJWiZyxQiLq/Azq5SQt3pNJRQVR6M7GbCiXrJWcvTg8kOYNooUGmVpbOBGrskX+Mb4CnnoQZKt8pNoTYIk0bvwL1jgAkeuAyfOCC1c+jlrecoumJgLpQ2yWHuLykjdnSwl/JtKNKDGyyxSVZ8smozr6sov6UcU6SkO2VN9b6zwV/1vYJvwDO+EKxGoIGhyglWjhBswUposy9bM5taQKIsusHyd58tL5eg6BwadfVvkQl1YSYcGUDODworUUNK3xICaAmnMjWo6UU6okqkqFLSR8rNagM4tmkLkQ1VEpnUFmvivT4CaNmDsTz5SYc43VQ8iJMCXpfR0r9HArCbAIhcUpETkSCNNpVEo3o8aiNx5IfWNaq5ld7vAyr8LyiXnDSyd8/sseRZ+ET7wDtKM9AibuQyBcwGBrpVAZ1jj+OHw4wtTYH5S/Njo+F+3bp2fGRXKb1ayyJ3vzCEBgjApEPG5iFaA3O9aMicZfIJATtbKRLwlAgcuJCrCDAHEfZHST66Te4jDk9czRAXkQXyONofU5J7DJWgSmAjd5MAFx5kjBBiYQo6sqblGczljWTDCotk1sdqLzH9RtLa1QZUGvqjSLpyFCut/itAcISe3eKaQCueNjgQ93Stf+YBMsnNHgknyfsg98CEEjRFllVSBKwJ0mwOPOAK3/MwatJTehvXrtPLSQX2LNKqEqwL53ExdUNfEpy0mDQ4ffANsOpjyiobMwT3VoonBwTVYQJD+TcmPbwgf0ogwCU5gJx8HKLlOEiTvVtC46ZMuftcULn3dJwubFSpDoAMEel2DjB8OAovr0HrCP8qMPxso//Vf/7WNHDnC7rjjTp+XWFYaVUgESbS0GTFpxgo8CBIJoFYpHIKF53IuwZLLjv9G+PRTxHraSaeAnETCOHRIH5DSGgT//DitD8/qInALvCAArjl4xsIKf/EXf2GXXHKJ3XrrrRoBPM0FMaXxDaYVrlgkhw6XkD1lpc6JhuIT+lUvqKwjJNKFR5t3BnBPmCDBIkmPNMJBwRCxSMHZJIcN122BInCXnMEisEGjCZN9NCjIhDD79h+wf/rHr2nUbYkWorjT5mn0b4FG4EL2pUXJIKcC1jbsdie09c22xxxw8Mn/vrq9MFkGGQIXJALBLr1a+dAa6fhH42EhaYRV2iHcGDbOCDrm9f30pz+3m26+xe764Ad8lQ43E0pwIDzQIhN9kH4khG+kxTmOnCzOy0cBTuratCGCihzV9EcXg4PbaETlQJ45MVOeHAkQpQsdmiELAYAdmKUFPpixxx+YPf74476Szh133G6TZ0ySKVFmOz3H9skIYObwUdb8UromRHlz5O+XqhfVYqrCyV0i1PmrAqoRAQkmZIxfoq0mV3qQJOdheHdd62g0gBNTOcAtTIKtuahOrDy0Shr3i1og4KGfP2TX3XCjLbl5ic8F9VILL9cM+Yy61ZEB+HLOI2T/pk4F+24tYJZ4hsB5j0CfIMho0W/ZssX+4z/+wxdNTgv60IgQ9qyViXB75523tT3PDtsjclh41Xwr0jD6AglWFEdMqG4JhK6cACVkcrL3zN5oWhrmJyQNDNuYCKRYg3YKGBWrcrA0AQ7TLpPL6bejHmfrouFAWjQsVq9ebd/XGqgsRg5mkCJhAjMwZeUhGh0sGrB9+7t22VWXaLm90eprK7FCrRbO0noFilugCe/oLAUaccpo3kQ4JyV2018UXnA4IhrVe2InDOhTJLA0MLRRzIrebyyWQcRzr/nkWtCbQVLKXWbNAvrj5J+LqPPZO/DgO2PiOt8YU1442t6JSqIwYLVt2xb/xtav32Df+e53bPXGd2z0RI3gpRmkQjNwB1Mrr5MatS0ekP5O2pc53lt73/Z37cNI41W/o6/O440TcAMVMNV/lSFzGQIZAt2LQJ8gSIQ6wh4hznJUH/3oR30icloIIPyZdPzwww+rlb9L5tXZdruWP7v1ttttlyasv7riGQm1eivrx0LKEiwygyHwGILvJinHEaGSFr66PYmcaROgnkDyJy8OK6ckY1Fa7DCLoksQF2uEhsswZYcg5egOx5ZNzHVkB/jQiAI3zqyRyTqsaE4sGHDXXXfZrDnT7JmlT9lRLaRdVlFG6QUDhI6mIvOdSIoRwAFOW/9uugYCAYkNFtQtjUnUVQ2FQtdMEeoMMtG/RnLSu4EgJfjrjzaIlNhCTAsOiERRavP0pXSmZ3UdjQf2zvzwhz/sK8Mk34hozr+VFte4n/3FU9rFYqtNnTRFu5ncYTfddq39Yumj2iaNwmmErurHyF4WBShmCaF03c+qhPmRlZGnDV56pqNIpm/fkqvb8swvQ3afIXDhItAnCBJBHlokE4ohSVr3+CO4WLKK5+wLuWDBAhHor2hVmFustnayFs8usXVbS+zx5/bbzh17bOTYYdKkVC1pQwxmTYgpRG5Oyvj7TiSMD1bNCXQXQnqWNqGhIbQjgFzYNqEooY+J1QWsNLpV6zRRvtr3kyQhN656n1VE7NqPDXxY1YS5jmDEPQcOQgBLlvmjD5Izc9katCLMGytfs83rtlh11RRp2yIr8NIBuVNfn99HInoH8R64bef0zF2+sI57yFEk6Ro92j0A+/BhZSGNkV0w1m3e6CQ5skYLc4s62Xy5Oxx1wNEQo7HFsmkc+a5e+4LOmTdby+otsPfdervNmDXbmjXVZflbL+v7eteGj6tWfJG8TBQFGuTUqEE9jNztDkcjguZEgWvh0h11zzZje/but6njJsTH3R1ZZ2lmCGQICIE+QZAIcoQ7R75plbfEZGPMqmzH82d/9mciyioRKFMpNMtRcm+kFneeM3OePa0tmW64+VobomXQMB82a3I3JsPEYdDDJQIYbQZtyUVbLkiEJEpc+whXj9fZH1GoiKBBgmvD6rXayWK93fW+T6h8mt9GFhCEGxM7i392/kGGpBJEhh+YcmaZr7/6q7/yxgU4QhBlpRW2cMGV9pNHv2sVA4u1A8V4LRcnJNSiaFJjxFezEbYJBjQRIMmOynliYvDqe6sDEzPavDQuYYVWyVzCLVu36p09Y5cuuMoG6Z2SB9kkb6ij/M7cL3AKogxtMvxJmY24Bw2qst/73S/aQC0qXlaulZpU1mPanWO61mN9YdnjNnHGOKus6i8cWbeX3Ux4v+HiqitqQBoiR9AQMdLLzUIFmzdstfe0fdj7r52REWTAnp0zBLoJgV4nSAQWxIgLcgxBH8KMM8KdycosBI49E92MoffEKdUOCtdffZP99NFD9tP7HrXa2vE2fESNFn0JUiR1rkOApc4xT4QgHTjXaCSjEkLtIICeHT3QZFukCe3audtuuOomrVc5zYUaoV2zTGi4g8hn7xUYeV45HCNVhD/LhGFShBi5T7AutJla+/S9/Yvt6Seft2Haqmn4iNHWr7xCXanCWhoRC4nT7+jEqD/e0PCbSB1yRIh37niazJ4E78TEig+Ln7Ns3Qbt9jF96lxbfNmVWkQAM3Ua5ROn3Xmup/4EPNIEWSTttqW5SFgM1zxIrKksCKE+Zn17c2dfbGs2vm0PP/i4LVh0iUZSj9JG09QLg3G4aDDgH99YPDu9s/c1KgrEyACqo8caNF1nnTayXmZXXrZYK+3U6Ntvy/n0Us9CZwhkCJwKAr1OkAio0HYQ9hxpoUUl8gUZPTHMg/SFWSSIWBigfOAI+9itn9HgnVW2YuUK2/7GHgl4DJwncS7HOhNmEtInk9OKWixz4diaeXbrVbMkOEdKA2NB80RYJtFPlshJyph6nI9N6lE73FrzF764WAkl8K4o7actlm636ePn22uvvWa73tll72l9UPShZNf6VMpR/HyY5J/vlYqlS562vQMvO+WRdjuwaqTd/b4bbbJWnykt1fR6gmpULKckf7Qn3nTXucCOc+CTTp1vz03MyrVQk/6TJlWTlepdDhtYY3ff+Cl78Mkf22P3v6BvD9N2v5w53psPqaTa6pzyPK1Lr7sWQWc7MAw9R49pOUR9V4svucUWXnK5lRej3QotAmYuQyBDoFsQ6HWCPNNahbBrjS9ZQb/lLPUZzZgx0zWmRGtsDdFtFwUuxLQqipbfCrLvtsxSCbuA1H2cU49OelkgAc+Ui9rxE2zsmHHez0s64MpxJml2nGlai08aO5FPiRby9iXrFPG499lxYt3q274MCfNApLxTNO8qmV/vvutX7L19O2Xm3KWBT3V6JsyEZXsHzXOcuXOCbGa6k9KQVjuwcpDVjBhjAwdUq7HDiF+ZrXONsDPPJYuZIZAhcCIEzlmC7KxSCA2EWbL26Nm35DvLJ+2frEvapv22F7TpkH3jmvJxhIDlHIOighjj2dmV+HiiiPQDI1eCVJa+6iBHsEhIUosQFlTamKH9bdSQ2lbDefeVXjt/uIooZfHJggAAKwVJREFUa4Qy8VWL1BgDM8oUDY2+il1WrgyBcx2Bc5YgQ8DGC0CAhfBN/CCBExvoErl8MvEG8UUunZ/T5TkXBFd7rJJ6hdDtvJan+wRs2+MbXIgGFJjF+XRT747w+WXhnoM+XBpezLWNr4rvghWa3BhMNeM7aV/lMyum0qKnnX7GZhaNl/MslD8ZMco4KWtXZObJZ38yBDIE8hA4Zwkyrx4uLELraSOorhAeCMj83NrfR34hXDsin/YxeveOcnZUZvx7og5JHokG1LtInDx3SBGsGCTmLkhQN3wWQizx52/qss3zDK+UVlAxU0rc5dI/lQbbGeaaRcsQyBBIIXBeEWTUK4R83Hf3OT+//Pvuzv9M0s8v48nuzySPk8XJz/Nk4XvrebtyJitCnKQoXcGUSsO1xeOzSspDHim2Pj5Y5pMhkCFwlgicNwTZIQ49JT+6Qh52WIHzwPNk7yDDrpOXLOBOho3mR540TCepZ94ZAhkCJ0fg/CbIk9c/C5EhcFoIaMyq+gajF/JEUU/GbieKmzxjGfnEkdbZp5dLLDtlCGQInCICGUGeIlBZsAyBBIGeJKpQvzvIMx5lr6VbEaD/mQGAuOi3jzOm7jgIwzXP8sdC4IdLTON+2eGfSLfDh/I82XPipcNwHUeU82Rl6CzvC9X//CbIDuTKhfqie63e59k7oDqnoj92Dd4nyOk8w7Vr8OraVCA9NlB4++23fRu+IEHOrBnNKlU1NTW+pm/rIC4VIZ+E8u9PVEoILdyJ4kVZ8sMEQXJmDet165IN5qdNm+ZrNpM2ceKIvNLnUy1DOs75en1+E+T5+tayemUIZAh0OwKQyMGDB+3v/u7v7Pnnn/eFQCJT5lmzMMjEiRN996FbbrnFKiu1I43mp+LyiQtCC//8Z/jzPOJ6wA7+EC+IsbOwkTZnCPJb3/qWb3P3j//4jzZlijYmkD+OcxBh+EWWcc/zCBPP4hxh4v58PWcEeb6+2axeGQIZAmeNAATx7rvvOhl+5jOfsWHDhjlpHDt2zDZv3uwbkf/pn/6pHTp0yD7+8Y+7ZkmcIJAgGe7TfnEdBYTwgox41hlh5hNkfjoRl3RJj83U2SA8P/3It6NzuhyRTvoccfLzDv/z6ZwR5Pn0NrO6ZAhkCHQ5ApALG5Kzh+j48eNbtS/Mr3fccYf90R/9kf3Lv/yLzdYetZdddlkrEaLBHTlyxDfhJg22V0PrDGIJIiIchAvJ8hxNlHM4wpEXm3kTDvMu29slq4W1kTGLWRCOPMkjSJH47Acb+UKypEN6xIlyxXrNEZ74kW+UCb8LyWUEeSG97ayuGQIZAqeNAITBwaIR9DVCErGyEpuQozn+z//5P+2pp56y+fPnO3GxkfkzzzxjDz30kGuaxJ03b5594AMfsKlTpzpZQVR79+51LfSJJ56wPXv2OPktWrTI7rzzThs9erRrkps2bbL777/ffvnLXzqJDhw40G688Ua7+eabndwgPsr36quv2o9+9CPbuHGj9zeydy4kGMRIxSFjNlEnvVWrVjlxsiXe7bffbgsXLvT67dixw+655x7Pn7xffPFFu/jii+23fuu3bOjQoa1m3tMG8hyMkBHkOfjSsiJnCGQI9DwCkFA4SBKCYw1jiKWqqspWrFjRquH98Ic/NPr9IBSeQ1T4vfTSS74/K9omJPrv//7v9l//9V/GIBrI9Z133rF/+qd/8sE1f/Inf+KDg/7yL//S40F4s2bN8j5F9nglv9///d/3vCHPP/7jP7Z9+/bZkiVLXPP79re/bRAcRAtBQ47PPfeckzna6pVXXun+xIXMMRXTl8ozysoevDi0WczJNApwpHWhuIwgL5Q3ndUzQyBDoMsQSJswBw8e7Huuonlh3ty2bZt9/etft9raWiejyZMnO7k8/vjjbo5FO2Pjd7aZg8Suv/56JyfMuLt27bKvfvWrTlgrV650rZB4X/ziF+2Tn/yka4zk88///M8e95JLLvH43/ve9zzul7/8ZbvuuuucvB999FH70pe+5Nol5I6G+s1vftNJ9O///u/t8ssvd20YTfILX/iCP0MjJixkSvi//du/dSKlvtQTx7Mwx3YZoH00oQvLoNxHX0JWrAyBDIG+j0DaVElp454zWhUaJX19mDAhSfoj6SvcuXOn7d69WxupTzbMmU8++aRt3brVli1b5oSKOXXEiBGuqTFt5Hd+53dcy8SUiukVosU0ywAh8hkzZozdfffdbkZ97LHHbP369U6oc+bMsauuusrJmnwhXrTXKCta4CuvvOKmXvpSIUDKRR8kRAtho8FSHw602htuuMHGjRvnWmiQYlqT9sTP4z+ZBnkev9ysahkCGQJnjwDEhwsTYxBE+DPghaN///7ehwcRMXoUMyUEB9lALpAnJk/MspgxCcfgl7Fjx7aSEvlApBMmTLANGzY40TI9o7q6mkfuMO+OGjXKBw6hTUK25Af5UgbKRxgG85DOmjVrWjVCTLD0KULChIs6QOKUj3TY9J34kDVzPaMBEPmn53yG3/l6zgjyfH2zWb0yBDIEzhoBSCT63CA5yCIG6MQ1WheDbWql6UEoEA0kiLkSLYxwEBEH/oShb5IRokG2EBLpRpqYMTniOWWIaypF2HhOHK6jnOQTYUmXckNq+BGW/k8GDKVHypImhBoDiAjL80iTeBeiywjyQnzrWZ0zBDIEThkBSAYHaXAEaXCNRvbAAw848SzR4BgIcPjw4X6+4oor3BSKH2EhxLfeesuJkkE9aGgMhNm+fbsTU5Dgm2++ad/5zne8j5AwmGsh4FiIAHLENIq2x+hSND7y3CCNk/Qwr0KSkCbaJXlDcJhsKyoqrFZE/vnPf961TepFOFbcQYvEjEs/KOGDFONM2AvNZX2QF9obz+qbIZAhcMoIQC4QEoQDcTDpHkLbsmWLvfzyy/a1r33NHn74YZ92ASGidTEalQE39913n/cPEp+D0aKMOv3GN77hZEm/H+k+8sgjTnhonhAf5PiDH/zANT/6FFevXu0kzKo+pEPf4YMPPuhm3cWLFzvhMTWE9OnfZKAQRLl06VL3Iw9IntGsM2fOdLPv66+/7mlRP/owGTT0la98xesW5HghE2N8IJkGGUhk5wyBDIEMgRQCEAsOoli7dq394R/+YatZkmkbBw4c8L5ESAzii1V2IKFf//Vf95Gsf/AHf+CjQJnS8ZTmSUJyt912m48IZdrGhz70IZ+TCPli3mTdV/oIGbjDABv6Fbn/t3/7N9c+uYfc8Lvrrrt8IA6DbD7xiU/YG2+8YX/zN3/jzyDqF154wTVP+iUhVgiS1YBYOo9yMaWDZ0z9YMoI8xzps6QBAHFG/VOQXHCXRZpj85e9XeswAdB6ojWD2SBGTFG2rCXT8RviA+Zj5sfFCLYw/XQcOvPlO8MkxrD2iy66yPtcsm8r+y5OhACaGEvNYbak7xC5xBnTJxrgxz72MfvsZz/ra7KSDr9B+vvoe2T0J79PTKaYOlm39fd+7/dc28TsirmT3y0kxTcJ8aHpQY6kSR5oovQX4o95lrQgPxYn+LVf+zU3r/JdE3b69OlO2BAl+V5zzTWGhskIWc6YdSkTZYPcyQ/iZwDQb/zGb/iaspQLkyuymDmXc+fO9TpfqL+TAoHbNvv1RF9KNz6jdcML4CNh1BetLzqMo2gX6ss5GeR8yAzbptXJD5UfTuY6R4AGBf00P/nJT1y40PLOvq3O8brQnyB/MHui/eFCHkGCEBYHhBl9h9zj+F0Slm8LTROTJw7ygWgJzzPkHtfkwahWyJj06GtE/vG9EgY/+i/RPkkbguZ5rOpDXoQlTUbTEo6y0OeIf8TBj3scdSIcjrTIM+pBGNIhPcgbF3XzmwvoT2ZivYBedlbVDIEMgVNHAILAQWpBjviFP8/CHwLBH3KBuIKIiAvJRLwgmrgnPg3bmMYR6UGMpANp4YIQI+84k08QG2kTjoN08CeduCedSC80YuKTVoTlmnQoczyLuhD/QnPZIJ1z+I3HjyTO53BVsqJnCPQ5BCAZtDccpMF9kAbX/O444+JZhHNP/SE8fkE8QTaEjzQIG7/hSJN8IwxxIixpcR/pQGxccyYMzyO9CIMGGWXgWaQbaQZpRhkIG2lBsBey6xMaJC+ksxcRLzF95oXFy7wQXh51z3fp+qev+VFE+PCPHw3P4jo/vQv1Pv1d8Q2GsEjjETim/bLr8x8B3jtHfCNBWtQ8fkecO/o+Im6EizTi+4r7dNy4jjjkE35ch0OzxJEGLsJH2M7KRFjiRHjOcc0zyhYyItLCP33N/YXk+oQGyQuIlw34XPOi4sXENf7hdyG9pMCkszqnsQMrHDhFo4PnESZ93Vl6F4o/WIBRYBbCC+zwi+/uQsEjq2fHCKRlTvqa0Pn34Zfv39F9vl/HuXfumx+f+zg6i5WOkybHCB9+kU46fIS5kM59giDzAeel8KIQYPGCQmCFMMuPk923tQ4DuzAPBXZgmcb0QscsvrN8HBgs0dmz/LDZfYZAhsD5i0CfMLGeCF5Gd7HCA6Os6FhmVQnmGzFCK8jzRPHP92ehEXLGoRExlYFRauDEcG5wutD2cTuV9x7YgRmkyGhCBidwzRHD+k8lrSxMhkCGwPmHQJ8lyNAUWTWCYfkMyWf+DlvAMDEXwsSlTQLn3+tpq9GJGgPxDMwYDs7KG6zyzzwo5khCjmxtQ7jAK41dWy4X5hWNMFYh4dtasmSJ48ecsauvvtoBATfMr5n2fWF+H1mtL1wE+qSJNciR18Ik1xkzZviGodwziZatWhBqbCvDhNbQBHh+PjoEdBz59cOfUWo4rhnSzYRkMGH7GhZMZukrSJOGBqtrxLws4pzv2FHHzhx1xzFhm8YXuyuAD5OjmSSN9s08UyZngxnhA+vO0sz8MwQyBM4fBPokQQJvaDr0o0GS3GNWRZNk3hDE+NBDD/mKEWlCPX9ezanVBFKMvsbADVM0GjYTk1nEGKHOSh4QAZuoQpYIe0yLxL/QXcxDAzccq42wOezGjRvdvP/Tn/7UMUM7T2N9oeOW1T9D4HxHoM+aWKOlzkoU9Dvi6ItEe0TQYwJDW4I4QxM4319WR/WjcRD1b27Rqhn1jb6QMiZBGhHsAgABsO4jWIFlYNtReheSH7hF4wpTNA0GLBP0RYIV615Clnx3hIMcOfMscxkCGQLnPwJ965eem+5X0FLgfWmvv7bclr601IYOGWozps/w1enXrlnrzyAAjqamC1tgyfiaaIHCbueOnXb/j++3Des32BXqczywb78vXGx6RmPi0MFDNnLESDfBFhYU5uY9tY0UPv8/9/Y1hOjYnYFdD9auXacd4Be03tfV1XtDbMWKlb4VEI0KCDXTuNtjmN1lCJzPCHStBpkjOCvggvl44RFnvJSlCDDfFTZr0mqLhHaz1ils0jw0UffWTdusf7/+Nnv6bOtX2k99astt+JDhVlFSYfsbDlljU6E1NGq9QiUPUaSd9Cr9kwnRaAMk7QD+JqGSuYLJXft46TR69hqM2lat0EJRQrCtbDwt1J/C5pxf64lXmEwcLikss1Ejxtgk9UEOrqq2proWmQqrbVDlIDt44KBt2bDN5s6caxVl/ZRVkkBBXnrxyhoK6736TsC5KzVJdKV4FAaXK0Ny07t/m6zBC6SvR5+e3rR/Yw6Yysm3gJO1QXXQ+ig6kikv7+3aY6vXqEGhrYqGDq2293btFQmWqkFRoQZEqc2eM8+2vbtT6wSv80Wjk+qTWqrygQdZyDv1BJ/MZQhkCJyjCHQtQbaTDNyER5sEaZGwKihICAohJTHlwqq5sEEyu9GaCnUU1Vt5WYXd+L4bZNZCoDXb9DlTbdqsKU67zQrT3FSvofiawiDB2KLrwuIy5ReCS6tF6Il0Sy8DYjFxnIO4uUbgJ2sdJs978y9YRVlApkmlT4idUlHqAmHXXJhg6poMfCosCoUbQYfWVFvV0AXePgGzBVdeRlQ7fOSQPfz4Q/be7l0i0FFWO2mizdMuAmjqRcK3OaeFO3pKnrOWYfa4/IlSJO+r1btPXTTl3rG/8UIBo8aWO2EGTEmdaHI05A7hKyxnzphikyfVuhma+49/7EPuj8a4c+cuK6/QoKfaURqwc1AapBYVUGusqMhzUaqRR5JV21/eUfKe2vyyqwyBDIFzDYE2KdglJUcMhcsJj7jNnZshtNw1IoRrzk0izeYibSzqBCmhVpz0+XjbX4JcMtyKS5Rms0S/+toO7N9t40bW6B6Bp4ct0iBkNgwH9RahrYZzUk7IMdEnyBmBGaQUAXvvDAHhIC6xoe4Q7ZRZay3mkGouSMqblB4abLTGAjRlXdPAECEUFwkRmQPRSD0V+Y2dNN6Gjx7uZsIhQ6tEtCII5dH0/7d39s91FtcdP7pXupJs2ZZtMLYw5qW4EOqQxMDgUEgmbRrITKbTNn3JTDvT/tQ/qr+nP7RlAmGm03RCEhpCCrRAaOpAbF5jhxcbv8mSJd23fj9nn7330bVlyfaV9FDOWvd5nt1nn92z312fs2f37K6w1IO+Jj4/nFDplLFLoQpOTndiZm8Rusm3VPcgRpnpR6TaRhPH0WlKbaXmeEmkqs00xurqhFESIaCI4+Nst6VOheYiX/uvl2xS6yKnd07raKPDhlykk5JKzp3cssvY4Qe7aqGTqYx7IBAIrB2BEhdc+0crx4RJ8CsEVZln5I/E4GHH2WU2AlOzro6R0RBrHSGg4dMRMXrn84o8ChNPnE7Mb9T2zxywP//2X0pRkBUn4kPfeho5YYQM8cnAM3HuJg+BCBbuadBQD5vuQASKHDmnl4tw4IX709uayolLc2Fi0MKLMeYu5QUzgYQoqMHI9YegnNqyzY488LB/56kIM51z5mm0mi2dGjC6HDtiEjE78nca0j0JU17mQJ431w3WZB6ezqSntqH2Jc1yREOwI2iY/NSpkg9A9QM7xey03Qjsq3/wdbVFta/GmHda6LiM0HGgfdIwvfgCqsC6CNDNX2wuIJF7IBAI3DAC6yAgoanPIDBsaLW0CfQozEjsB+YES9IzvL+rObCaJtfa7VEb64gRISDFhJiTROSh5SSX7wgDhajn35QW1KjLstBFAiwwx0E2IAAKJkaw0mlL++yKISJcnL+RjkuklMPmXoWBGLPVEPYgpDJonrCu8rmigoYtont4QLsjqe6BOgzMJSIk6voewyXKOEJZlZAbl0godlR+GD7q+IgMnKiAsZq+RbgOOte4c7ju5Fd4UweHgCSsBz/daD/lq7cK4gBOjx3RT1GTS3i2hGdbHYyu5hi7YFbTsUT6lni0B4Qj+I4wrK+ArVu2++c+LaD33mcQoMRNYHgrUz3JJxzJGu2T/Gl71AGWsRgDpQ4N34ULBAKBTwsCQxaQFBvuAbdJ3CkxDITakrUwn6+POdNYXFpETDpDgnHDUOYWzlqzPaeDPM9pm68JW0CgKSmYfI/XKXV4EEvjnU/xXs+XCTpe8g6tQHx8YrShdCRyR8bEsGTUkr/j20o4Cb+aBkydoTZ8cLSrjkNT/k67ZUvtBQk2zTd6aQs0BM6lpbM2r7nYuYXzNt/UzCHa4Srlaek7BEB2CFJVRPZKYKo+NNQ92ZhUNY4pTQkUF9qKw2cuefrxex9u5oPaCq4jDJtLc7awdEkKYi4jdOvEGJXz3NI5m+vO2amLp6zT0PviuxVJz0n0ItApoOx6oaFab43eQEdkPLZFc+EISmmdwiiWhPRAi4dA4FOJgHhhiVPecBFgGHAUtJPEQDGRaLU17ziyaBcvnLWfvfofduztN7XkYFZa5aiUGfX0xZyhYvb8BTt95rTdecedEqRpfWOfuj6n4qnlTHqQ4H6c9EZal7TXifEJ27lt2h78wpft8/c+oDknnZLdaYjxi1K6/RVwHQxAJPbRYlzTlW9uYc5+8cYr9trrL9r5Oa3TU5ykp0CwhJyGVk9rneO81orun5kRcxZrdpPelYWkI6TOiGtDRbk9dglPNMTtmnu7//e+aIfv/30td9hljZEJ5a3+VBniVMWbjh5NuKuh4lZ3wd46ecx+8vMf2ofnTqiRyBKXUQRvi2pPEvSzmlv8+NTHWt94uwYh0ujD1QpwWRHRQMEA4chPQ9odpT8xvt0O3vU5e+hLR2xmx62yK9Y/Dc3iQlA6DHEJBD51CKyrgISRdA0m1bIPT71n//Lkd+39pWM2c+9e262F/gw7+bCfBKWPTcnvaxtlQejvnBN5ItcFrGs96t0vzS/Yh7/5xM6cvGCPPvB1+8ZX/0zMcUo9/WygcV3JD/2jljREjYFKa2za7PwZe+bZf7JX3nzRDhzcZTft22b1hoZPNTTYFU5Ag7FSF+0bDdvn06QIatmLdOSVaRPHX5JmlVd3eEJKrzd0KwGNBjl74qK9d+yk3T5zj/3Ft/7WbpraZ+O1SZc3PSF5lWxWJmD4b7rC4ULzE3vxlZ/a93/8tO3au8X2HbzZ6mPqBqi8sv1yRBgGrftQs8Il1OiYUda1Oo+JsPU/CWWsh+WaLWnyFzt2/NgJGx+dsr/5o7+3ew8ckrGUOoAaAaBNxxDrWlGOeIFAdRBYhyHWVDiYCYy7Leax1Jqzp//1STvfOm0PPX7I6jvSHBm8CR5bmEY432VI1I10xIXEgsS/EwMrM5g0cqbw9MozdC0oZe1XXrHmbVQq4mh7i9165277+N2z9sKLz9otWurwpXsekwbL0pDBeTRxv01yXRnZwHxbsq58/uVn7eg7/22PPX6fTd6kedyRS7LsFTMu5rocF+ZzYdZo25pXpMzjgO4a00qF0LCtPkJAluBbFpm535v37LcDd+2z53/0mv3khR/Yn/7hX2v4ckJogU/+kufNd3QU3nj3qH3vuafsviN32U0HtltjiyyiR5ZcANa8Dcm6F3iFzRKdCFmu6qZh7auXoTdKm4upolN6hCuVhcY/Iq2y3Rq1mYOft5f/83V75gf/bPu+s18ng2zTHPlY7oMovn+ZU4p7IBAIVByB4QpILCo1pNX24SdpJWIc9W7Dzl2Ys6Mf/sq++MTdZtMw+zTAlzrjYjFuFSiknFcxKJveO3ZX4l8KK6ImeK8Ux1mXjjFC2xJnZO3a1oPjtuPMpD3/6nN26J4jMlCZkBYm03/F6QtYRDa/jXfYzTTFzOfnZ+2VX/3cDhzabuP7mtZqtG1B84u1robtJAycz0Ke46jCM6xKoMohsaA7/pWdxKlvOrByDKUzftHGbm7YvYf326s66eIrDz5uM7u3edYjeXjR6GBsgMvFWVbPRZmVfbN9yV7/n5/Znv2TtufuKWs2tF1cXcuEhAtWqyjXLCNiOYw3HLV6cCr6XtdUgJo3WhDUBhVFO25I2DaXFtTWW/a5wzP20vfetF+f+KUdvu9h5a0uBc3ZMyP/YvphWVmuiYSIHAgEAhuEwLpLArTAVnPJdrKjy87tzlgISww9PaFDJi4CJyl+Lgj0vMKdYTWYlP94Hvx5Op6L4vBPmqkE5d6ZW+yTM5/Y/KWFTRKDK9cscg2N5sz5MzY7d9Fmbt3nfuYkJfvkdBGjTXqL6y7O75Nfr2HCQHvDDrSEqTg7m3ZTf8wNe13ccNrDTqCrDSOa2u3mpO2b2SvNTtrhuBDR+tjUunKbkg/4lH3+FeAloQm+a/kV5DvMRfyW5tHHqCANkW+dmrSdu3c5PXWEszT7IVVKkXPcAoFAYKMQGK4G6VTDNQqWoEfmGHFTU+NiTCxOL3rvBPJKfpZe4PrzQXqRkvHwoVyUZLvTsm0yPml1PvK5IQ30VkpIurGS8OqwfV5TBjljGp7rLEjpEBhskO0mwUNBY/VE1OFA8DbGx6yhOeJFCUkf1h12vaxOyaoxuloes7i4IGOiuuaWNR+oOVzXoqXRMc7PMo3khk+8D/2rXjoShr6ZebPjRmGtVlNhGuRXg0/TA5mGVYsTEQKBQKAiCAxfQMIHkrrjAlAjTBKLMroRk2cIsc2kjvMKj1jAQC8bQZm8Q2Njnk9KM2kTmntTGMviE42lCCnapl0RPvBxlrvQqcCKFy2OOT+0Y5hsDTBlyYqieEU3NOCUuuqpKcvQuvJrSxvDgKg/3EBGw8zsiqW5pkCGfdWtcLrBSAtpNSgBxalt9drkNaW6emTqbdTXlKpS9KcaStBQn7nuCK0WXKsXLGIEAoEAdvvr7NSDdqYh7lGXFtR0Zp/zhNNfzjmSfF1JCuRvV7lnaduLRk9eDFN/zElxmoULmsuz732xkQ9Zy+gJP2kleS9WmLALeCRoL8JK1F2OW0p7pfgp3LXDUpSOtLJkLCVGL4zKxiyQkPtApU82/rFECJ0JHNqkpr21AoNOBa0rVTDDxSOyAL5Se/MP13whveUYYyREXdH5ypsCsLSDOvN25nSsOYOIGAgEAhVBYP0FJAXVsBfDqyNsIu0OJpMYVxGw/OZC4Crvl8e+Nl/mbeuU/LURMxAbju5MVpquvyoEI8/CxLVM3qxK+6oRBjIe9KY82OGILRl8JxkIW+ZuNI9liV23ZxlVhccHzr0N9ZPFevWyPlP/9Q09eQdG+TF9AExeT0UPYi2dkxvKPD4OBAKBdUNgnQQknKJg5M60YPdoInjUpy8Y2YqlGpp6Qr6fUgdGGacEW8+7ISXC9FKaURqiTPXXz7cawrFPD09a8uJ4aVAaYSh/FyOZArs19CqWJxe+QCAQ+MwjsE4Csoxr5vIFw3WDnBxWjjfsZ5h63/VyrCJv75Opp0xgvvdfXh7Sfzf8J+bQeqgNP/mhpwg6zDnKuapYPC/rbA0BwZxEvqcc4xoIBAL/DxFYFwGpfrv0xySgWKLQhknpz636FM4ON7DePOQFr+ksY2SrM+ZVtVBlKJtZz4OBSnaowaixr2lIAJCN5wsF/HD5nnwbd4XKhBmiyTfNdpB00XxWXYchs6XZ2ugbLMOgn4QHXTmO1vVxHJbqjo3QOTGkv8WdvitHHUxmQ/0lQvxR84wqGq2rq/luP+yLDfCFK21Ss5M3Th35FMmw5yoqahpGLWY7UVnVpmhWGA35/wPVG4bIDpx/y8UDCAwXCAQCFUVgXQTkiKwI68UQnViWLWqHGF+wL0vDrqQUfXt4fRIHYiaYwhcAscMLxg6rOZ/vIVI5LokUflhiWxttcxCzr4pnuLDFSRfKXUNvNS358DzZyZynZQKahDfa0ZFgjpYqachqVDfoLELoVDi9A3QOMv1UmjIoSuAy5yktCy0n25GWPzI+ak1ZgY6KFgRkNrVCALEJOEL88lSWJTk8zxUzUqCI9q4WVlcijGg1tbuutnfrjsoKV+te2zrBo8ExYE6N2kLP5UQzVvjzM5HK/n5c78jJm0KUvz6hlsidk1JaIkX9Gf1o3QhqndHZZIs72l0yV2PrxWTvmtMlv3CBQCBQNQSGKiARev5f3rktT96XF8/X+jTtAjPa0ikVY1pPJyaWhSO8DS6T/P5J//kqaPVYS++hiFz4XYeFESGo5WpilC0JyTq7++gfvf6OLB3roq0aDgarI7y0NR/sFlbN+lDvLEj9aKrTwd6eYre86ZHs04Q9H0tq8mviiIELD+fN8nq18Lr4HH/5mU/5xgOV0BgMXRHSPq2lBFItp+ibfhW9PmyvtsWRVxLmLIdhpxxGL3wDePWmagCFNOu58jOBV/OX3hXtKVv9+tIl7dhDB4LTZ9gTtyN/XSfGiBpfstNgj7vsCKwUfpmwuAcCgcAgAqX/uYOvrs+fWAlcwDlB2v9S6+nOnZ615hznQei4K5L2iLrwxzM/5+D6zjl3KSz7uRfP8DsXDvlb0kEWFn4XMTAzyNCtpjMmxyWkz53SKSLSLNkjk31aq+ISBhxXVbPJLZM6LqlusxfmtR5SR04hqFSOprReL0+BA0VFxcTK1BfDY3WqZ6xPEYrciQomru/Rg0ETVWBvWLD0nBLnOx3XtKi+kzTu5qW2tr5btB3bd3jaqRMEbtXBjgX601t32dyFJXWAJoQX52NqUJht3fRj7W0bS+oCt9yGem2OcMAcfJ/9euUOvzsH1L/pSDvlTFOwG9Fwbldt7MLZeds+tdMxZpmHN8sUpfh+macIi1sgEAhUDYGhapBeOOchMM+CCYhBbNs6bc0LHfvorfO27wtbpbWJZaAaieFIsROr1UV/rO+GAcPne86laeErPV+JPevTnoOX+b6ZYk8cvtzoag7vUs1OHD9ph373YZuY1MkU+lfOqvfxJjw4LUCigk3vmLbbb7vT3jv+W9t5613CRNqjhFZbws9HYTPVEA9u0Mu3epYcuMwNBpVxypFzWNIoazq8etzG2lN29M23bP/eW+2Wm/fkqH6H3qq48ca4HdRG4S+8qo3ob99tjV0TOkNGw6k+OoBgZDZSowXsTi4H5WDi9xREsHek0kNxLb/LL7zYShO89Y+9XjuMSrQbEsgNO/nBx9Ze6tidd9ytymBoGpdzy4lcqfXmd3EPBAKBqiAwXAGZuIHKVjAA/JJ401M77GtHvmE//Okz2gR7r+27Y5eObtJZeXo/Kk7TEfMf7kCnNCAxpUXpqmOSOGzyvXiuacdfO24jzYY9+uCjCqe3L4GDqgWZSTJ4r98DNunC3NWkGP5jX/6affepf7DXX3zP7r7vgDW2jqV53aSPrEgdTDtjyXwZnY3E52HSOIXpmo67kqbpweooqC4wonI1nJfz4/b+e6fs/eOn7Tvf+js/xsm5fRGFZwRyFVxNguihQ4/Y/x593X758q+1wfrv2JbdO2SUlToV7RFtSC8URn282ptdQTaFKPzgUC5P4Scov+JOO+Gfhwo0lpS45qjJx48/OGdv/OJt+8rhJ+y2vbepvoS03jM36a6cfgqJayAQCFQYgaGeBwnbKDvOKmQWqNld0obX8/bcCz+yH7/0tNmWjk3v3OknbDAWCFOHifvOYEUiWYtMjDxpleXnQgSXsys9K1cNn2KPo4koU/Z29qNztmf7Hvv2N//K7tAZhwz1jnAaxQDTSkOPpaQ26lHlRj5xKHJThh1L7Xk7euwV+/6/P2lznVltgD1l45MS6ujbmWZAy0DoGX5cSMMe1R5VHRBGmxGCXl6vl14Uf2AfXJh/W+PUsnGx+U8WrbZUt28+/id2/z2HJbS3a9i34XNsOfseHcuT2hTffOuS/fbUO/bUv/2j/ebU2za9e6fVJnRaixoSc97MzuaOgxMorGl3LsMUQJmKpuevs3+kwIrpy4SfOlUOsjpeAgANEkOgC2fmdHB10x556BF74sgf244tu5QewlFdNfIaACtj6JnFJRAIBCqJwFAFZDqmiv/6/f/+bNqMRavPk4mRfHDmHfvg9AnrLOm0BTFufu7K3OmGocr5wxJTwtt1Nt9+nXG4bcu0Rt7GdDxR18a0GXiZVrIdZGSEbYSDypY4KZspYOnblibZ0v3C7HmdDPGuLIFnXYAJsJXJERPmX7bZzBHppGR4U+1cnkZ6T4dGT5InY6Nbbf/M7Taluceaehp1GQg16uNMcXrtcu8J55zRJt4XljiYuymcztuJD96x8+cvyt9QaSTORKxMtIQfY/SppIlUoTUguJYXIbejcqiwpJ4EYXqr9JXsqLC5aectNnPLrdrcfUIdEglQdf5AHitXtjlETGe3TFjnwLgHAoFApRAYsoDMk4R1Z0PM8LGnJ6xBs1q+DpHjiGBYsKky+ymzrbUgVP72SvFzesTzvGCEemBEtc0+nTA4GXAgUMru6gyzHHO4z4l1w3y1QTiIwVDF8znYF4tM1/CcxV6dtS4vzfXRCF6Jmde9/oAIBo9RUxKQEhBEyp2b68tmaF+hobXU4TEOSJb2jXFSlw1ZhSMOUq/XDeKZ0krX1HYQgTwRUy0eK+QxGQklr06OabrhFbSw5Cm7q9dijhX3QCAQ2EwEhiogk9ijOHkQimeFShtyvcb5ipiE/rA4RUjxjQulPu/go+XuRjgc35J2vuvRN5cWc2fODSvDKjhoYfFLb74KTVE092GhAARsHL1M2WFExekio1pqknN2miCnT9ymQ4gWh1Dy/X6RmBzeXSYQWgfpHfRfTynAIbvimaFYtEysgb19F+8RpNn1n3JI3AOBQKBqCAxVQF6tcG7cIKZxJQ3tSmHltPj2etxq6V5PmvFNIBAIBAKBwGcDgawUfDZKG6UMBAKBQCAQCATWiEAIyDUCFdECgUAgEAgEPlsIhID8bNV3lDYQCAQCgUBgjQhs2BzkGumJaIFAIBAIBAKBQCUQCA2yEtUQRAQCgUAgEAhUDYEQkFWrkaAnEAgEAoFAoBIIhICsRDUEEYFAIBAIBAJVQyAEZNVqJOgJBAKBQCAQqAQCISArUQ1BRCAQCAQCgUDVEAgBWbUaCXoCgUAgEAgEKoFACMhKVEMQEQgEAoFAIFA1BEJAVq1Ggp5AIBAIBAKBSiAQArIS1RBEBAKBQCAQCFQNgRCQVauRoCcQCAQCgUCgEgiEgKxENQQRgUAgEAgEAlVDIARk1Wok6AkEAoFAIBCoBAIhICtRDUFEIBAIBAKBQNUQCAFZtRoJegKBQCAQCAQqgUAIyEpUQxARCAQCgUAgUDUEQkBWrUaCnkAgEAgEAoFKIBACshLVEEQEAoFAIBAIVA2BEJBVq5GgJxAIBAKBQKASCISArEQ1BBGBQCAQCAQCVUMgBGTVaiToCQQCgUAgEKgEAiEgK1ENQUQgEAgEAoFA1RAIAVm1Ggl6AoFAIBAIBCqBQAjISlRDEBEIBAKBQCBQNQRCQFatRoKeQCAQCAQCgUog8H+J2eLsvurk7gAAAABJRU5ErkJggg==)"
      ],
      "metadata": {
        "id": "Dj2wCbq2ecEJ"
      }
    },
    {
      "cell_type": "code",
      "execution_count": 33,
      "metadata": {
        "id": "9aXWhQw2vmC4"
      },
      "outputs": [],
      "source": [
        "encoder_inputs = Input(shape=(None, ))\n",
        "encoder_embedding_layer = Embedding(\n",
        "    input_dim=num_encoder_tokens, output_dim=embedding_dim,\n",
        "    input_length = maxleneng\n",
        ")\n",
        "encoder_embeddings = encoder_embedding_layer(encoder_inputs)\n",
        "\n",
        "encoder = LSTM(LSTM_NODES, return_state = True)\n",
        "\n",
        "encoder_outputs, h, c = encoder(encoder_embeddings)\n",
        "encoder_states = [h, c]"
      ]
    },
    {
      "cell_type": "markdown",
      "metadata": {
        "id": "3DqkGPDI2_P6"
      },
      "source": [
        "Примерно то же самое происходит с decoder\n",
        "\n",
        "decoder_output генерирует выходную последовательность и далее в Dense layer преобразуется в вероятности с помощью функции softmax"
      ]
    },
    {
      "cell_type": "code",
      "execution_count": 34,
      "metadata": {
        "id": "9H1ES8R-3RT7"
      },
      "outputs": [],
      "source": [
        "decoder_inputs = Input(shape=(None,))\n",
        "\n",
        "decoder_embedding_layer = Embedding(\n",
        "    input_dim=num_decoder_tokens,output_dim=embedding_dim,\n",
        "    mask_zero=True\n",
        ")\n",
        "decoder_embeddings = decoder_embedding_layer(decoder_inputs)\n",
        "\n",
        "decoder_lstm = LSTM(LSTM_NODES, return_sequences=True, return_state=True)\n",
        "decoder_outputs, _, _ = decoder_lstm(decoder_embeddings, initial_state=encoder_states)"
      ]
    },
    {
      "cell_type": "code",
      "execution_count": 35,
      "metadata": {
        "id": "YLuMNaCt39n5"
      },
      "outputs": [],
      "source": [
        "decoder_dense = Dense(num_decoder_tokens+1, activation='softmax')\n",
        "decoder_outputs = decoder_dense(decoder_outputs)"
      ]
    },
    {
      "cell_type": "markdown",
      "source": [
        "Для вывода модели создадим массив, используя one-hot encoding, где 1 будет в позиции соответствующей индексу слова"
      ],
      "metadata": {
        "id": "wdn_0lcrTC3R"
      }
    },
    {
      "cell_type": "code",
      "execution_count": 36,
      "metadata": {
        "colab": {
          "base_uri": "https://localhost:8080/"
        },
        "id": "k4g20AcF4pV1",
        "outputId": "e71a448f-353e-48d2-b654-2a4fbf4529eb"
      },
      "outputs": [
        {
          "output_type": "stream",
          "name": "stdout",
          "text": [
            "(15000, 11, 6231)\n",
            "(15000, 11, 6231)\n"
          ]
        }
      ],
      "source": [
        "decoder_target = np.zeros((len(english), maxlen, len(rustokenizer.word_index)+1), dtype='float32')\n",
        "print(decoder_target.shape)\n",
        "\n",
        "for i, d in enumerate(decoder_pad_output):\n",
        "    for t, word in enumerate(d):\n",
        "        decoder_target[i, t, word] = 1\n",
        "print(decoder_target.shape)"
      ]
    },
    {
      "cell_type": "markdown",
      "metadata": {
        "id": "j53IhxO735IW"
      },
      "source": [
        "Метод compile() настраивает модель для обучения, рассмотрим параметры:\n",
        "\n",
        "optimizer = 'rmsprop' - оптимизатор, который используется для минимизации функции потерь\n",
        "\n",
        "loss = 'categorical_crossentropy' - функция потерь\n",
        "\n",
        "metrics = ['accuracy'] - метрика, вычисляемая при обучении"
      ]
    },
    {
      "cell_type": "code",
      "execution_count": 37,
      "metadata": {
        "id": "rU_J6fYA4Km7"
      },
      "outputs": [],
      "source": [
        "model1 = Model([encoder_inputs, decoder_inputs], decoder_outputs)\n",
        "model1.compile(optimizer='rmsprop',loss='categorical_crossentropy', metrics=['accuracy'])"
      ]
    },
    {
      "cell_type": "markdown",
      "metadata": {
        "id": "kIC9y9oUqOi6"
      },
      "source": [
        "Обучим модель на 15.000, где 12.000 для обучающей выборки и 3.000 на тестовую"
      ]
    },
    {
      "cell_type": "code",
      "execution_count": 38,
      "metadata": {
        "colab": {
          "base_uri": "https://localhost:8080/"
        },
        "id": "PnefOZVB4PTE",
        "outputId": "43f2ab2d-2593-46b1-8ec7-026ddf251cdc"
      },
      "outputs": [
        {
          "output_type": "stream",
          "name": "stdout",
          "text": [
            "Epoch 1/26\n",
            "94/94 [==============================] - 25s 171ms/step - loss: 5.7352 - accuracy: 0.3343 - val_loss: 5.1973 - val_accuracy: 0.3081\n",
            "Epoch 2/26\n",
            "94/94 [==============================] - 10s 103ms/step - loss: 4.8128 - accuracy: 0.3630 - val_loss: 5.1785 - val_accuracy: 0.3081\n",
            "Epoch 3/26\n",
            "94/94 [==============================] - 10s 106ms/step - loss: 4.7333 - accuracy: 0.3647 - val_loss: 5.1275 - val_accuracy: 0.3116\n",
            "Epoch 4/26\n",
            "94/94 [==============================] - 8s 83ms/step - loss: 4.6556 - accuracy: 0.3686 - val_loss: 5.0526 - val_accuracy: 0.3171\n",
            "Epoch 5/26\n",
            "94/94 [==============================] - 10s 102ms/step - loss: 4.4916 - accuracy: 0.3833 - val_loss: 4.8694 - val_accuracy: 0.3267\n",
            "Epoch 6/26\n",
            "94/94 [==============================] - 8s 90ms/step - loss: 4.3464 - accuracy: 0.3951 - val_loss: 4.7995 - val_accuracy: 0.3369\n",
            "Epoch 7/26\n",
            "94/94 [==============================] - 8s 88ms/step - loss: 4.2312 - accuracy: 0.4001 - val_loss: 4.7399 - val_accuracy: 0.3531\n",
            "Epoch 8/26\n",
            "94/94 [==============================] - 10s 102ms/step - loss: 4.1202 - accuracy: 0.4110 - val_loss: 4.6457 - val_accuracy: 0.3562\n",
            "Epoch 9/26\n",
            "94/94 [==============================] - 9s 92ms/step - loss: 4.0055 - accuracy: 0.4233 - val_loss: 4.5892 - val_accuracy: 0.3684\n",
            "Epoch 10/26\n",
            "94/94 [==============================] - 9s 97ms/step - loss: 3.9031 - accuracy: 0.4330 - val_loss: 4.5139 - val_accuracy: 0.3772\n",
            "Epoch 11/26\n",
            "94/94 [==============================] - 8s 89ms/step - loss: 3.8055 - accuracy: 0.4436 - val_loss: 4.4637 - val_accuracy: 0.3799\n",
            "Epoch 12/26\n",
            "94/94 [==============================] - 9s 95ms/step - loss: 3.7144 - accuracy: 0.4537 - val_loss: 4.4248 - val_accuracy: 0.4065\n",
            "Epoch 13/26\n",
            "94/94 [==============================] - 10s 103ms/step - loss: 3.6240 - accuracy: 0.4644 - val_loss: 4.3401 - val_accuracy: 0.4191\n",
            "Epoch 14/26\n",
            "94/94 [==============================] - 8s 83ms/step - loss: 3.5372 - accuracy: 0.4725 - val_loss: 4.2762 - val_accuracy: 0.4245\n",
            "Epoch 15/26\n",
            "94/94 [==============================] - 9s 93ms/step - loss: 3.4543 - accuracy: 0.4792 - val_loss: 4.2377 - val_accuracy: 0.4226\n",
            "Epoch 16/26\n",
            "94/94 [==============================] - 9s 93ms/step - loss: 3.3791 - accuracy: 0.4847 - val_loss: 4.2245 - val_accuracy: 0.4319\n",
            "Epoch 17/26\n",
            "94/94 [==============================] - 8s 88ms/step - loss: 3.3049 - accuracy: 0.4908 - val_loss: 4.1614 - val_accuracy: 0.4420\n",
            "Epoch 18/26\n",
            "94/94 [==============================] - 10s 103ms/step - loss: 3.2322 - accuracy: 0.4972 - val_loss: 4.1073 - val_accuracy: 0.4474\n",
            "Epoch 19/26\n",
            "94/94 [==============================] - 7s 79ms/step - loss: 3.1636 - accuracy: 0.5028 - val_loss: 4.0910 - val_accuracy: 0.4520\n",
            "Epoch 20/26\n",
            "94/94 [==============================] - 10s 103ms/step - loss: 3.0963 - accuracy: 0.5097 - val_loss: 4.0405 - val_accuracy: 0.4519\n",
            "Epoch 21/26\n",
            "94/94 [==============================] - 9s 99ms/step - loss: 3.0364 - accuracy: 0.5140 - val_loss: 4.0190 - val_accuracy: 0.4538\n",
            "Epoch 22/26\n",
            "94/94 [==============================] - 8s 81ms/step - loss: 2.9749 - accuracy: 0.5196 - val_loss: 3.9789 - val_accuracy: 0.4581\n",
            "Epoch 23/26\n",
            "94/94 [==============================] - 11s 120ms/step - loss: 2.9184 - accuracy: 0.5250 - val_loss: 3.9573 - val_accuracy: 0.4598\n",
            "Epoch 24/26\n",
            "94/94 [==============================] - 7s 79ms/step - loss: 2.8631 - accuracy: 0.5297 - val_loss: 3.9378 - val_accuracy: 0.4651\n",
            "Epoch 25/26\n",
            "94/94 [==============================] - 9s 101ms/step - loss: 2.8082 - accuracy: 0.5333 - val_loss: 3.9118 - val_accuracy: 0.4646\n",
            "Epoch 26/26\n",
            "94/94 [==============================] - 8s 86ms/step - loss: 2.7569 - accuracy: 0.5381 - val_loss: 3.8912 - val_accuracy: 0.4674\n"
          ]
        }
      ],
      "source": [
        "start = time.time()\n",
        "model_fit = model1.fit([encoder_pad[:15000], decoder_pad_input[:15000]], decoder_target[:15000], batch_size = 128,\n",
        "                      epochs = 26,validation_split=0.2,)\n",
        "end = time.time()\n"
      ]
    },
    {
      "cell_type": "markdown",
      "source": [
        "Можно увидеть accuracy, loss тестовой и обучающей выборки на каждой эпохе"
      ],
      "metadata": {
        "id": "CoHBADD5lyBl"
      }
    },
    {
      "cell_type": "code",
      "source": [
        "print(f'Время обучения: {end-start}')"
      ],
      "metadata": {
        "colab": {
          "base_uri": "https://localhost:8080/"
        },
        "id": "gQzzERykGNia",
        "outputId": "4933c535-590d-40a9-97d9-0f596b439e0b"
      },
      "execution_count": 39,
      "outputs": [
        {
          "output_type": "stream",
          "name": "stdout",
          "text": [
            "Время обучения: 259.15133595466614\n"
          ]
        }
      ]
    },
    {
      "cell_type": "markdown",
      "source": [
        "На графическом процессоре модель быстро обучалась, это заняло всего 259 секунд (на обычном процессоре гораздо дольше)"
      ],
      "metadata": {
        "id": "CmO0fm5ZGsmx"
      }
    },
    {
      "cell_type": "code",
      "execution_count": 40,
      "metadata": {
        "id": "Q71AYuvL39tD"
      },
      "outputs": [],
      "source": [
        "model1.save('translator_model')"
      ]
    },
    {
      "cell_type": "markdown",
      "source": [
        "Создадим модель кодировщика, которая будет принимать дополненные токены слов, а внутри уже будет преобразовывать их в векторы"
      ],
      "metadata": {
        "id": "h6y_UG58l11x"
      }
    },
    {
      "cell_type": "code",
      "execution_count": 41,
      "metadata": {
        "id": "KIfRQLwHoW6v"
      },
      "outputs": [],
      "source": [
        "encoder_model = Model(encoder_inputs, encoder_states)"
      ]
    },
    {
      "cell_type": "markdown",
      "source": [
        "Создадим модель декодера, которая будет принимать два состояния (cell_state и hidden state), токен слова, а возвращать будет вероятности. На картинке можно увидеть, что декодер как раз принимает \"одно слово\" (токен) и состояния на каждом шаге, далее в функции перевода как раз и создается цикл для обновления состояний и слова"
      ],
      "metadata": {
        "id": "jgQe1QGSmI91"
      }
    },
    {
      "cell_type": "markdown",
      "source": [
        "![Снимок экрана 2024-05-19 в 23.09.30.png](data:image/png;base64,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)"
      ],
      "metadata": {
        "id": "e0PgZMN5erI8"
      }
    },
    {
      "cell_type": "code",
      "execution_count": 42,
      "metadata": {
        "id": "88qEKCxTLpnY"
      },
      "outputs": [],
      "source": [
        "decoder_state_input_h = Input(shape=(LSTM_NODES,))\n",
        "decoder_state_input_c = Input(shape=(LSTM_NODES,))\n",
        "decoder_states_inputs = [decoder_state_input_h, decoder_state_input_c]\n",
        "\n",
        "decoder_inputs_token = Input(shape=(1,))\n",
        "decoder_inputs_token_x = decoder_embedding_layer(decoder_inputs_token)\n",
        "\n",
        "decoder_outputs, h, c = decoder_lstm(decoder_inputs_token_x, initial_state=decoder_states_inputs)\n",
        "\n",
        "decoder_states = [h, c]\n",
        "decoder_outputs = decoder_dense(decoder_outputs)"
      ]
    },
    {
      "cell_type": "code",
      "execution_count": 43,
      "metadata": {
        "id": "MGxcHex0WwVZ"
      },
      "outputs": [],
      "source": [
        "decoder_model1 = Model([decoder_inputs_token] + decoder_states_inputs, [decoder_outputs] + decoder_states)"
      ]
    },
    {
      "cell_type": "code",
      "execution_count": 44,
      "metadata": {
        "id": "VQL8cAjfVbI7"
      },
      "outputs": [],
      "source": [
        "rus_dict = rustokenizer.word_index\n",
        "eng_dict = engtokenizer.word_index"
      ]
    },
    {
      "cell_type": "code",
      "execution_count": 45,
      "metadata": {
        "id": "KSeyDgeDK3jD"
      },
      "outputs": [],
      "source": [
        "reverse_dict = {v:k for k, v in rus_dict.items()}"
      ]
    },
    {
      "cell_type": "code",
      "source": [
        "def translate(input_seq):\n",
        "    translation = ''\n",
        "    states_value = encoder_model(input_seq)\n",
        "    target = np.zeros((1,1))\n",
        "    target[0,0] = rus_dict['<sos>']\n",
        "    stop_condition = False\n",
        "    while not stop_condition:\n",
        "        output_token, hidden_state, cell_state = decoder_model1([target]+states_value)\n",
        "        char_index = np.argmax(output_token[0,-1,:])\n",
        "        char =  reverse_dict[char_index]\n",
        "        if char=='<eos>' or len(translation)>=maxlen:\n",
        "            stop_condition=True\n",
        "            continue\n",
        "        translation += ' '+char\n",
        "        states_value = [hidden_state,cell_state]\n",
        "        target[0,0] = rus_dict[char]\n",
        "    return translation"
      ],
      "metadata": {
        "id": "q8pMB2Ba8e2q"
      },
      "execution_count": 149,
      "outputs": []
    },
    {
      "cell_type": "code",
      "source": [
        "text = np.random.choice(len(english))\n",
        "text"
      ],
      "metadata": {
        "colab": {
          "base_uri": "https://localhost:8080/"
        },
        "id": "4GYMo1rh8Cxd",
        "outputId": "e070f3a1-6f2c-4a88-c84f-6896ad6c9239"
      },
      "execution_count": 240,
      "outputs": [
        {
          "output_type": "execute_result",
          "data": {
            "text/plain": [
              "6911"
            ]
          },
          "metadata": {},
          "execution_count": 240
        }
      ]
    },
    {
      "cell_type": "code",
      "source": [
        "input = encoder_pad[text:text+1]\n",
        "translation = translate(input)\n",
        "print(english[text] ,' - ', translation)\n",
        "print('Правильный перевод: ', russian[text])"
      ],
      "metadata": {
        "colab": {
          "base_uri": "https://localhost:8080/"
        },
        "id": "hEhXNgPPP2Di",
        "outputId": "444e98cf-6834-4b03-81bd-6dadf2854d42"
      },
      "execution_count": 241,
      "outputs": [
        {
          "output_type": "stream",
          "name": "stdout",
          "text": [
            "It was Tom's.  -   это был том\n",
            "Правильный перевод:  Это принадлежало Тому.\n"
          ]
        }
      ]
    },
    {
      "cell_type": "markdown",
      "metadata": {
        "id": "TNsGll0D-pjX"
      },
      "source": [
        "# Обработка данных самостоятельно"
      ]
    },
    {
      "cell_type": "markdown",
      "metadata": {
        "id": "QjgaivGC-wNL"
      },
      "source": [
        "### Токенизация"
      ]
    },
    {
      "cell_type": "markdown",
      "metadata": {
        "id": "no8-Z_SMgkem"
      },
      "source": [
        "Для начала создадим список уникальных слов на английском и на русском"
      ]
    },
    {
      "cell_type": "code",
      "execution_count": 242,
      "metadata": {
        "colab": {
          "base_uri": "https://localhost:8080/"
        },
        "id": "HsHvdaBrgjCx",
        "outputId": "10038ace-df2f-407d-e2ee-a318421300f5"
      },
      "outputs": [
        {
          "output_type": "execute_result",
          "data": {
            "text/plain": [
              "(['Go', 'Hi', 'Run', 'Who', 'Wow'], 2560)"
            ]
          },
          "metadata": {},
          "execution_count": 242
        }
      ],
      "source": [
        "unique_english = []\n",
        "for sen in data['eng']:\n",
        "    for word in sen.split():\n",
        "        if word not in unique_english:\n",
        "            unique_english.append(word)\n",
        "\n",
        "\n",
        "unique_english[:5], len(unique_english)"
      ]
    },
    {
      "cell_type": "code",
      "execution_count": 243,
      "metadata": {
        "colab": {
          "base_uri": "https://localhost:8080/"
        },
        "id": "2_waDCdrhryB",
        "outputId": "c07f868b-67a3-4f21-8d36-a65815c8f45d"
      },
      "outputs": [
        {
          "output_type": "execute_result",
          "data": {
            "text/plain": [
              "(['<eos>', '<sos>', 'Марш', 'Иди', 'Идите'], 6768)"
            ]
          },
          "metadata": {},
          "execution_count": 243
        }
      ],
      "source": [
        "unique_russian = ['<eos>', '<sos>']\n",
        "for sen in data['rus']:\n",
        "    for word in sen.split():\n",
        "        if word not in unique_russian:\n",
        "            unique_russian.append(word)\n",
        "\n",
        "\n",
        "unique_russian[:5], len(unique_russian)"
      ]
    },
    {
      "cell_type": "code",
      "execution_count": 244,
      "metadata": {
        "colab": {
          "base_uri": "https://localhost:8080/"
        },
        "id": "VoFv_e0rnAHR",
        "outputId": "70deb466-7cb3-4200-f317-b4c70823b211"
      },
      "outputs": [
        {
          "output_type": "execute_result",
          "data": {
            "text/plain": [
              "['<eos>', '<sos>', 'Марш', 'Иди', 'Идите']"
            ]
          },
          "metadata": {},
          "execution_count": 244
        }
      ],
      "source": [
        "for i in range(2,len(unique_russian)):\n",
        "  if '<eos>' in unique_russian[i]:\n",
        "    unique_russian[i] = unique_russian[i].replace('<eos>', '')\n",
        "  if '<sos>' in unique_russian[i]:\n",
        "    unique_russian[i] = unique_russian[i].replace('<sos>', '')\n",
        "unique_russian[:5]"
      ]
    },
    {
      "cell_type": "code",
      "execution_count": 245,
      "metadata": {
        "colab": {
          "base_uri": "https://localhost:8080/"
        },
        "id": "7pbb15--pWVe",
        "outputId": "401a81cd-1ae3-4c4d-9cdc-7323045f2ba5"
      },
      "outputs": [
        {
          "output_type": "execute_result",
          "data": {
            "text/plain": [
              "['go', 'hi', 'run', 'who', 'wow']"
            ]
          },
          "metadata": {},
          "execution_count": 245
        }
      ],
      "source": [
        "unique_russian = list(map(str.lower, unique_russian))\n",
        "unique_english = list(map(str.lower, unique_english))\n",
        "unique_english[:5]"
      ]
    },
    {
      "cell_type": "markdown",
      "metadata": {
        "id": "GuqqiqGnh7WV"
      },
      "source": [
        "Теперь нужно составить словарь, где индекс будет являться слово, а значение это уровень частотности слова (самое используемое слово будет со значением 1 и т.д.)"
      ]
    },
    {
      "cell_type": "code",
      "execution_count": 246,
      "metadata": {
        "id": "YzKjvOeeiR3n"
      },
      "outputs": [],
      "source": [
        "frequency_dict_eng = {word: 0 for word in unique_english}\n",
        "for sen in list(data['eng'].str.split()):\n",
        "  for word in sen:\n",
        "    frequency_dict_eng[word.lower()]+=1\n",
        "\n",
        "frequency_dict_eng = dict(sorted(frequency_dict_eng.items(), key=lambda item: item[1], reverse=True)) #словарь с количеством попадания слов в столбце"
      ]
    },
    {
      "cell_type": "code",
      "execution_count": 247,
      "metadata": {
        "id": "x6fKPI_n-34g"
      },
      "outputs": [],
      "source": [
        "frequency_dict_eng = dict([(word, i+1) for i,word in enumerate(frequency_dict_eng)])"
      ]
    },
    {
      "cell_type": "code",
      "execution_count": 248,
      "metadata": {
        "id": "EWIaVwREk794"
      },
      "outputs": [],
      "source": [
        "frequency_dict_rus = {word: 0 for word in unique_russian}\n",
        "for sen in russian2:\n",
        "  for word in sen.split():\n",
        "    if '<eos>' in word:\n",
        "      word= word.replace('<eos>', '')\n",
        "    if '<sos>' in word:\n",
        "      word = word.replace('<sos>', '')\n",
        "    frequency_dict_rus[word.lower()]+=1\n",
        "\n",
        "frequency_dict_rus = dict(sorted(frequency_dict_rus.items(), key=lambda item: item[1], reverse=True))"
      ]
    },
    {
      "cell_type": "code",
      "execution_count": 249,
      "metadata": {
        "id": "3cFDYqNQB10I"
      },
      "outputs": [],
      "source": [
        "frequency_dict_rus = dict([(word, i+1) for i,word in enumerate(frequency_dict_rus)])\n",
        "for key in frequency_dict_rus:\n",
        "  frequency_dict_rus[key]+=2\n",
        "frequency_dict_rus['<eos>'] = 1\n",
        "frequency_dict_rus['<sos>'] = 2"
      ]
    },
    {
      "cell_type": "markdown",
      "metadata": {
        "id": "bl-eWpUiNQAT"
      },
      "source": [
        "Проверим, есть ли повторяющийся значения:"
      ]
    },
    {
      "cell_type": "code",
      "execution_count": 250,
      "metadata": {
        "colab": {
          "base_uri": "https://localhost:8080/"
        },
        "id": "7MsCIOOANOTK",
        "outputId": "2d3d281c-2daa-467b-99a0-1aaab4f9817c"
      },
      "outputs": [
        {
          "output_type": "execute_result",
          "data": {
            "text/plain": [
              "(6228, 6228)"
            ]
          },
          "metadata": {},
          "execution_count": 250
        }
      ],
      "source": [
        "len(frequency_dict_rus.values()), len(set(frequency_dict_rus.values()))"
      ]
    },
    {
      "cell_type": "markdown",
      "metadata": {
        "id": "H5gig7IUNl_C"
      },
      "source": [
        "Создадим список из токенов для каждого предложения"
      ]
    },
    {
      "cell_type": "code",
      "execution_count": 251,
      "metadata": {
        "id": "Ib7C4Pc_SRN1"
      },
      "outputs": [],
      "source": [
        "sentence_eng = []\n",
        "for sen in english2:\n",
        "  sentence = []\n",
        "  for word in sen.split():\n",
        "    sentence.append(frequency_dict_eng[word.lower()])\n",
        "  sentence_eng.append(sentence)"
      ]
    },
    {
      "cell_type": "markdown",
      "metadata": {
        "id": "muNGnjKNe6t8"
      },
      "source": [
        "Проверим совпадают ли предложения с токенами"
      ]
    },
    {
      "cell_type": "code",
      "execution_count": 252,
      "metadata": {
        "colab": {
          "base_uri": "https://localhost:8080/"
        },
        "id": "5GJOweL9d-Wn",
        "outputId": "0823fbfd-6925-4c19-87ad-5bdd019cd1e9"
      },
      "outputs": [
        {
          "output_type": "execute_result",
          "data": {
            "text/plain": [
              "([10], 10)"
            ]
          },
          "metadata": {},
          "execution_count": 252
        }
      ],
      "source": [
        "sentence_eng[1], frequency_dict_eng['go']"
      ]
    },
    {
      "cell_type": "code",
      "execution_count": 253,
      "metadata": {
        "colab": {
          "base_uri": "https://localhost:8080/",
          "height": 37
        },
        "id": "GLoloTUueou9",
        "outputId": "22961c84-84af-49ed-9cd7-6d3645638247"
      },
      "outputs": [
        {
          "output_type": "execute_result",
          "data": {
            "text/plain": [
              "'I wasnt lying'"
            ],
            "application/vnd.google.colaboratory.intrinsic+json": {
              "type": "string"
            }
          },
          "metadata": {},
          "execution_count": 253
        }
      ],
      "source": [
        "english2[-1]"
      ]
    },
    {
      "cell_type": "code",
      "execution_count": 254,
      "metadata": {
        "colab": {
          "base_uri": "https://localhost:8080/"
        },
        "id": "LOceW_smeehF",
        "outputId": "a01a185a-a398-4845-9bd8-229a55a9985b"
      },
      "outputs": [
        {
          "output_type": "execute_result",
          "data": {
            "text/plain": [
              "([1, 160, 164], 41, 188, 108)"
            ]
          },
          "metadata": {},
          "execution_count": 254
        }
      ],
      "source": [
        "sentence_eng[-1], frequency_dict_eng['who'], frequency_dict_eng['needs'], frequency_dict_eng['them']"
      ]
    },
    {
      "cell_type": "code",
      "execution_count": 255,
      "metadata": {
        "id": "NbOxws99fD-2"
      },
      "outputs": [],
      "source": [
        "sentence_rus_input = []\n",
        "sentence_rus_output = []\n",
        "for sen in russian2:\n",
        "  sentence_in = [1]\n",
        "  sentence_out = []\n",
        "  for word in sen.split():\n",
        "    sentence_in.append(frequency_dict_rus[word.lower()])\n",
        "    sentence_out.append(frequency_dict_rus[word.lower()])\n",
        "  sentence_rus_input.append(sentence_in)\n",
        "  sentence_out.append(2)\n",
        "  sentence_rus_output.append(sentence_out)"
      ]
    },
    {
      "cell_type": "code",
      "execution_count": 256,
      "metadata": {
        "colab": {
          "base_uri": "https://localhost:8080/"
        },
        "id": "jpmMFrBRjBfu",
        "outputId": "e71e21cd-609a-4068-d7a9-755d4311d6bf"
      },
      "outputs": [
        {
          "output_type": "execute_result",
          "data": {
            "text/plain": [
              "([1, 54], [54, 2], 54)"
            ]
          },
          "metadata": {},
          "execution_count": 256
        }
      ],
      "source": [
        "sentence_rus_input[1], sentence_rus_output[1], frequency_dict_rus['иди']"
      ]
    },
    {
      "cell_type": "markdown",
      "metadata": {
        "id": "WBkmt4cxCVx1"
      },
      "source": [
        "## Padding"
      ]
    },
    {
      "cell_type": "markdown",
      "metadata": {
        "id": "PWqEi2sPDJuq"
      },
      "source": [
        "Создадим массивы"
      ]
    },
    {
      "cell_type": "code",
      "execution_count": 257,
      "metadata": {
        "colab": {
          "base_uri": "https://localhost:8080/"
        },
        "id": "AsQYmvMlKbdY",
        "outputId": "740bee32-fef6-4f3f-e6ea-72a36ccb3565"
      },
      "outputs": [
        {
          "output_type": "execute_result",
          "data": {
            "text/plain": [
              "(11, 11, 5, 5)"
            ]
          },
          "metadata": {},
          "execution_count": 257
        }
      ],
      "source": [
        "maxleneng2 = max([len(i.split()) for i in english2])\n",
        "maxlenrus2 = max([len(i) for i in sentence_rus_input])\n",
        "maxlenrus2, maxlen, maxleneng2, maxleneng"
      ]
    },
    {
      "cell_type": "code",
      "execution_count": 258,
      "metadata": {
        "id": "FLo_EmHMgXFo"
      },
      "outputs": [],
      "source": [
        "def padding(dt, maxlen, zeros_end=False):\n",
        "  result =  np.array([0 for i in range(maxlen)])\n",
        "  for i in range(len(dt)):\n",
        "    if maxlen - len(dt[i])!=0:\n",
        "      dif = maxlen - len(dt[i])\n",
        "      if not zeros_end:\n",
        "        m = [0 for j in range(dif)] + dt[i]\n",
        "      else:\n",
        "        m = dt[i] + [0 for j in range(dif)]\n",
        "    else:\n",
        "      m = dt[i]\n",
        "\n",
        "    result = np.vstack((result, m))\n",
        "  result = np.delete(result,0,axis=0)\n",
        "\n",
        "  return result"
      ]
    },
    {
      "cell_type": "code",
      "execution_count": 259,
      "metadata": {
        "colab": {
          "base_uri": "https://localhost:8080/"
        },
        "id": "s8uWKN-vm7Yq",
        "outputId": "ccf32854-3781-4c38-f14b-ce12e1ddcd57"
      },
      "outputs": [
        {
          "output_type": "execute_result",
          "data": {
            "text/plain": [
              "array([  0,   0,   1, 160, 164], dtype=int32)"
            ]
          },
          "metadata": {},
          "execution_count": 259
        }
      ],
      "source": [
        "encoder_pad[-1]"
      ]
    },
    {
      "cell_type": "code",
      "execution_count": 260,
      "metadata": {
        "id": "WM3f9w0soB3Q"
      },
      "outputs": [],
      "source": [
        "encoder_pad2 = padding(sentence_eng, maxleneng2)"
      ]
    },
    {
      "cell_type": "code",
      "execution_count": 261,
      "metadata": {
        "colab": {
          "base_uri": "https://localhost:8080/"
        },
        "id": "u0zj-9P2odaC",
        "outputId": "6739cdae-43cf-48c6-bb6e-48e2f6ff8bd3"
      },
      "outputs": [
        {
          "output_type": "execute_result",
          "data": {
            "text/plain": [
              "array([  0,   0,   1, 160, 164])"
            ]
          },
          "metadata": {},
          "execution_count": 261
        }
      ],
      "source": [
        "encoder_pad2[-1]"
      ]
    },
    {
      "cell_type": "markdown",
      "metadata": {
        "id": "t1-mYtKQpyFZ"
      },
      "source": [
        "Готовый padding из библиотеки совпадает с результатом нашей функции"
      ]
    },
    {
      "cell_type": "code",
      "execution_count": 262,
      "metadata": {
        "id": "bu1dLHK5nhVu"
      },
      "outputs": [],
      "source": [
        "decoder_pad2_forinput = padding(sentence_rus_input, maxlenrus2)\n",
        "decoder_pad2_foroutput = padding(sentence_rus_output, maxlenrus2)"
      ]
    },
    {
      "cell_type": "code",
      "source": [
        "decoder_pad2_forinput[0], decoder_pad2_foroutput[0]"
      ],
      "metadata": {
        "colab": {
          "base_uri": "https://localhost:8080/"
        },
        "id": "8XVrsM1UiZZc",
        "outputId": "61a56459-0e4c-4327-8335-e1454a7fd160"
      },
      "execution_count": 263,
      "outputs": [
        {
          "output_type": "execute_result",
          "data": {
            "text/plain": [
              "(array([   0,    0,    0,    0,    0,    0,    0,    0,    0,    1, 1429]),\n",
              " array([   0,    0,    0,    0,    0,    0,    0,    0,    0, 1429,    2]))"
            ]
          },
          "metadata": {},
          "execution_count": 263
        }
      ]
    },
    {
      "cell_type": "code",
      "execution_count": 265,
      "metadata": {
        "colab": {
          "base_uri": "https://localhost:8080/"
        },
        "id": "NrsKig7sqCA8",
        "outputId": "1115248b-b247-49a1-90fb-503f48421f33"
      },
      "outputs": [
        {
          "output_type": "execute_result",
          "data": {
            "text/plain": [
              "(array([   0,    0,    0,    0,    0,    0,    0,    0,    0,    1, 1428],\n",
              "       dtype=int32),\n",
              " array([   0,    0,    0,    0,    0,    0,    0,    0,    0, 1428,    2],\n",
              "       dtype=int32))"
            ]
          },
          "metadata": {},
          "execution_count": 265
        }
      ],
      "source": [
        "decoder_pad_input[0], decoder_pad_output[0]"
      ]
    },
    {
      "cell_type": "markdown",
      "metadata": {
        "id": "nfNePB-HqJUA"
      },
      "source": [
        "## Embadding"
      ]
    },
    {
      "cell_type": "markdown",
      "metadata": {
        "id": "V1n6K80VW6l-"
      },
      "source": [
        "Воспользуемся библиотекой GloVe, она создает векторы слов, анализируя, как часто пары слов встречаются вместе в большом текстовом корпусе.\n",
        "\n",
        "Благодаря embadding можно измерить сходство между словами.\n",
        "\n",
        "Загрузим предобученные векторные представления слов:"
      ]
    },
    {
      "cell_type": "code",
      "execution_count": 266,
      "metadata": {
        "id": "CS_BaYG-qG0a"
      },
      "outputs": [],
      "source": [
        "embeddings_dictionary = dict()\n",
        "embedding_dim = 100\n",
        "\n",
        "with open('/content/drive/MyDrive/glove.6B.100d.txt') as fp:\n",
        "    for line in fp.readlines():\n",
        "        records = line.split()\n",
        "        word = records[0]\n",
        "        vector_dimensions = np.asarray(records[1:], dtype='float32')\n",
        "        embeddings_dictionary [word] = vector_dimensions"
      ]
    },
    {
      "cell_type": "code",
      "execution_count": 267,
      "metadata": {
        "colab": {
          "base_uri": "https://localhost:8080/"
        },
        "id": "hJ6RNRnOc7dW",
        "outputId": "42bda1e1-4a4f-4e4a-f273-e43557628501"
      },
      "outputs": [
        {
          "output_type": "execute_result",
          "data": {
            "text/plain": [
              "array([[ 0.00000000e+00,  0.00000000e+00,  0.00000000e+00,\n",
              "         0.00000000e+00,  0.00000000e+00,  0.00000000e+00,\n",
              "         0.00000000e+00,  0.00000000e+00,  0.00000000e+00,\n",
              "         0.00000000e+00,  0.00000000e+00,  0.00000000e+00,\n",
              "         0.00000000e+00,  0.00000000e+00,  0.00000000e+00,\n",
              "         0.00000000e+00,  0.00000000e+00,  0.00000000e+00,\n",
              "         0.00000000e+00,  0.00000000e+00,  0.00000000e+00,\n",
              "         0.00000000e+00,  0.00000000e+00,  0.00000000e+00,\n",
              "         0.00000000e+00,  0.00000000e+00,  0.00000000e+00,\n",
              "         0.00000000e+00,  0.00000000e+00,  0.00000000e+00,\n",
              "         0.00000000e+00,  0.00000000e+00,  0.00000000e+00,\n",
              "         0.00000000e+00,  0.00000000e+00,  0.00000000e+00,\n",
              "         0.00000000e+00,  0.00000000e+00,  0.00000000e+00,\n",
              "         0.00000000e+00,  0.00000000e+00,  0.00000000e+00,\n",
              "         0.00000000e+00,  0.00000000e+00,  0.00000000e+00,\n",
              "         0.00000000e+00,  0.00000000e+00,  0.00000000e+00,\n",
              "         0.00000000e+00,  0.00000000e+00,  0.00000000e+00,\n",
              "         0.00000000e+00,  0.00000000e+00,  0.00000000e+00,\n",
              "         0.00000000e+00,  0.00000000e+00,  0.00000000e+00,\n",
              "         0.00000000e+00,  0.00000000e+00,  0.00000000e+00,\n",
              "         0.00000000e+00,  0.00000000e+00,  0.00000000e+00,\n",
              "         0.00000000e+00,  0.00000000e+00,  0.00000000e+00,\n",
              "         0.00000000e+00,  0.00000000e+00,  0.00000000e+00,\n",
              "         0.00000000e+00,  0.00000000e+00,  0.00000000e+00,\n",
              "         0.00000000e+00,  0.00000000e+00,  0.00000000e+00,\n",
              "         0.00000000e+00,  0.00000000e+00,  0.00000000e+00,\n",
              "         0.00000000e+00,  0.00000000e+00,  0.00000000e+00,\n",
              "         0.00000000e+00,  0.00000000e+00,  0.00000000e+00,\n",
              "         0.00000000e+00,  0.00000000e+00,  0.00000000e+00,\n",
              "         0.00000000e+00,  0.00000000e+00,  0.00000000e+00,\n",
              "         0.00000000e+00,  0.00000000e+00,  0.00000000e+00,\n",
              "         0.00000000e+00,  0.00000000e+00,  0.00000000e+00,\n",
              "         0.00000000e+00,  0.00000000e+00,  0.00000000e+00,\n",
              "         0.00000000e+00],\n",
              "       [-4.65390012e-02,  6.19660020e-01,  5.66470027e-01,\n",
              "        -4.65840012e-01, -1.18900001e+00,  4.45989996e-01,\n",
              "         6.60350025e-02,  3.19099993e-01,  1.46789998e-01,\n",
              "        -2.21190006e-01,  7.92389989e-01,  2.99050003e-01,\n",
              "         1.60730004e-01,  2.53240000e-02,  1.86780006e-01,\n",
              "        -3.10009986e-01, -2.81080008e-01,  6.05149984e-01,\n",
              "        -1.06540000e+00,  5.24760008e-01,  6.41520023e-02,\n",
              "         1.03579998e+00, -4.07790005e-01, -3.80109996e-01,\n",
              "         3.08010012e-01,  5.99640012e-01, -2.69910008e-01,\n",
              "        -7.60349989e-01,  9.42219973e-01, -4.69190001e-01,\n",
              "        -1.82779998e-01,  9.06520009e-01,  7.96710014e-01,\n",
              "         2.48249993e-01,  2.57129997e-01,  6.23199999e-01,\n",
              "        -4.47679996e-01,  6.53569996e-01,  7.69020021e-01,\n",
              "        -5.12290001e-01, -4.43329990e-01, -2.18669996e-01,\n",
              "         3.83700013e-01, -1.14830005e+00, -9.43979979e-01,\n",
              "        -1.50619999e-01,  3.00119996e-01, -5.78059971e-01,\n",
              "         2.01749995e-01, -1.65910006e+00, -7.91950002e-02,\n",
              "         2.64229998e-02,  2.20510006e-01,  9.97139990e-01,\n",
              "        -5.75389981e-01, -2.72659993e+00,  3.14480007e-01,\n",
              "         7.05219984e-01,  1.43809998e+00,  9.91259992e-01,\n",
              "         1.39760002e-01,  1.34739995e+00, -1.17530000e+00,\n",
              "         3.95030016e-03,  1.02980006e+00,  6.46369979e-02,\n",
              "         9.08869982e-01,  8.28719974e-01, -4.70030010e-01,\n",
              "        -1.05750002e-01,  5.91600001e-01, -4.22100008e-01,\n",
              "         5.73310018e-01, -5.41140020e-01,  1.07680000e-01,\n",
              "         3.97839993e-01, -4.87440005e-02,  6.45959973e-02,\n",
              "        -6.14369988e-01, -2.86000013e-01,  5.06699979e-01,\n",
              "        -4.97579992e-01, -8.15699995e-01,  1.64079994e-01,\n",
              "        -1.96300006e+00, -2.66930014e-01, -3.75930011e-01,\n",
              "        -9.58469987e-01, -8.58399987e-01, -7.15770006e-01,\n",
              "        -3.23430002e-01, -4.31210011e-01,  4.13919985e-01,\n",
              "         2.83740014e-01, -7.09309995e-01,  1.50030002e-01,\n",
              "        -2.15399995e-01, -3.76159996e-01, -3.25019993e-02,\n",
              "         8.06200027e-01],\n",
              "       [-5.83880007e-01, -4.69399989e-01,  1.68550000e-01,\n",
              "        -1.67030001e+00, -1.16010003e-01,  4.87379991e-02,\n",
              "        -3.42009991e-01, -3.76910001e-01, -9.53079998e-01,\n",
              "        -8.82600009e-01, -1.56149998e-01, -2.52860010e-01,\n",
              "        -1.72309995e-01,  7.73890018e-01, -2.86650002e-01,\n",
              "        -5.72929978e-01,  4.84660007e-02,  5.67960024e-01,\n",
              "        -5.15120029e-01,  8.21330011e-01,  1.23870000e-01,\n",
              "         5.10429978e-01, -2.92919993e-01, -4.15690005e-01,\n",
              "         3.81720006e-01, -3.46619993e-01, -2.11700007e-01,\n",
              "        -4.96329993e-01,  4.79760021e-03, -2.43239999e-01,\n",
              "        -2.75319993e-01,  5.85020006e-01,  3.71179990e-02,\n",
              "        -2.86989994e-02,  9.85520035e-02, -2.75689989e-01,\n",
              "         2.92249992e-02,  3.84240001e-01,  7.46559978e-01,\n",
              "         3.45389992e-01, -2.74199992e-01, -1.13239996e-02,\n",
              "         7.86470026e-02,  5.28760016e-01, -3.23489994e-01,\n",
              "         1.21809999e-02, -9.25779998e-01, -7.39449978e-01,\n",
              "         3.75889987e-01, -7.87679970e-01, -1.67999998e-01,\n",
              "        -1.34519994e-01,  2.80609995e-01, -1.04630003e-02,\n",
              "         7.11939991e-01, -2.59069991e+00, -1.68520004e-01,\n",
              "         3.99100006e-01,  4.24670018e-02,  3.24770004e-01,\n",
              "         2.02099994e-01,  4.78760004e-01,  5.18549979e-01,\n",
              "        -2.72179991e-02,  6.72500014e-01, -4.42160010e-01,\n",
              "         1.18120003e+00,  1.06420004e+00,  8.01509991e-02,\n",
              "         3.71030003e-01, -3.36580008e-01,  2.27880001e-01,\n",
              "        -1.13300002e+00,  9.79629979e-02,  5.55610001e-01,\n",
              "        -4.14379984e-02,  1.05209999e-01, -7.35670030e-02,\n",
              "        -1.01080000e+00,  2.76179999e-01, -3.94169986e-01,\n",
              "        -7.68710017e-01, -3.54739994e-01, -2.45020002e-01,\n",
              "        -1.11359999e-01, -2.79529989e-01,  4.45620017e-03,\n",
              "         9.98929958e-04,  7.48360008e-02, -4.05719995e-01,\n",
              "         2.64290005e-01,  3.37859988e-01,  3.57910007e-01,\n",
              "         5.49009979e-01,  6.72500022e-03,  2.81580001e-01,\n",
              "         3.43730003e-01,  1.37040004e-01,  8.95719975e-02,\n",
              "        -5.42770028e-01]])"
            ]
          },
          "metadata": {},
          "execution_count": 267
        }
      ],
      "source": [
        "embedding_matrix = np.zeros((len(unique_english), embedding_dim))\n",
        "\n",
        "for word, index in frequency_dict_eng.items():\n",
        "    embedding_vector = embeddings_dictionary.get(word)\n",
        "    if embedding_vector is not None:\n",
        "        embedding_matrix[index] = embedding_vector\n",
        "\n",
        "embedding_matrix[:3]"
      ]
    },
    {
      "cell_type": "code",
      "execution_count": 269,
      "metadata": {
        "colab": {
          "base_uri": "https://localhost:8080/"
        },
        "id": "KgA6djh0eskq",
        "outputId": "1e50f6b6-56d5-40b9-d1b4-bedcf2552022"
      },
      "outputs": [
        {
          "output_type": "execute_result",
          "data": {
            "text/plain": [
              "('go', 10)"
            ]
          },
          "metadata": {},
          "execution_count": 269
        }
      ],
      "source": [
        "unique_english[0], frequency_dict_eng['go']"
      ]
    },
    {
      "cell_type": "code",
      "execution_count": 270,
      "metadata": {
        "colab": {
          "base_uri": "https://localhost:8080/"
        },
        "id": "AA1rpmnxe3MD",
        "outputId": "00b1bbee-a157-43b7-8fab-ab2a8ae730f0"
      },
      "outputs": [
        {
          "output_type": "execute_result",
          "data": {
            "text/plain": [
              "array([-0.078894,  0.4616  ,  0.57779 , -0.71637 , -0.13121 ,  0.4186  ,\n",
              "       -0.29156 ,  0.52006 ,  0.089986, -0.35062 ,  0.51755 ,  0.51998 ,\n",
              "        0.15218 ,  0.41485 , -0.12377 , -0.37222 ,  0.0273  ,  0.75673 ,\n",
              "       -0.8739  ,  0.58935 ,  0.46662 ,  0.62918 ,  0.092603, -0.012868,\n",
              "       -0.015169,  0.25567 , -0.43025 , -0.77668 ,  0.71449 , -0.3834  ,\n",
              "       -0.69638 ,  0.23522 ,  0.11396 ,  0.02778 ,  0.071357,  0.87409 ,\n",
              "       -0.1281  ,  0.063576,  0.067867, -0.50181 , -0.28523 , -0.072536,\n",
              "       -0.50738 , -0.6914  , -0.53579 , -0.11361 , -0.38234 , -0.12414 ,\n",
              "        0.011214, -1.1622  ,  0.037057, -0.18495 ,  0.01416 ,  0.87193 ,\n",
              "       -0.097309, -2.3565  , -0.14554 ,  0.28275 ,  2.0053  ,  0.23439 ,\n",
              "       -0.38298 ,  0.69539 , -0.44916 , -0.094157,  0.90527 ,  0.65764 ,\n",
              "        0.27628 ,  0.30688 , -0.57781 , -0.22987 , -0.083043, -0.57236 ,\n",
              "       -0.299   , -0.81112 ,  0.039752, -0.05681 , -0.48879 , -0.18091 ,\n",
              "       -0.28152 , -0.20559 ,  0.4932  , -0.033999, -0.53139 , -0.28297 ,\n",
              "       -1.4475  , -0.18685 ,  0.091177,  0.11454 , -0.28168 , -0.33565 ,\n",
              "       -0.31663 , -0.1089  ,  0.10111 , -0.23737 , -0.64955 , -0.268   ,\n",
              "        0.35096 ,  0.26352 ,  0.59397 ,  0.26741 ], dtype=float32)"
            ]
          },
          "metadata": {},
          "execution_count": 270
        }
      ],
      "source": [
        "embeddings_dictionary['go']"
      ]
    },
    {
      "cell_type": "markdown",
      "source": [
        "Сравним совпдают векторные предстваления слова go"
      ],
      "metadata": {
        "id": "jktQugtzSkB-"
      }
    },
    {
      "cell_type": "code",
      "execution_count": 271,
      "metadata": {
        "colab": {
          "base_uri": "https://localhost:8080/"
        },
        "id": "0xyhhpdqe-0y",
        "outputId": "03bf957d-0a6e-4bc7-d5b2-012f283ea754"
      },
      "outputs": [
        {
          "output_type": "execute_result",
          "data": {
            "text/plain": [
              "array([ True,  True,  True,  True,  True,  True,  True,  True,  True,\n",
              "        True,  True,  True,  True,  True,  True,  True,  True,  True,\n",
              "        True,  True,  True,  True,  True,  True,  True,  True,  True,\n",
              "        True,  True,  True,  True,  True,  True,  True,  True,  True,\n",
              "        True,  True,  True,  True,  True,  True,  True,  True,  True,\n",
              "        True,  True,  True,  True,  True,  True,  True,  True,  True,\n",
              "        True,  True,  True,  True,  True,  True,  True,  True,  True,\n",
              "        True,  True,  True,  True,  True,  True,  True,  True,  True,\n",
              "        True,  True,  True,  True,  True,  True,  True,  True,  True,\n",
              "        True,  True,  True,  True,  True,  True,  True,  True,  True,\n",
              "        True,  True,  True,  True,  True,  True,  True,  True,  True,\n",
              "        True])"
            ]
          },
          "metadata": {},
          "execution_count": 271
        }
      ],
      "source": [
        "embedding_matrix[10] == embeddings_dictionary['go']"
      ]
    },
    {
      "cell_type": "markdown",
      "metadata": {
        "id": "TLm72B5HfbNi"
      },
      "source": [
        "Векторное представление из embeddings_dictionary совпадает с векторным представлением соответсвующего индекса из embeddings_matrix"
      ]
    },
    {
      "cell_type": "code",
      "source": [
        "embedding_layer = Embedding(len(unique_english), embedding_dim, weights=[embedding_matrix], input_length = maxleneng)"
      ],
      "metadata": {
        "id": "8ngEe4eJWVCI"
      },
      "execution_count": 272,
      "outputs": []
    },
    {
      "cell_type": "markdown",
      "metadata": {
        "id": "zMKcY-defxdG"
      },
      "source": [
        "# Модель на другой обработке данных"
      ]
    },
    {
      "cell_type": "markdown",
      "source": [
        "Сама модель будет такой же, как предыдущая, только на других данных"
      ],
      "metadata": {
        "id": "UYPS3hKOSVEa"
      }
    },
    {
      "cell_type": "code",
      "source": [
        "LSTM_NODES = 256#размерность скрытого состояния\n",
        "num_encoder_tokens = len(frequency_dict_eng) #размер словаря входных токенов\n",
        "num_decoder_tokens = len(frequency_dict_rus) #размер словаря выходных токенов"
      ],
      "metadata": {
        "id": "L8osIgxoV_0u"
      },
      "execution_count": 273,
      "outputs": []
    },
    {
      "cell_type": "code",
      "source": [
        "encoder_inputs = Input(shape=(maxleneng2, ))\n",
        "encoder_embeddings = embedding_layer(encoder_inputs)\n",
        "encoder = LSTM(LSTM_NODES, return_state = True)\n",
        "encoder_outputs, h, c = encoder(encoder_embeddings)\n",
        "encoder_states = [h, c]"
      ],
      "metadata": {
        "id": "fLxbn3e5Vpfm"
      },
      "execution_count": 274,
      "outputs": []
    },
    {
      "cell_type": "markdown",
      "source": [
        "decoder на входе должен обязательно получать закодированное предложение на русском с индикатором $<sos>$ (без $<eos>$!)."
      ],
      "metadata": {
        "id": "qjrmOV98e0pQ"
      }
    },
    {
      "cell_type": "code",
      "source": [
        "decoder_inputs = Input(shape=(maxlen,))\n",
        "\n",
        "decoder_embedding_layer = Embedding(\n",
        "    input_dim=num_decoder_tokens,output_dim=embedding_dim,\n",
        "    mask_zero=True\n",
        ")\n",
        "decoder_embeddings = decoder_embedding_layer(decoder_inputs)\n",
        "\n",
        "decoder_lstm = LSTM(LSTM_NODES, return_sequences=True, return_state=True)\n",
        "decoder_outputs, _, _ = decoder_lstm(decoder_embeddings, initial_state=encoder_states)"
      ],
      "metadata": {
        "id": "y3XiZa6iVqXN"
      },
      "execution_count": 275,
      "outputs": []
    },
    {
      "cell_type": "code",
      "source": [
        "decoder_dense = Dense(num_decoder_tokens+1, activation='softmax')\n",
        "decoder_outputs = decoder_dense(decoder_outputs)"
      ],
      "metadata": {
        "id": "d6cr3SA3WHHJ"
      },
      "execution_count": 276,
      "outputs": []
    },
    {
      "cell_type": "code",
      "source": [
        "decoder_target = np.zeros((len(english), maxlenrus2, len(frequency_dict_rus)+1), dtype='float32')\n",
        "print(decoder_target.shape)\n",
        "\n",
        "for i, d in enumerate(decoder_pad2_foroutput):\n",
        "    for t, word in enumerate(d):\n",
        "        decoder_target[i, t, word] = 1\n",
        "print(decoder_target.shape)"
      ],
      "metadata": {
        "colab": {
          "base_uri": "https://localhost:8080/"
        },
        "id": "QrPQw-BuWLWM",
        "outputId": "cde575f4-8e50-45c7-cad9-0360fa9946e1"
      },
      "execution_count": 277,
      "outputs": [
        {
          "output_type": "stream",
          "name": "stdout",
          "text": [
            "(15000, 11, 6229)\n",
            "(15000, 11, 6229)\n"
          ]
        }
      ]
    },
    {
      "cell_type": "code",
      "source": [
        "model2 = Model([encoder_inputs, decoder_inputs], decoder_outputs)\n",
        "model2.compile(optimizer='rmsprop',loss='categorical_crossentropy', metrics=['accuracy'])"
      ],
      "metadata": {
        "id": "axXxhBDjWPac"
      },
      "execution_count": 278,
      "outputs": []
    },
    {
      "cell_type": "code",
      "source": [
        "start2 = time.time()\n",
        "history = model2.fit([encoder_pad2[:15000], decoder_pad2_forinput[:15000]], decoder_target[:15000], batch_size = 128,\n",
        "                      epochs = 25,validation_split=0.2,)\n",
        "end2 = time.time()"
      ],
      "metadata": {
        "id": "FuqiwlGxaog6",
        "colab": {
          "base_uri": "https://localhost:8080/"
        },
        "outputId": "ed5cb71f-0cfc-4683-f764-63fc033e3cb6"
      },
      "execution_count": 279,
      "outputs": [
        {
          "output_type": "stream",
          "name": "stdout",
          "text": [
            "Epoch 1/25\n",
            "94/94 [==============================] - 26s 195ms/step - loss: 5.4174 - accuracy: 0.3403 - val_loss: 5.1562 - val_accuracy: 0.3105\n",
            "Epoch 2/25\n",
            "94/94 [==============================] - 10s 111ms/step - loss: 4.7232 - accuracy: 0.3696 - val_loss: 5.0244 - val_accuracy: 0.3333\n",
            "Epoch 3/25\n",
            "94/94 [==============================] - 8s 90ms/step - loss: 4.4984 - accuracy: 0.4017 - val_loss: 4.8026 - val_accuracy: 0.3535\n",
            "Epoch 4/25\n",
            "94/94 [==============================] - 10s 109ms/step - loss: 4.3031 - accuracy: 0.4195 - val_loss: 4.6970 - val_accuracy: 0.3767\n",
            "Epoch 5/25\n",
            "94/94 [==============================] - 9s 99ms/step - loss: 4.1132 - accuracy: 0.4363 - val_loss: 4.5899 - val_accuracy: 0.3991\n",
            "Epoch 6/25\n",
            "94/94 [==============================] - 11s 119ms/step - loss: 3.9334 - accuracy: 0.4527 - val_loss: 4.4160 - val_accuracy: 0.4167\n",
            "Epoch 7/25\n",
            "94/94 [==============================] - 8s 87ms/step - loss: 3.7713 - accuracy: 0.4654 - val_loss: 4.3082 - val_accuracy: 0.4245\n",
            "Epoch 8/25\n",
            "94/94 [==============================] - 10s 104ms/step - loss: 3.6212 - accuracy: 0.4752 - val_loss: 4.1926 - val_accuracy: 0.4364\n",
            "Epoch 9/25\n",
            "94/94 [==============================] - 8s 86ms/step - loss: 3.4790 - accuracy: 0.4840 - val_loss: 4.0961 - val_accuracy: 0.4426\n",
            "Epoch 10/25\n",
            "94/94 [==============================] - 9s 96ms/step - loss: 3.3433 - accuracy: 0.4925 - val_loss: 4.0339 - val_accuracy: 0.4482\n",
            "Epoch 11/25\n",
            "94/94 [==============================] - 9s 100ms/step - loss: 3.2145 - accuracy: 0.5034 - val_loss: 3.9919 - val_accuracy: 0.4499\n",
            "Epoch 12/25\n",
            "94/94 [==============================] - 7s 80ms/step - loss: 3.0945 - accuracy: 0.5123 - val_loss: 3.9234 - val_accuracy: 0.4569\n",
            "Epoch 13/25\n",
            "94/94 [==============================] - 9s 100ms/step - loss: 2.9814 - accuracy: 0.5217 - val_loss: 3.8840 - val_accuracy: 0.4584\n",
            "Epoch 14/25\n",
            "94/94 [==============================] - 8s 86ms/step - loss: 2.8729 - accuracy: 0.5307 - val_loss: 3.8001 - val_accuracy: 0.4668\n",
            "Epoch 15/25\n",
            "94/94 [==============================] - 9s 91ms/step - loss: 2.7736 - accuracy: 0.5373 - val_loss: 3.7390 - val_accuracy: 0.4712\n",
            "Epoch 16/25\n",
            "94/94 [==============================] - 10s 108ms/step - loss: 2.6774 - accuracy: 0.5437 - val_loss: 3.6997 - val_accuracy: 0.4707\n",
            "Epoch 17/25\n",
            "94/94 [==============================] - 8s 82ms/step - loss: 2.5851 - accuracy: 0.5533 - val_loss: 3.6734 - val_accuracy: 0.4792\n",
            "Epoch 18/25\n",
            "94/94 [==============================] - 9s 97ms/step - loss: 2.4965 - accuracy: 0.5608 - val_loss: 3.6356 - val_accuracy: 0.4827\n",
            "Epoch 19/25\n",
            "94/94 [==============================] - 8s 90ms/step - loss: 2.4125 - accuracy: 0.5691 - val_loss: 3.5914 - val_accuracy: 0.4869\n",
            "Epoch 20/25\n",
            "94/94 [==============================] - 9s 93ms/step - loss: 2.3319 - accuracy: 0.5755 - val_loss: 3.5703 - val_accuracy: 0.4869\n",
            "Epoch 21/25\n",
            "94/94 [==============================] - 9s 98ms/step - loss: 2.2528 - accuracy: 0.5839 - val_loss: 3.5299 - val_accuracy: 0.4919\n",
            "Epoch 22/25\n",
            "94/94 [==============================] - 8s 80ms/step - loss: 2.1776 - accuracy: 0.5917 - val_loss: 3.4952 - val_accuracy: 0.4912\n",
            "Epoch 23/25\n",
            "94/94 [==============================] - 9s 100ms/step - loss: 2.1044 - accuracy: 0.5998 - val_loss: 3.4768 - val_accuracy: 0.4946\n",
            "Epoch 24/25\n",
            "94/94 [==============================] - 8s 85ms/step - loss: 2.0350 - accuracy: 0.6073 - val_loss: 3.4493 - val_accuracy: 0.4966\n",
            "Epoch 25/25\n",
            "94/94 [==============================] - 8s 87ms/step - loss: 1.9685 - accuracy: 0.6146 - val_loss: 3.4481 - val_accuracy: 0.4965\n"
          ]
        }
      ]
    },
    {
      "cell_type": "code",
      "source": [
        "print(f'Время обучение второй модели: {end2-start2}')"
      ],
      "metadata": {
        "colab": {
          "base_uri": "https://localhost:8080/"
        },
        "id": "zZYMM8HpQrrx",
        "outputId": "15ae2f09-8cc6-4f56-cdf4-02051fbc2ee7"
      },
      "execution_count": 280,
      "outputs": [
        {
          "output_type": "stream",
          "name": "stdout",
          "text": [
            "Время обучение второй модели: 275.5542838573456\n"
          ]
        }
      ]
    },
    {
      "cell_type": "markdown",
      "source": [
        "Вторая модель обучалась примерно столько же, сколько и предыдущая, всего это заняло 275 секунд"
      ],
      "metadata": {
        "id": "LCBzDMMSQzSV"
      }
    },
    {
      "cell_type": "code",
      "source": [
        "model2.save('translator_model2')"
      ],
      "metadata": {
        "id": "lOX7BNT3s4f4"
      },
      "execution_count": 281,
      "outputs": []
    },
    {
      "cell_type": "code",
      "source": [
        "encoder_model2 = Model(encoder_inputs, encoder_states)"
      ],
      "metadata": {
        "id": "uWRGXqOzi7QO"
      },
      "execution_count": 282,
      "outputs": []
    },
    {
      "cell_type": "code",
      "source": [
        "decoder_state_input_h = Input(shape=(LSTM_NODES,))\n",
        "decoder_state_input_c = Input(shape=(LSTM_NODES,))\n",
        "decoder_states_inputs = [decoder_state_input_h, decoder_state_input_c]\n",
        "\n",
        "decoder_inputs_token = Input(shape=(1,))\n",
        "decoder_inputs_token_x = decoder_embedding_layer(decoder_inputs_token)\n",
        "\n",
        "decoder_outputs, h, c = decoder_lstm(decoder_inputs_token_x, initial_state=decoder_states_inputs)\n",
        "\n",
        "decoder_states = [h, c]\n",
        "decoder_outputs = decoder_dense(decoder_outputs)"
      ],
      "metadata": {
        "id": "x819VH_XjEcO"
      },
      "execution_count": 283,
      "outputs": []
    },
    {
      "cell_type": "code",
      "source": [
        "decoder_model2 = Model([decoder_inputs_token] + decoder_states_inputs, [decoder_outputs] + decoder_states)"
      ],
      "metadata": {
        "id": "vi6LNrjjjLFD"
      },
      "execution_count": 284,
      "outputs": []
    },
    {
      "cell_type": "code",
      "source": [
        "reverse_dict2 = {num:word for word,num in frequency_dict_rus.items()}"
      ],
      "metadata": {
        "id": "FZD8WgzVeR8D"
      },
      "execution_count": 285,
      "outputs": []
    },
    {
      "cell_type": "code",
      "source": [
        "def translate2(input_seq):\n",
        "    translation = ''\n",
        "    states_value = encoder_model2(input_seq)\n",
        "    target = np.zeros((1,1))\n",
        "    target[0,0] = frequency_dict_rus['<sos>']\n",
        "    stop_condition = False\n",
        "    while not stop_condition:\n",
        "        output_token,hidden_state,cell_state = decoder_model2([target]+states_value)\n",
        "        char_index = np.argmax(output_token[0,-1,:])\n",
        "        char = reverse_dict2[char_index]\n",
        "        if char == '<eos>' or len(translation)>=maxlenrus2:\n",
        "            stop_condition = True\n",
        "            continue\n",
        "        translation+=' '+char\n",
        "        states_value = [hidden_state,cell_state]\n",
        "        target[0,0] = frequency_dict_rus[char]\n",
        "    return translation"
      ],
      "metadata": {
        "id": "eoRUzXGArJav"
      },
      "execution_count": 286,
      "outputs": []
    },
    {
      "cell_type": "code",
      "source": [
        "text = np.random.choice(len(english[:15000]))\n",
        "input = encoder_pad[text:text+1]\n",
        "translation = translate2(input)\n",
        "print(english[text] ,' - ', translation)\n",
        "print('Правильный перевод: ', russian[text])"
      ],
      "metadata": {
        "colab": {
          "base_uri": "https://localhost:8080/"
        },
        "id": "nXtLDdHyiHJN",
        "outputId": "c370c23b-6d9a-459d-c5c9-c7874f05e0f8"
      },
      "execution_count": 300,
      "outputs": [
        {
          "output_type": "stream",
          "name": "stdout",
          "text": [
            "Dress warmly.  -   одевайтесь\n",
            "Правильный перевод:  Одевайся тепло.\n"
          ]
        }
      ]
    },
    {
      "cell_type": "code",
      "source": [
        "text = np.random.choice(len(english[:15000]))\n",
        "input = encoder_pad[text:text+1]\n",
        "translation = translate2(input)\n",
        "print(english[text] ,' - ', translation)\n",
        "print('Правильный перевод: ', russian[text])"
      ],
      "metadata": {
        "colab": {
          "base_uri": "https://localhost:8080/"
        },
        "id": "LHLD5f8WTmi-",
        "outputId": "d2279009-c095-43dd-c530-a145b3318901"
      },
      "execution_count": 317,
      "outputs": [
        {
          "output_type": "stream",
          "name": "stdout",
          "text": [
            "Let's go away.  -   давай пойдём\n",
            "Правильный перевод:  Давай уйдём.\n"
          ]
        }
      ]
    },
    {
      "cell_type": "code",
      "source": [
        "text = np.random.choice(len(english[:15000]))\n",
        "input = encoder_pad[text:text+1]\n",
        "translation = translate2(input)\n",
        "print(english[text] ,' - ', translation)\n",
        "print('Правильный перевод: ', russian[text])"
      ],
      "metadata": {
        "colab": {
          "base_uri": "https://localhost:8080/"
        },
        "id": "5xaJHY9PA2ma",
        "outputId": "455a17e2-af7e-4826-859e-3d937548295d"
      },
      "execution_count": 338,
      "outputs": [
        {
          "output_type": "stream",
          "name": "stdout",
          "text": [
            "I'm crazy.  -   я сумасшедший\n",
            "Правильный перевод:  Я сумасшедшая.\n"
          ]
        }
      ]
    },
    {
      "cell_type": "code",
      "source": [
        "text = np.random.choice(len(english[:15000]))\n",
        "input = encoder_pad[text:text+1]\n",
        "translation = translate2(input)\n",
        "print(english[text] ,' - ', translation)\n",
        "print('Правильный перевод: ', russian[text])"
      ],
      "metadata": {
        "colab": {
          "base_uri": "https://localhost:8080/"
        },
        "id": "h0-hFDBLA5fh",
        "outputId": "1311e0ed-2bb4-4ef7-a750-0f2f23f85f61"
      },
      "execution_count": 343,
      "outputs": [
        {
          "output_type": "stream",
          "name": "stdout",
          "text": [
            "Let's go out.  -   давай пойдём\n",
            "Правильный перевод:  Давайте куда-нибудь сходим.\n"
          ]
        }
      ]
    },
    {
      "cell_type": "markdown",
      "source": [
        "# Сравнение моделей, графики, тестирование"
      ],
      "metadata": {
        "id": "mRXche0PCCRI"
      }
    },
    {
      "cell_type": "code",
      "source": [
        "plt.subplot(2,1,1)\n",
        "plt.plot(model_fit.history['loss'])\n",
        "plt.plot(model_fit.history['val_loss'])\n",
        "plt.title('Loss score первой модели')\n",
        "plt.ylabel('loss')\n",
        "plt.xlabel('epoch')\n",
        "plt.grid()\n",
        "plt.legend(['train', 'validation'])\n",
        "\n",
        "plt.subplot(2,1,2)\n",
        "plt.plot(history.history['loss'])\n",
        "plt.plot(history.history['val_loss'])\n",
        "plt.title('Loss score второй модели')\n",
        "plt.ylabel('loss')\n",
        "plt.xlabel('epoch')\n",
        "plt.grid()\n",
        "plt.legend(['train', 'validation'])\n",
        "\n",
        "plt.subplots_adjust(hspace=0.7)\n",
        "plt.show()"
      ],
      "metadata": {
        "colab": {
          "base_uri": "https://localhost:8080/",
          "height": 472
        },
        "id": "J5SDQ76TA7SI",
        "outputId": "94eeffd5-8c11-4a38-dc9d-a6e7bdccc041"
      },
      "execution_count": 344,
      "outputs": [
        {
          "output_type": "display_data",
          "data": {
            "text/plain": [
              "<Figure size 640x480 with 2 Axes>"
            ],
            "image/png": "[encoded data removed]"
          },
          "metadata": {}
        }
      ]
    },
    {
      "cell_type": "code",
      "source": [
        "plt.subplot(2,1,1)\n",
        "plt.plot(model_fit.history['accuracy'])\n",
        "plt.plot(model_fit.history['val_accuracy'])\n",
        "plt.title('Loss score первой модели')\n",
        "plt.ylabel('accuracy')\n",
        "plt.xlabel('epoch')\n",
        "plt.grid()\n",
        "plt.legend(['train', 'validation'])\n",
        "\n",
        "plt.subplot(2,1,2)\n",
        "plt.plot(history.history['accuracy'])\n",
        "plt.plot(history.history['val_accuracy'])\n",
        "plt.title('Loss score второй модели')\n",
        "plt.ylabel('accuracy')\n",
        "plt.xlabel('epoch')\n",
        "plt.grid()\n",
        "plt.legend(['train', 'validation'])\n",
        "\n",
        "plt.subplots_adjust(hspace=0.7)\n",
        "plt.show()"
      ],
      "metadata": {
        "colab": {
          "base_uri": "https://localhost:8080/",
          "height": 472
        },
        "id": "EWE7lvpNDTiX",
        "outputId": "70f477eb-1367-4091-a7d4-2bda9e92de6f"
      },
      "execution_count": 345,
      "outputs": [
        {
          "output_type": "display_data",
          "data": {
            "text/plain": [
              "<Figure size 640x480 with 2 Axes>"
            ],
            "image/png": "[encoded data removed]"
          },
          "metadata": {}
        }
      ]
    },
    {
      "cell_type": "markdown",
      "source": [
        "Исходя из графиков, можно сказать, что модель, которая обучалась на самостоятельно обработанных данных показывает лучшую точность. Возможно, это из-за эмбеддинга, который осуществлялся отдельно через GloVe, так как эта модель обучалась на больших корпусах текста и лучше отражает близость слов.\n",
        "\n",
        "Accuracy первой модели = 0.53\n",
        "\n",
        "Accuracy второй модели = 0.61\n",
        "В принципе, обе модели имеют низкий accuracy, от того перевод не всегда совпадает/имеет смысл. Посмотрим так же на BLEU-score, который измеряет различия между эталонным переводом и переводом нашей модели:"
      ],
      "metadata": {
        "id": "HJeDutuTJSLb"
      }
    },
    {
      "cell_type": "code",
      "source": [
        "text = np.random.choice(len(english[:15000]))\n",
        "s = russian[text].lower()\n",
        "actual = [s.split()]\n",
        "input = encoder_pad[text:text+1]\n",
        "model_trans = translate2(input).split()\n",
        "\n",
        "print(\"BLEU Score ВТОРОЙ модели: \",bleu.sentence_bleu(actual, model_trans, weights = (0.5, 0.5)))"
      ],
      "metadata": {
        "colab": {
          "base_uri": "https://localhost:8080/"
        },
        "id": "-qiHyf4JGkb1",
        "outputId": "cd97d19e-d919-44c3-db2e-0b2ce6a48310"
      },
      "execution_count": 363,
      "outputs": [
        {
          "output_type": "stream",
          "name": "stdout",
          "text": [
            "BLEU Score ВТОРОЙ модели:  0.5773502691896257\n"
          ]
        }
      ]
    },
    {
      "cell_type": "code",
      "source": [
        "actual, model_trans"
      ],
      "metadata": {
        "colab": {
          "base_uri": "https://localhost:8080/"
        },
        "id": "Be0E6DW1Ipd-",
        "outputId": "e77a0bb5-c9fe-47df-edf7-cc53920d1f1a"
      },
      "execution_count": 364,
      "outputs": [
        {
          "output_type": "execute_result",
          "data": {
            "text/plain": [
              "([['я', 'люблю', 'готовить.']], ['я', 'люблю', 'чай'])"
            ]
          },
          "metadata": {},
          "execution_count": 364
        }
      ]
    },
    {
      "cell_type": "code",
      "source": [
        "\n",
        "model_trans = translate(input).split()\n",
        "\n",
        "print(\"BLEU Score ПЕРВОЙ модели: \",bleu.sentence_bleu(actual, model_trans, weights = (0.5, 0.5)))"
      ],
      "metadata": {
        "colab": {
          "base_uri": "https://localhost:8080/"
        },
        "id": "IemsWrbwIKzF",
        "outputId": "06432de7-5b6d-435b-9aa5-fbd8e13e2681"
      },
      "execution_count": 365,
      "outputs": [
        {
          "output_type": "stream",
          "name": "stdout",
          "text": [
            "BLEU Score ПЕРВОЙ модели:  0.5773502691896257\n"
          ]
        }
      ]
    },
    {
      "cell_type": "code",
      "source": [
        "text = np.random.choice(len(english[:15000]))\n",
        "s = russian[text].lower()\n",
        "actual = [s.split()]\n",
        "input = encoder_pad[text:text+1]\n",
        "model_trans = translate2(input).split()\n",
        "\n",
        "print(\"BLEU Score ВТОРОЙ модели: \",bleu.sentence_bleu(actual, model_trans, weights = (0.5, 0.5)))"
      ],
      "metadata": {
        "colab": {
          "base_uri": "https://localhost:8080/"
        },
        "id": "0GLgBnWCNFit",
        "outputId": "cd4b4bf0-5388-414b-f862-8e97356df86c"
      },
      "execution_count": 559,
      "outputs": [
        {
          "output_type": "stream",
          "name": "stdout",
          "text": [
            "BLEU Score ВТОРОЙ модели:  0.7165313105737893\n"
          ]
        }
      ]
    },
    {
      "cell_type": "code",
      "source": [
        "model_trans = translate(input).split()\n",
        "\n",
        "print(\"BLEU Score ПЕРВОЙ модели: \",bleu.sentence_bleu(actual, model_trans, weights = (0.5, 0.5)))"
      ],
      "metadata": {
        "colab": {
          "base_uri": "https://localhost:8080/"
        },
        "id": "Ot5_tBMmNFuX",
        "outputId": "707f1798-2361-41cf-b4bc-0966c7f93737"
      },
      "execution_count": 560,
      "outputs": [
        {
          "output_type": "stream",
          "name": "stdout",
          "text": [
            "BLEU Score ПЕРВОЙ модели:  0\n"
          ]
        }
      ]
    },
    {
      "cell_type": "code",
      "source": [
        "actual, model_trans"
      ],
      "metadata": {
        "colab": {
          "base_uri": "https://localhost:8080/"
        },
        "id": "J6dm-QxyNXSQ",
        "outputId": "f815e797-db7b-4d3a-d218-182d3594371b"
      },
      "execution_count": 561,
      "outputs": [
        {
          "output_type": "execute_result",
          "data": {
            "text/plain": [
              "([['у', 'нас', 'есть', 'еда.']], ['мы', 'можем', 'в'])"
            ]
          },
          "metadata": {},
          "execution_count": 561
        }
      ]
    },
    {
      "cell_type": "markdown",
      "source": [
        "Как мы видим, ни одна модель не показала BLEU-score равный 1, значит ни одно предложение не было переведено правильно до конца. Мы так же можем снова убедиться, что вторая модель работает лучше первой"
      ],
      "metadata": {
        "id": "6LT4TZNlNfFi"
      }
    },
    {
      "cell_type": "markdown",
      "source": [
        "# Вывод"
      ],
      "metadata": {
        "id": "8TDaCEPMJIfR"
      }
    },
    {
      "cell_type": "markdown",
      "source": [
        "Для NLP крайне необходимо предварительно обрабатывать данные и осуществлять некие преобразования. NLP модели требуют такие операции, как токенизация, дополнение (padding), векторизация и некоторые другие, если того требует модель. В ходе этой работы были проведены все вышеперечисленные методы в двух вариантах. В первом преобразования осуществлялись с помощью библиотек, во втором с помощью самостоятельного ручного преобразования. Так как для построения модели использовалось всего 15.000 предложений и каждая модель обучалась только 25 эпох, то не удивительно, что она не всегда точно предсказывает перевод. Скорее всего модель недообучена. Однако обработать большее количество данных не позволяет объем хранилища компьютера."
      ],
      "metadata": {
        "id": "UK5qqa3JJF94"
      }
    }
  ],
  "metadata": {
    "colab": {
      "provenance": [],
      "gpuType": "T4"
    },
    "kernelspec": {
      "display_name": "Python 3",
      "name": "python3"
    },
    "language_info": {
      "name": "python"
    },
    "accelerator": "GPU"
  },
  "nbformat": 4,
  "nbformat_minor": 0
}